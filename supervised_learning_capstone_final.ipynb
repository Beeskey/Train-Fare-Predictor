{
 "cells": [
  {
   "cell_type": "code",
   "execution_count": 1,
   "metadata": {},
   "outputs": [],
   "source": [
    "from datetime import date, datetime, timedelta\n",
    "import statistics\n",
    "import numpy as np\n",
    "import pandas as pd\n",
    "from scipy.stats import pearsonr, f_oneway, ttest_ind\n",
    "import matplotlib.pyplot as plt\n",
    "%matplotlib inline\n",
    "from sklearn import preprocessing\n",
    "from sklearn import ensemble\n",
    "from sklearn.metrics import make_scorer, accuracy_score\n",
    "from sklearn.model_selection import cross_val_score, train_test_split, ParameterGrid, RandomizedSearchCV, GridSearchCV\n",
    "from sklearn.svm import SVR, LinearSVR\n",
    "from sklearn.neural_network import MLPRegressor\n",
    "import seaborn as sns\n",
    "import xgboost as xgb\n",
    "import joblib"
   ]
  },
  {
   "cell_type": "code",
   "execution_count": 2,
   "metadata": {},
   "outputs": [],
   "source": [
    "#import data\n",
    "data = pd.read_csv('~/python_files/sp_high_speed_rail.csv')"
   ]
  },
  {
   "cell_type": "code",
   "execution_count": 3,
   "metadata": {},
   "outputs": [
    {
     "name": "stdout",
     "output_type": "stream",
     "text": [
      "Unnamed: 0       int64\n",
      "insert_date     object\n",
      "origin          object\n",
      "destination     object\n",
      "start_date      object\n",
      "end_date        object\n",
      "train_type      object\n",
      "price          float64\n",
      "train_class     object\n",
      "fare            object\n",
      "dtype: object\n"
     ]
    },
    {
     "data": {
      "text/html": [
       "<div>\n",
       "<style scoped>\n",
       "    .dataframe tbody tr th:only-of-type {\n",
       "        vertical-align: middle;\n",
       "    }\n",
       "\n",
       "    .dataframe tbody tr th {\n",
       "        vertical-align: top;\n",
       "    }\n",
       "\n",
       "    .dataframe thead th {\n",
       "        text-align: right;\n",
       "    }\n",
       "</style>\n",
       "<table border=\"1\" class=\"dataframe\">\n",
       "  <thead>\n",
       "    <tr style=\"text-align: right;\">\n",
       "      <th></th>\n",
       "      <th>Unnamed: 0</th>\n",
       "      <th>insert_date</th>\n",
       "      <th>origin</th>\n",
       "      <th>destination</th>\n",
       "      <th>start_date</th>\n",
       "      <th>end_date</th>\n",
       "      <th>train_type</th>\n",
       "      <th>price</th>\n",
       "      <th>train_class</th>\n",
       "      <th>fare</th>\n",
       "    </tr>\n",
       "  </thead>\n",
       "  <tbody>\n",
       "    <tr>\n",
       "      <th>0</th>\n",
       "      <td>0</td>\n",
       "      <td>2019-04-19 05:31:43</td>\n",
       "      <td>MADRID</td>\n",
       "      <td>SEVILLA</td>\n",
       "      <td>2019-05-29 06:20:00</td>\n",
       "      <td>2019-05-29 09:16:00</td>\n",
       "      <td>AV City</td>\n",
       "      <td>38.55</td>\n",
       "      <td>Turista</td>\n",
       "      <td>Promo</td>\n",
       "    </tr>\n",
       "    <tr>\n",
       "      <th>1</th>\n",
       "      <td>1</td>\n",
       "      <td>2019-04-19 05:31:43</td>\n",
       "      <td>MADRID</td>\n",
       "      <td>SEVILLA</td>\n",
       "      <td>2019-05-29 07:00:00</td>\n",
       "      <td>2019-05-29 09:32:00</td>\n",
       "      <td>AVE</td>\n",
       "      <td>53.40</td>\n",
       "      <td>Turista</td>\n",
       "      <td>Promo</td>\n",
       "    </tr>\n",
       "    <tr>\n",
       "      <th>2</th>\n",
       "      <td>2</td>\n",
       "      <td>2019-04-19 05:31:43</td>\n",
       "      <td>MADRID</td>\n",
       "      <td>SEVILLA</td>\n",
       "      <td>2019-05-29 07:30:00</td>\n",
       "      <td>2019-05-29 09:51:00</td>\n",
       "      <td>AVE</td>\n",
       "      <td>47.30</td>\n",
       "      <td>Turista</td>\n",
       "      <td>Promo</td>\n",
       "    </tr>\n",
       "    <tr>\n",
       "      <th>3</th>\n",
       "      <td>3</td>\n",
       "      <td>2019-04-19 05:31:43</td>\n",
       "      <td>MADRID</td>\n",
       "      <td>SEVILLA</td>\n",
       "      <td>2019-05-29 08:00:00</td>\n",
       "      <td>2019-05-29 10:32:00</td>\n",
       "      <td>AVE</td>\n",
       "      <td>69.40</td>\n",
       "      <td>Preferente</td>\n",
       "      <td>Promo</td>\n",
       "    </tr>\n",
       "    <tr>\n",
       "      <th>4</th>\n",
       "      <td>4</td>\n",
       "      <td>2019-04-19 05:31:43</td>\n",
       "      <td>MADRID</td>\n",
       "      <td>SEVILLA</td>\n",
       "      <td>2019-05-29 08:30:00</td>\n",
       "      <td>2019-05-29 11:14:00</td>\n",
       "      <td>ALVIA</td>\n",
       "      <td>NaN</td>\n",
       "      <td>Turista</td>\n",
       "      <td>Promo</td>\n",
       "    </tr>\n",
       "  </tbody>\n",
       "</table>\n",
       "</div>"
      ],
      "text/plain": [
       "   Unnamed: 0          insert_date  origin destination           start_date  \\\n",
       "0           0  2019-04-19 05:31:43  MADRID     SEVILLA  2019-05-29 06:20:00   \n",
       "1           1  2019-04-19 05:31:43  MADRID     SEVILLA  2019-05-29 07:00:00   \n",
       "2           2  2019-04-19 05:31:43  MADRID     SEVILLA  2019-05-29 07:30:00   \n",
       "3           3  2019-04-19 05:31:43  MADRID     SEVILLA  2019-05-29 08:00:00   \n",
       "4           4  2019-04-19 05:31:43  MADRID     SEVILLA  2019-05-29 08:30:00   \n",
       "\n",
       "              end_date train_type  price train_class   fare  \n",
       "0  2019-05-29 09:16:00    AV City  38.55     Turista  Promo  \n",
       "1  2019-05-29 09:32:00        AVE  53.40     Turista  Promo  \n",
       "2  2019-05-29 09:51:00        AVE  47.30     Turista  Promo  \n",
       "3  2019-05-29 10:32:00        AVE  69.40  Preferente  Promo  \n",
       "4  2019-05-29 11:14:00      ALVIA    NaN     Turista  Promo  "
      ]
     },
     "execution_count": 3,
     "metadata": {},
     "output_type": "execute_result"
    }
   ],
   "source": [
    "# explore data\n",
    "print(data.dtypes)\n",
    "data.head()"
   ]
  },
  {
   "cell_type": "code",
   "execution_count": 4,
   "metadata": {},
   "outputs": [],
   "source": [
    "# Drop unneeded trip ID column\n",
    "data.drop(['Unnamed: 0', 'insert_date'], axis='columns', inplace=True)"
   ]
  },
  {
   "cell_type": "code",
   "execution_count": 5,
   "metadata": {},
   "outputs": [
    {
     "data": {
      "text/html": [
       "<div>\n",
       "<style scoped>\n",
       "    .dataframe tbody tr th:only-of-type {\n",
       "        vertical-align: middle;\n",
       "    }\n",
       "\n",
       "    .dataframe tbody tr th {\n",
       "        vertical-align: top;\n",
       "    }\n",
       "\n",
       "    .dataframe thead th {\n",
       "        text-align: right;\n",
       "    }\n",
       "</style>\n",
       "<table border=\"1\" class=\"dataframe\">\n",
       "  <thead>\n",
       "    <tr style=\"text-align: right;\">\n",
       "      <th></th>\n",
       "      <th>origin</th>\n",
       "      <th>destination</th>\n",
       "      <th>start_date</th>\n",
       "      <th>end_date</th>\n",
       "      <th>train_type</th>\n",
       "      <th>price</th>\n",
       "      <th>train_class</th>\n",
       "      <th>fare</th>\n",
       "    </tr>\n",
       "  </thead>\n",
       "  <tbody>\n",
       "    <tr>\n",
       "      <th>2579766</th>\n",
       "      <td>MADRID</td>\n",
       "      <td>SEVILLA</td>\n",
       "      <td>2019-05-30 19:00:00</td>\n",
       "      <td>2019-05-30 21:38:00</td>\n",
       "      <td>AVE</td>\n",
       "      <td>76.30</td>\n",
       "      <td>Turista</td>\n",
       "      <td>Flexible</td>\n",
       "    </tr>\n",
       "    <tr>\n",
       "      <th>2579767</th>\n",
       "      <td>MADRID</td>\n",
       "      <td>SEVILLA</td>\n",
       "      <td>2019-05-30 19:30:00</td>\n",
       "      <td>2019-05-30 22:05:00</td>\n",
       "      <td>AVE</td>\n",
       "      <td>76.30</td>\n",
       "      <td>Turista</td>\n",
       "      <td>Flexible</td>\n",
       "    </tr>\n",
       "    <tr>\n",
       "      <th>2579768</th>\n",
       "      <td>MADRID</td>\n",
       "      <td>SEVILLA</td>\n",
       "      <td>2019-05-30 20:00:00</td>\n",
       "      <td>2019-05-30 22:21:00</td>\n",
       "      <td>AVE</td>\n",
       "      <td>72.30</td>\n",
       "      <td>Turista Plus</td>\n",
       "      <td>Promo</td>\n",
       "    </tr>\n",
       "    <tr>\n",
       "      <th>2579769</th>\n",
       "      <td>MADRID</td>\n",
       "      <td>SEVILLA</td>\n",
       "      <td>2019-05-30 20:35:00</td>\n",
       "      <td>2019-05-30 23:15:00</td>\n",
       "      <td>AVE</td>\n",
       "      <td>76.30</td>\n",
       "      <td>Turista</td>\n",
       "      <td>Flexible</td>\n",
       "    </tr>\n",
       "    <tr>\n",
       "      <th>2579770</th>\n",
       "      <td>MADRID</td>\n",
       "      <td>SEVILLA</td>\n",
       "      <td>2019-05-30 21:25:00</td>\n",
       "      <td>2019-05-31 00:10:00</td>\n",
       "      <td>AV City</td>\n",
       "      <td>49.15</td>\n",
       "      <td>Turista</td>\n",
       "      <td>Promo</td>\n",
       "    </tr>\n",
       "  </tbody>\n",
       "</table>\n",
       "</div>"
      ],
      "text/plain": [
       "         origin destination           start_date             end_date  \\\n",
       "2579766  MADRID     SEVILLA  2019-05-30 19:00:00  2019-05-30 21:38:00   \n",
       "2579767  MADRID     SEVILLA  2019-05-30 19:30:00  2019-05-30 22:05:00   \n",
       "2579768  MADRID     SEVILLA  2019-05-30 20:00:00  2019-05-30 22:21:00   \n",
       "2579769  MADRID     SEVILLA  2019-05-30 20:35:00  2019-05-30 23:15:00   \n",
       "2579770  MADRID     SEVILLA  2019-05-30 21:25:00  2019-05-31 00:10:00   \n",
       "\n",
       "        train_type  price   train_class      fare  \n",
       "2579766        AVE  76.30       Turista  Flexible  \n",
       "2579767        AVE  76.30       Turista  Flexible  \n",
       "2579768        AVE  72.30  Turista Plus     Promo  \n",
       "2579769        AVE  76.30       Turista  Flexible  \n",
       "2579770    AV City  49.15       Turista     Promo  "
      ]
     },
     "execution_count": 5,
     "metadata": {},
     "output_type": "execute_result"
    }
   ],
   "source": [
    "data.tail()"
   ]
  },
  {
   "cell_type": "code",
   "execution_count": 6,
   "metadata": {},
   "outputs": [
    {
     "data": {
      "text/plain": [
       "count    2.269090e+06\n",
       "mean     6.338550e+01\n",
       "std      2.578319e+01\n",
       "min      1.545000e+01\n",
       "25%      4.375000e+01\n",
       "50%      6.030000e+01\n",
       "75%      7.880000e+01\n",
       "max      2.142000e+02\n",
       "Name: price, dtype: float64"
      ]
     },
     "execution_count": 6,
     "metadata": {},
     "output_type": "execute_result"
    }
   ],
   "source": [
    "#all other columns are object data, so let's describe the price column.\n",
    "data.price.describe()"
   ]
  },
  {
   "cell_type": "markdown",
   "metadata": {},
   "source": [
    "Looks like we are missing some rows, so we'll have to address that."
   ]
  },
  {
   "cell_type": "code",
   "execution_count": 7,
   "metadata": {},
   "outputs": [
    {
     "name": "stdout",
     "output_type": "stream",
     "text": [
      "column: origin\n",
      "unique vals: 5\n",
      "nan vals: 0\n",
      "\n",
      "column: destination\n",
      "unique vals: 5\n",
      "nan vals: 0\n",
      "\n",
      "column: start_date\n",
      "unique vals: 8090\n",
      "nan vals: 0\n",
      "\n",
      "column: end_date\n",
      "unique vals: 10736\n",
      "nan vals: 0\n",
      "\n",
      "column: train_type\n",
      "unique vals: 16\n",
      "nan vals: 0\n",
      "\n",
      "column: price\n",
      "unique vals: 225\n",
      "nan vals: 310681\n",
      "\n",
      "column: train_class\n",
      "unique vals: 6\n",
      "nan vals: 9664\n",
      "\n",
      "column: fare\n",
      "unique vals: 7\n",
      "nan vals: 9664\n",
      "\n"
     ]
    }
   ],
   "source": [
    "#perform any manipulations to fix the data for modeling\n",
    "#Check unique values and NaNs for each column, excluding the trip ID column\n",
    "for col in data.columns:\n",
    "    column = data[col]\n",
    "    print('column:', col)\n",
    "    print('unique vals:', column.nunique())\n",
    "    print('nan vals:', column.isnull().sum())\n",
    "    print()"
   ]
  },
  {
   "cell_type": "markdown",
   "metadata": {},
   "source": [
    "It's looking like we have some clear candidates for creating dummy variables (origin, destination, train_type, train_class, and fare). We can also turn the start_date and end_date into useful variables by subtracting to get a trip duration, and possibly making dummy columns for day of week or time of day (morning, midday, night). But first, let's look into the null values.\n",
    "\n",
    "### Addressing Nan values\n",
    "\n",
    "Our train_class and fare columns have the same number of Nan values. Do they occur in the same rows?"
   ]
  },
  {
   "cell_type": "code",
   "execution_count": 8,
   "metadata": {},
   "outputs": [
    {
     "data": {
      "text/html": [
       "<div>\n",
       "<style scoped>\n",
       "    .dataframe tbody tr th:only-of-type {\n",
       "        vertical-align: middle;\n",
       "    }\n",
       "\n",
       "    .dataframe tbody tr th {\n",
       "        vertical-align: top;\n",
       "    }\n",
       "\n",
       "    .dataframe thead th {\n",
       "        text-align: right;\n",
       "    }\n",
       "</style>\n",
       "<table border=\"1\" class=\"dataframe\">\n",
       "  <thead>\n",
       "    <tr style=\"text-align: right;\">\n",
       "      <th></th>\n",
       "      <th>origin</th>\n",
       "      <th>destination</th>\n",
       "      <th>start_date</th>\n",
       "      <th>end_date</th>\n",
       "      <th>train_type</th>\n",
       "      <th>price</th>\n",
       "      <th>train_class</th>\n",
       "      <th>fare</th>\n",
       "    </tr>\n",
       "  </thead>\n",
       "  <tbody>\n",
       "  </tbody>\n",
       "</table>\n",
       "</div>"
      ],
      "text/plain": [
       "Empty DataFrame\n",
       "Columns: [origin, destination, start_date, end_date, train_type, price, train_class, fare]\n",
       "Index: []"
      ]
     },
     "execution_count": 8,
     "metadata": {},
     "output_type": "execute_result"
    }
   ],
   "source": [
    "nas = data[data['fare'].isna()]\n",
    "nas[~nas['train_class'].isna()]"
   ]
  },
  {
   "cell_type": "markdown",
   "metadata": {},
   "source": [
    "They completely overlap. And is there any overlap with the price column Nan values?"
   ]
  },
  {
   "cell_type": "code",
   "execution_count": 9,
   "metadata": {},
   "outputs": [
    {
     "data": {
      "text/html": [
       "<div>\n",
       "<style scoped>\n",
       "    .dataframe tbody tr th:only-of-type {\n",
       "        vertical-align: middle;\n",
       "    }\n",
       "\n",
       "    .dataframe tbody tr th {\n",
       "        vertical-align: top;\n",
       "    }\n",
       "\n",
       "    .dataframe thead th {\n",
       "        text-align: right;\n",
       "    }\n",
       "</style>\n",
       "<table border=\"1\" class=\"dataframe\">\n",
       "  <thead>\n",
       "    <tr style=\"text-align: right;\">\n",
       "      <th></th>\n",
       "      <th>origin</th>\n",
       "      <th>destination</th>\n",
       "      <th>start_date</th>\n",
       "      <th>end_date</th>\n",
       "      <th>train_type</th>\n",
       "      <th>price</th>\n",
       "      <th>train_class</th>\n",
       "      <th>fare</th>\n",
       "    </tr>\n",
       "  </thead>\n",
       "  <tbody>\n",
       "  </tbody>\n",
       "</table>\n",
       "</div>"
      ],
      "text/plain": [
       "Empty DataFrame\n",
       "Columns: [origin, destination, start_date, end_date, train_type, price, train_class, fare]\n",
       "Index: []"
      ]
     },
     "execution_count": 9,
     "metadata": {},
     "output_type": "execute_result"
    }
   ],
   "source": [
    "nas[~nas['price'].isna()]"
   ]
  },
  {
   "cell_type": "markdown",
   "metadata": {},
   "source": [
    "There is! Because all three rows share their Nans, and price is our target, removing all rows with Nan prices will take care of our problem."
   ]
  },
  {
   "cell_type": "code",
   "execution_count": 10,
   "metadata": {},
   "outputs": [
    {
     "data": {
      "text/plain": [
       "2269090"
      ]
     },
     "execution_count": 10,
     "metadata": {},
     "output_type": "execute_result"
    }
   ],
   "source": [
    "data = data[data['price'].notnull()]\n",
    "data.shape[0]"
   ]
  },
  {
   "cell_type": "markdown",
   "metadata": {},
   "source": [
    "And we still have a huge amount of data to work with.\n",
    "\n",
    "Now, to create some kind of useful data from our start_date and end_date columns, let's calculate a \"trip_duration\" column by subtracting start from end."
   ]
  },
  {
   "cell_type": "code",
   "execution_count": 11,
   "metadata": {},
   "outputs": [
    {
     "data": {
      "text/html": [
       "<div>\n",
       "<style scoped>\n",
       "    .dataframe tbody tr th:only-of-type {\n",
       "        vertical-align: middle;\n",
       "    }\n",
       "\n",
       "    .dataframe tbody tr th {\n",
       "        vertical-align: top;\n",
       "    }\n",
       "\n",
       "    .dataframe thead th {\n",
       "        text-align: right;\n",
       "    }\n",
       "</style>\n",
       "<table border=\"1\" class=\"dataframe\">\n",
       "  <thead>\n",
       "    <tr style=\"text-align: right;\">\n",
       "      <th></th>\n",
       "      <th>origin</th>\n",
       "      <th>destination</th>\n",
       "      <th>start_date</th>\n",
       "      <th>end_date</th>\n",
       "      <th>train_type</th>\n",
       "      <th>price</th>\n",
       "      <th>train_class</th>\n",
       "      <th>fare</th>\n",
       "      <th>trip_duration</th>\n",
       "    </tr>\n",
       "  </thead>\n",
       "  <tbody>\n",
       "    <tr>\n",
       "      <th>0</th>\n",
       "      <td>MADRID</td>\n",
       "      <td>SEVILLA</td>\n",
       "      <td>2019-05-29 06:20:00</td>\n",
       "      <td>2019-05-29 09:16:00</td>\n",
       "      <td>AV City</td>\n",
       "      <td>38.55</td>\n",
       "      <td>Turista</td>\n",
       "      <td>Promo</td>\n",
       "      <td>10560.0</td>\n",
       "    </tr>\n",
       "    <tr>\n",
       "      <th>1</th>\n",
       "      <td>MADRID</td>\n",
       "      <td>SEVILLA</td>\n",
       "      <td>2019-05-29 07:00:00</td>\n",
       "      <td>2019-05-29 09:32:00</td>\n",
       "      <td>AVE</td>\n",
       "      <td>53.40</td>\n",
       "      <td>Turista</td>\n",
       "      <td>Promo</td>\n",
       "      <td>9120.0</td>\n",
       "    </tr>\n",
       "    <tr>\n",
       "      <th>2</th>\n",
       "      <td>MADRID</td>\n",
       "      <td>SEVILLA</td>\n",
       "      <td>2019-05-29 07:30:00</td>\n",
       "      <td>2019-05-29 09:51:00</td>\n",
       "      <td>AVE</td>\n",
       "      <td>47.30</td>\n",
       "      <td>Turista</td>\n",
       "      <td>Promo</td>\n",
       "      <td>8460.0</td>\n",
       "    </tr>\n",
       "    <tr>\n",
       "      <th>3</th>\n",
       "      <td>MADRID</td>\n",
       "      <td>SEVILLA</td>\n",
       "      <td>2019-05-29 08:00:00</td>\n",
       "      <td>2019-05-29 10:32:00</td>\n",
       "      <td>AVE</td>\n",
       "      <td>69.40</td>\n",
       "      <td>Preferente</td>\n",
       "      <td>Promo</td>\n",
       "      <td>9120.0</td>\n",
       "    </tr>\n",
       "    <tr>\n",
       "      <th>5</th>\n",
       "      <td>MADRID</td>\n",
       "      <td>SEVILLA</td>\n",
       "      <td>2019-05-29 09:00:00</td>\n",
       "      <td>2019-05-29 11:38:00</td>\n",
       "      <td>AVE</td>\n",
       "      <td>60.30</td>\n",
       "      <td>Turista</td>\n",
       "      <td>Promo</td>\n",
       "      <td>9480.0</td>\n",
       "    </tr>\n",
       "  </tbody>\n",
       "</table>\n",
       "</div>"
      ],
      "text/plain": [
       "   origin destination          start_date            end_date train_type  \\\n",
       "0  MADRID     SEVILLA 2019-05-29 06:20:00 2019-05-29 09:16:00    AV City   \n",
       "1  MADRID     SEVILLA 2019-05-29 07:00:00 2019-05-29 09:32:00        AVE   \n",
       "2  MADRID     SEVILLA 2019-05-29 07:30:00 2019-05-29 09:51:00        AVE   \n",
       "3  MADRID     SEVILLA 2019-05-29 08:00:00 2019-05-29 10:32:00        AVE   \n",
       "5  MADRID     SEVILLA 2019-05-29 09:00:00 2019-05-29 11:38:00        AVE   \n",
       "\n",
       "   price train_class   fare  trip_duration  \n",
       "0  38.55     Turista  Promo        10560.0  \n",
       "1  53.40     Turista  Promo         9120.0  \n",
       "2  47.30     Turista  Promo         8460.0  \n",
       "3  69.40  Preferente  Promo         9120.0  \n",
       "5  60.30     Turista  Promo         9480.0  "
      ]
     },
     "execution_count": 11,
     "metadata": {},
     "output_type": "execute_result"
    }
   ],
   "source": [
    "# A column with trip durations would perhaps be more helpful than the start and end dates. \n",
    "# Probably best formatted in seconds.\n",
    "data['start_date'] = pd.to_datetime(data['start_date'])\n",
    "data['end_date'] = pd.to_datetime(data['end_date'])\n",
    "data['trip_duration'] = (data['end_date'] - data['start_date'])/np.timedelta64(1, 's')\n",
    "data.head()"
   ]
  },
  {
   "cell_type": "markdown",
   "metadata": {},
   "source": [
    "# Visualizations\n",
    "\n",
    "Time to begin visually inspecting our data. For starters let's check out our numeric variables, both univariate and bivariate.\n",
    "\n",
    "### Numeric predictors: trip_duration and price"
   ]
  },
  {
   "cell_type": "code",
   "execution_count": 14,
   "metadata": {},
   "outputs": [
    {
     "data": {
      "image/png": "[encoded data removed]",
      "text/plain": [
       "<Figure size 1080x1440 with 4 Axes>"
      ]
     },
     "metadata": {
      "needs_background": "light"
     },
     "output_type": "display_data"
    },
    {
     "data": {
      "image/png": "[encoded data removed]",
      "text/plain": [
       "<Figure size 432x432 with 3 Axes>"
      ]
     },
     "metadata": {
      "needs_background": "light"
     },
     "output_type": "display_data"
    },
    {
     "name": "stdout",
     "output_type": "stream",
     "text": [
      "Correlation Coefficient and p-value:\n"
     ]
    },
    {
     "data": {
      "text/plain": [
       "(-0.2967237585821424, 0.0)"
      ]
     },
     "execution_count": 14,
     "metadata": {},
     "output_type": "execute_result"
    }
   ],
   "source": [
    "#Visually explore the data. Begin here with univariate analysis\n",
    "plt.figure(figsize=(15, 20))\n",
    "\n",
    "plt.subplot(3, 2, 1)\n",
    "sns.boxplot(data=data.trip_duration, orient='h')\n",
    "plt.title('Distribution of trips by trip duration, boxplot')\n",
    "\n",
    "plt.subplot(3, 2, 2)\n",
    "sns.distplot(data.trip_duration, kde=False)\n",
    "plt.title('Distribution of trips by trip duration, histogram')\n",
    "plt.xticks(rotation=45)\n",
    "\n",
    "plt.subplot(3, 2, 3)\n",
    "sns.boxplot(data=data.price, orient='h')\n",
    "plt.title('Distribution of trips by price, boxplot')\n",
    "\n",
    "plt.subplot(3, 2, 4)\n",
    "sns.distplot(data.price, kde=False)\n",
    "plt.title('Distribution of trips by price, histogram')\n",
    "\n",
    "#plt.subplot(3, 2, 5)\n",
    "sns.jointplot(x='trip_duration', y='price', data=data)\n",
    "plt.suptitle('Prices by Trip Duration Jointplot')\n",
    "\n",
    "plt.tight_layout()\n",
    "plt.show()\n",
    "\n",
    "print('Correlation Coefficient and p-value:')\n",
    "pearsonr(data.trip_duration, data.price)"
   ]
  },
  {
   "cell_type": "markdown",
   "metadata": {},
   "source": [
    "From the upper plots we can see that both trip_duration and price have right skewed distributions, though considering the size of the data set, price looks much closer to normal.\n",
    "\n",
    "There are many outliers for trip_duration and a few for price. For now, these are acceptable, again, due to the size of the data set and because we are curious about predicting all tickets for the range of prices.\n",
    "\n",
    "From the bivariate plot we can see a rough curve to the data that looks reminiscent of an inverse relationship, with a few outliers in the center.\n",
    "\n",
    "A Pearson's Correlation Coefficient shows a weak negative linear relationship, as expected from the bivariate plot. Due to the skewed nature of these two columns of data, especially price, this is understandable. Because we're working with more advanced models and many predictors, I will leave these for now and continue analysis.\n",
    "\n",
    "### Categorical predictors: origin, destination, train_type, train_class, and fare\n",
    "\n",
    "### Origin city:"
   ]
  },
  {
   "cell_type": "code",
   "execution_count": 15,
   "metadata": {},
   "outputs": [
    {
     "data": {
      "image/png": "[encoded data removed]",
      "text/plain": [
       "<Figure size 1080x504 with 2 Axes>"
      ]
     },
     "metadata": {
      "needs_background": "light"
     },
     "output_type": "display_data"
    },
    {
     "name": "stdout",
     "output_type": "stream",
     "text": [
      "ANOVA test f-statistic and p-value:\n"
     ]
    },
    {
     "data": {
      "text/plain": [
       "F_onewayResult(statistic=196350.87934270225, pvalue=0.0)"
      ]
     },
     "execution_count": 15,
     "metadata": {},
     "output_type": "execute_result"
    }
   ],
   "source": [
    "# Plot origin distplot and origin vs price multiple boxplot\n",
    "plt.figure(figsize=(15, 7))\n",
    "\n",
    "plt.subplot(1, 2, 1)\n",
    "sns.countplot(x='origin', data=data, order=['MADRID', 'BARCELONA', 'PONFERRADA', 'SEVILLA', 'VALENCIA'])\n",
    "plt.title('Distribution of trips by origin city')\n",
    "plt.xticks(rotation=45)\n",
    "\n",
    "plt.subplot(1, 2, 2)\n",
    "sns.boxplot(x='origin', y='price', data=data, order=['MADRID', 'BARCELONA', 'PONFERRADA', 'SEVILLA', 'VALENCIA'])\n",
    "plt.title('Fare prices by origin city')\n",
    "plt.show()\n",
    "\n",
    "print('ANOVA test f-statistic and p-value:')\n",
    "f_oneway(data[data['origin']=='MADRID']['price'],\n",
    "        data[data['origin']=='BARCELONA']['price'],\n",
    "        data[data['origin']=='PONFERRADA']['price'],\n",
    "        data[data['origin']=='SEVILLA']['price'],\n",
    "        data[data['origin']=='VALENCIA']['price'])"
   ]
  },
  {
   "cell_type": "markdown",
   "metadata": {},
   "source": [
    "We can see that Madrid departures account for nearly half of the fares in our data, with the widest range of prices as well. Given the nearly 1.2 million fares for Madrid, the outliers seen on the boxplot seem acceptable to me. The same with all the others, as well. Barcelona, with the second highest number of departures, has much higher median \n",
    "ticket prices than the rest of the origin cities and similar outliers as Madrid.\n",
    "\n",
    "The ANOVA test confirms what we can see visually - we would have to reject the null hypothesis that the means are consistent across all values of the 'origin' column. \n",
    "\n",
    "### Destination City:"
   ]
  },
  {
   "cell_type": "code",
   "execution_count": 16,
   "metadata": {},
   "outputs": [
    {
     "data": {
      "image/png": "[encoded data removed]",
      "text/plain": [
       "<Figure size 1080x504 with 2 Axes>"
      ]
     },
     "metadata": {
      "needs_background": "light"
     },
     "output_type": "display_data"
    },
    {
     "name": "stdout",
     "output_type": "stream",
     "text": [
      "ANOVA test f-statistic and p-value:\n"
     ]
    },
    {
     "data": {
      "text/plain": [
       "F_onewayResult(statistic=206932.33538192467, pvalue=0.0)"
      ]
     },
     "execution_count": 16,
     "metadata": {},
     "output_type": "execute_result"
    }
   ],
   "source": [
    "# Plot destination distplot and origin vs price multiple boxplot\n",
    "plt.figure(figsize=(15, 7))\n",
    "\n",
    "plt.subplot(1, 2, 1)\n",
    "sns.countplot(x='destination', data=data, order=['MADRID', 'BARCELONA', 'PONFERRADA', 'SEVILLA', 'VALENCIA'])\n",
    "plt.title('Distribution of trips by destination city')\n",
    "plt.xticks(rotation=45)\n",
    "\n",
    "plt.subplot(1, 2, 2)\n",
    "sns.boxplot(x='destination', y='price', data=data, order=['MADRID', 'BARCELONA', 'PONFERRADA', 'SEVILLA', 'VALENCIA'])\n",
    "plt.title('Fare prices by destination city')\n",
    "plt.show()\n",
    "\n",
    "print('ANOVA test f-statistic and p-value:')\n",
    "f_oneway(data[data['destination']=='MADRID']['price'],\n",
    "        data[data['destination']=='BARCELONA']['price'],\n",
    "        data[data['destination']=='PONFERRADA']['price'],\n",
    "        data[data['destination']=='SEVILLA']['price'],\n",
    "        data[data['destination']=='VALENCIA']['price'])"
   ]
  },
  {
   "cell_type": "markdown",
   "metadata": {},
   "source": [
    "These plots appear very similar to those of 'origin', with Madrid having the highest number of trips, but Barcelona having the highest median fare price. Outliers exist for all categories, but aren't a huge concern as we have so many data points.\n",
    "\n",
    "Again, the ANOVA test tells us that our means are not the same across the values of 'destination.'\n",
    "\n",
    "### Train Type:"
   ]
  },
  {
   "cell_type": "code",
   "execution_count": 17,
   "metadata": {},
   "outputs": [
    {
     "data": {
      "image/png": "[encoded data removed]",
      "text/plain": [
       "<Figure size 1080x504 with 2 Axes>"
      ]
     },
     "metadata": {
      "needs_background": "light"
     },
     "output_type": "display_data"
    },
    {
     "name": "stdout",
     "output_type": "stream",
     "text": [
      "ANOVA test f-statistic and p-value:\n"
     ]
    },
    {
     "data": {
      "text/plain": [
       "F_onewayResult(statistic=62765.067208457076, pvalue=0.0)"
      ]
     },
     "execution_count": 17,
     "metadata": {},
     "output_type": "execute_result"
    }
   ],
   "source": [
    "# Plot train_type distplot and boxplot against price\n",
    "plt.figure(figsize=(15, 7))\n",
    "\n",
    "plt.subplot(1, 2, 1)\n",
    "sns.countplot(x='train_type', data=data)\n",
    "plt.title('Number of Fares by Train Type')\n",
    "plt.xticks(rotation=45)\n",
    "\n",
    "plt.subplot(1, 2, 2)\n",
    "sns.boxplot(x='train_type', y='price', data=data)\n",
    "plt.title('Price Distribition by Train Type')\n",
    "plt.xticks(rotation=45)\n",
    "plt.show()\n",
    "\n",
    "print('ANOVA test f-statistic and p-value:')\n",
    "f_oneway(data[data['train_type']=='AV City']['price'],\n",
    "        data[data['train_type']=='AVE']['price'],\n",
    "        data[data['train_type']=='INTERCITY']['price'],\n",
    "        data[data['train_type']=='ALVIA']['price'],\n",
    "        data[data['train_type']=='MD-LD']['price'],\n",
    "        data[data['train_type']=='MD']['price'],\n",
    "        data[data['train_type']=='LD-MD']['price'],\n",
    "        data[data['train_type']=='LD']['price'],\n",
    "        data[data['train_type']=='MD-AVE']['price'],\n",
    "        data[data['train_type']=='TRENHOTEL']['price'],\n",
    "        data[data['train_type']=='REGIONAL']['price'],\n",
    "        data[data['train_type']=='AVE-MD']['price'],\n",
    "        data[data['train_type']=='AVE-LD']['price'],\n",
    "        data[data['train_type']=='R. EXPRES']['price'],\n",
    "        data[data['train_type']=='AVE-TGV']['price'],)"
   ]
  },
  {
   "cell_type": "markdown",
   "metadata": {},
   "source": [
    "AVE appears as the most prominent in the train_type category with over 1.6 million trips. As with previous plots, our most common category also has the widest distribution of prices with many outliers. We also see in our boxplot that AVE and AVE-TGV have higher median prices than the rest of the train types. While AVE likely serves all fare classes (economy, luxury), AVE-TGV may be a more luxurious, faster, or regional train that must charge more.\n",
    "\n",
    "TRENHOTEL, the second most common train type, has one of the wider price ranges, as well, though it appears to only have 3 distinct pricepoints.\n",
    "\n",
    "Our ANOVA confirms the observation that the means are not consistent across all train types.\n",
    "\n",
    "### Train Class:"
   ]
  },
  {
   "cell_type": "code",
   "execution_count": 18,
   "metadata": {},
   "outputs": [
    {
     "data": {
      "image/png": "[encoded data removed]",
      "text/plain": [
       "<Figure size 1080x504 with 2 Axes>"
      ]
     },
     "metadata": {
      "needs_background": "light"
     },
     "output_type": "display_data"
    },
    {
     "name": "stdout",
     "output_type": "stream",
     "text": [
      "ANOVA test f-statistic and p-value:\n"
     ]
    },
    {
     "data": {
      "text/plain": [
       "F_onewayResult(statistic=76518.49499671294, pvalue=0.0)"
      ]
     },
     "execution_count": 18,
     "metadata": {},
     "output_type": "execute_result"
    }
   ],
   "source": [
    "# PLot train_class countplot and boxplot with price\n",
    "plt.figure(figsize=(15, 7))\n",
    "\n",
    "plt.subplot(1, 2, 1)\n",
    "sns.countplot(x='train_class', data=data)\n",
    "plt.title('Number of Fares by Train Class')\n",
    "plt.xticks(rotation=45)\n",
    "\n",
    "plt.subplot(1, 2, 2)\n",
    "sns.boxplot(x='train_class', y='price', data=data)\n",
    "plt.title('Price Distribution by Train Class')\n",
    "plt.xticks(rotation=45)\n",
    "plt.show()\n",
    "\n",
    "print('ANOVA test f-statistic and p-value:')\n",
    "f_oneway(data[data['train_class']=='Turista']['price'],\n",
    "        data[data['train_class']=='Preferente']['price'],\n",
    "        data[data['train_class']=='Turista con enlace']['price'],\n",
    "        data[data['train_class']=='Turista Plus']['price'],\n",
    "        data[data['train_class']=='Cama G. Clase']['price'],\n",
    "        data[data['train_class']=='Cama Turista']['price'])"
   ]
  },
  {
   "cell_type": "markdown",
   "metadata": {},
   "source": [
    "Turista class trains account for over 3/4 of the trips, with the second lowest median price per trip. Turista Plus and Preferente have the most outliers. Both of the \"Cama\" class trains ('bed' in english, sleeper trains) are each a fixed rate and account for very few of the trains as seen on the left plot.\n",
    "\n",
    "Again the ANOVA test p-value is very low and we can confirm the means are different.\n",
    "\n",
    "### Fare Type:"
   ]
  },
  {
   "cell_type": "code",
   "execution_count": 19,
   "metadata": {},
   "outputs": [
    {
     "data": {
      "image/png": "[encoded data removed]",
      "text/plain": [
       "<Figure size 1080x504 with 2 Axes>"
      ]
     },
     "metadata": {
      "needs_background": "light"
     },
     "output_type": "display_data"
    },
    {
     "name": "stdout",
     "output_type": "stream",
     "text": [
      "ANOVA test f-statistic and p-value:\n"
     ]
    },
    {
     "data": {
      "text/plain": [
       "F_onewayResult(statistic=132415.14351684504, pvalue=0.0)"
      ]
     },
     "execution_count": 19,
     "metadata": {},
     "output_type": "execute_result"
    }
   ],
   "source": [
    "# Plot fare type countplot and boxplot w price\n",
    "plt.figure(figsize=(15, 7))\n",
    "\n",
    "plt.subplot(1, 2, 1)\n",
    "sns.countplot(x='fare', data=data)\n",
    "plt.title('Distribution of Trips by Fare Type')\n",
    "plt.xticks(rotation=45)\n",
    "\n",
    "plt.subplot(1, 2, 2)\n",
    "sns.boxplot(x='fare', y='price', data=data)\n",
    "plt.title('Price Distribution by Fare Type')\n",
    "plt.xticks(rotation=45)\n",
    "plt.show()\n",
    "\n",
    "print('ANOVA test f-statistic and p-value:')\n",
    "f_oneway(data[data['fare']=='Promo']['price'],\n",
    "        data[data['fare']=='Flexible']['price'],\n",
    "        data[data['fare']=='Promo +']['price'],\n",
    "        data[data['fare']=='Individual-Flexible']['price'],\n",
    "        data[data['fare']=='Adulto ida']['price'],\n",
    "        data[data['fare']=='Mesa']['price'],\n",
    "        data[data['fare']=='Grupos Ida']['price'])"
   ]
  },
  {
   "cell_type": "code",
   "execution_count": 20,
   "metadata": {},
   "outputs": [
    {
     "data": {
      "text/plain": [
       "array([172.4, 206.8])"
      ]
     },
     "execution_count": 20,
     "metadata": {},
     "output_type": "execute_result"
    }
   ],
   "source": [
    "data[data['fare']=='Mesa']['price'].unique()"
   ]
  },
  {
   "cell_type": "markdown",
   "metadata": {},
   "source": [
    "Fares also show similar variation. \"Promo\" and \"Flexible\" have wider IQR's with multiple outliers above, \"Promo+\" has a very small IQR but more outliers. We then come to a few unusual cases: it appears that \"Individual-Flexible\" and \"Grupos Ida\" are only single fare tickets, \"Adulto ida\" gets two values, but predominantly the lower, and \"Mesa\" fares are only 2 discrete values, giving the appearance of a box with no median or whiskers. 'Individual-Flexible', 'Mesa', and 'Grupos Ida' show very low representation on the countplot, so their unusual nature won't be of much concern.\n",
    "\n",
    "Our ANOVA test tells us that our null hypothesis can be rejected, there is difference in means between different fare types.\n",
    "\n",
    "## Feature Engineering\n",
    "\n",
    "Now that we have a better understanding of the starting data, we'll get into engineering a few date-time related features that may help us improve model accuracies."
   ]
  },
  {
   "cell_type": "code",
   "execution_count": 12,
   "metadata": {},
   "outputs": [
    {
     "data": {
      "text/html": [
       "<div>\n",
       "<style scoped>\n",
       "    .dataframe tbody tr th:only-of-type {\n",
       "        vertical-align: middle;\n",
       "    }\n",
       "\n",
       "    .dataframe tbody tr th {\n",
       "        vertical-align: top;\n",
       "    }\n",
       "\n",
       "    .dataframe thead th {\n",
       "        text-align: right;\n",
       "    }\n",
       "</style>\n",
       "<table border=\"1\" class=\"dataframe\">\n",
       "  <thead>\n",
       "    <tr style=\"text-align: right;\">\n",
       "      <th></th>\n",
       "      <th>price</th>\n",
       "      <th>trip_duration</th>\n",
       "      <th>origin_BARCELONA</th>\n",
       "      <th>origin_MADRID</th>\n",
       "      <th>origin_PONFERRADA</th>\n",
       "      <th>origin_SEVILLA</th>\n",
       "      <th>origin_VALENCIA</th>\n",
       "      <th>destination_BARCELONA</th>\n",
       "      <th>destination_MADRID</th>\n",
       "      <th>destination_PONFERRADA</th>\n",
       "      <th>...</th>\n",
       "      <th>train_class_Turista</th>\n",
       "      <th>train_class_Turista Plus</th>\n",
       "      <th>train_class_Turista con enlace</th>\n",
       "      <th>fare_Adulto ida</th>\n",
       "      <th>fare_Flexible</th>\n",
       "      <th>fare_Grupos Ida</th>\n",
       "      <th>fare_Individual-Flexible</th>\n",
       "      <th>fare_Mesa</th>\n",
       "      <th>fare_Promo</th>\n",
       "      <th>fare_Promo +</th>\n",
       "    </tr>\n",
       "  </thead>\n",
       "  <tbody>\n",
       "    <tr>\n",
       "      <th>0</th>\n",
       "      <td>38.55</td>\n",
       "      <td>10560.0</td>\n",
       "      <td>0</td>\n",
       "      <td>1</td>\n",
       "      <td>0</td>\n",
       "      <td>0</td>\n",
       "      <td>0</td>\n",
       "      <td>0</td>\n",
       "      <td>0</td>\n",
       "      <td>0</td>\n",
       "      <td>...</td>\n",
       "      <td>1</td>\n",
       "      <td>0</td>\n",
       "      <td>0</td>\n",
       "      <td>0</td>\n",
       "      <td>0</td>\n",
       "      <td>0</td>\n",
       "      <td>0</td>\n",
       "      <td>0</td>\n",
       "      <td>1</td>\n",
       "      <td>0</td>\n",
       "    </tr>\n",
       "    <tr>\n",
       "      <th>1</th>\n",
       "      <td>53.40</td>\n",
       "      <td>9120.0</td>\n",
       "      <td>0</td>\n",
       "      <td>1</td>\n",
       "      <td>0</td>\n",
       "      <td>0</td>\n",
       "      <td>0</td>\n",
       "      <td>0</td>\n",
       "      <td>0</td>\n",
       "      <td>0</td>\n",
       "      <td>...</td>\n",
       "      <td>1</td>\n",
       "      <td>0</td>\n",
       "      <td>0</td>\n",
       "      <td>0</td>\n",
       "      <td>0</td>\n",
       "      <td>0</td>\n",
       "      <td>0</td>\n",
       "      <td>0</td>\n",
       "      <td>1</td>\n",
       "      <td>0</td>\n",
       "    </tr>\n",
       "    <tr>\n",
       "      <th>2</th>\n",
       "      <td>47.30</td>\n",
       "      <td>8460.0</td>\n",
       "      <td>0</td>\n",
       "      <td>1</td>\n",
       "      <td>0</td>\n",
       "      <td>0</td>\n",
       "      <td>0</td>\n",
       "      <td>0</td>\n",
       "      <td>0</td>\n",
       "      <td>0</td>\n",
       "      <td>...</td>\n",
       "      <td>1</td>\n",
       "      <td>0</td>\n",
       "      <td>0</td>\n",
       "      <td>0</td>\n",
       "      <td>0</td>\n",
       "      <td>0</td>\n",
       "      <td>0</td>\n",
       "      <td>0</td>\n",
       "      <td>1</td>\n",
       "      <td>0</td>\n",
       "    </tr>\n",
       "    <tr>\n",
       "      <th>3</th>\n",
       "      <td>69.40</td>\n",
       "      <td>9120.0</td>\n",
       "      <td>0</td>\n",
       "      <td>1</td>\n",
       "      <td>0</td>\n",
       "      <td>0</td>\n",
       "      <td>0</td>\n",
       "      <td>0</td>\n",
       "      <td>0</td>\n",
       "      <td>0</td>\n",
       "      <td>...</td>\n",
       "      <td>0</td>\n",
       "      <td>0</td>\n",
       "      <td>0</td>\n",
       "      <td>0</td>\n",
       "      <td>0</td>\n",
       "      <td>0</td>\n",
       "      <td>0</td>\n",
       "      <td>0</td>\n",
       "      <td>1</td>\n",
       "      <td>0</td>\n",
       "    </tr>\n",
       "    <tr>\n",
       "      <th>5</th>\n",
       "      <td>60.30</td>\n",
       "      <td>9480.0</td>\n",
       "      <td>0</td>\n",
       "      <td>1</td>\n",
       "      <td>0</td>\n",
       "      <td>0</td>\n",
       "      <td>0</td>\n",
       "      <td>0</td>\n",
       "      <td>0</td>\n",
       "      <td>0</td>\n",
       "      <td>...</td>\n",
       "      <td>1</td>\n",
       "      <td>0</td>\n",
       "      <td>0</td>\n",
       "      <td>0</td>\n",
       "      <td>0</td>\n",
       "      <td>0</td>\n",
       "      <td>0</td>\n",
       "      <td>0</td>\n",
       "      <td>1</td>\n",
       "      <td>0</td>\n",
       "    </tr>\n",
       "  </tbody>\n",
       "</table>\n",
       "<p>5 rows × 40 columns</p>\n",
       "</div>"
      ],
      "text/plain": [
       "   price  trip_duration  origin_BARCELONA  origin_MADRID  origin_PONFERRADA  \\\n",
       "0  38.55        10560.0                 0              1                  0   \n",
       "1  53.40         9120.0                 0              1                  0   \n",
       "2  47.30         8460.0                 0              1                  0   \n",
       "3  69.40         9120.0                 0              1                  0   \n",
       "5  60.30         9480.0                 0              1                  0   \n",
       "\n",
       "   origin_SEVILLA  origin_VALENCIA  destination_BARCELONA  destination_MADRID  \\\n",
       "0               0                0                      0                   0   \n",
       "1               0                0                      0                   0   \n",
       "2               0                0                      0                   0   \n",
       "3               0                0                      0                   0   \n",
       "5               0                0                      0                   0   \n",
       "\n",
       "   destination_PONFERRADA  ...  train_class_Turista  train_class_Turista Plus  \\\n",
       "0                       0  ...                    1                         0   \n",
       "1                       0  ...                    1                         0   \n",
       "2                       0  ...                    1                         0   \n",
       "3                       0  ...                    0                         0   \n",
       "5                       0  ...                    1                         0   \n",
       "\n",
       "   train_class_Turista con enlace  fare_Adulto ida  fare_Flexible  \\\n",
       "0                               0                0              0   \n",
       "1                               0                0              0   \n",
       "2                               0                0              0   \n",
       "3                               0                0              0   \n",
       "5                               0                0              0   \n",
       "\n",
       "   fare_Grupos Ida  fare_Individual-Flexible  fare_Mesa  fare_Promo  \\\n",
       "0                0                         0          0           1   \n",
       "1                0                         0          0           1   \n",
       "2                0                         0          0           1   \n",
       "3                0                         0          0           1   \n",
       "5                0                         0          0           1   \n",
       "\n",
       "   fare_Promo +  \n",
       "0             0  \n",
       "1             0  \n",
       "2             0  \n",
       "3             0  \n",
       "5             0  \n",
       "\n",
       "[5 rows x 40 columns]"
      ]
     },
     "execution_count": 12,
     "metadata": {},
     "output_type": "execute_result"
    }
   ],
   "source": [
    "# origin, destination, train_type, train_class, and fare all need to be dummied\n",
    "features = data.copy()\n",
    "features = pd.get_dummies(features, columns=['origin', 'destination', 'train_type', 'train_class', 'fare'])\n",
    "features.drop(['start_date', 'end_date'], axis=1, inplace=True)\n",
    "features.head()"
   ]
  },
  {
   "cell_type": "code",
   "execution_count": 13,
   "metadata": {},
   "outputs": [
    {
     "name": "stdout",
     "output_type": "stream",
     "text": [
      "datetime64[ns]\n"
     ]
    }
   ],
   "source": [
    "print(data.start_date.dtype)"
   ]
  },
  {
   "cell_type": "code",
   "execution_count": 14,
   "metadata": {},
   "outputs": [
    {
     "data": {
      "text/plain": [
       "0   2019-05-29 06:20:00\n",
       "1   2019-05-29 07:00:00\n",
       "2   2019-05-29 07:30:00\n",
       "3   2019-05-29 08:00:00\n",
       "5   2019-05-29 09:00:00\n",
       "Name: start_date, dtype: datetime64[ns]"
      ]
     },
     "execution_count": 14,
     "metadata": {},
     "output_type": "execute_result"
    }
   ],
   "source": [
    "data.start_date.head(5)"
   ]
  },
  {
   "cell_type": "code",
   "execution_count": 15,
   "metadata": {},
   "outputs": [],
   "source": [
    "data['weekday'] = data['start_date'].dt.weekday"
   ]
  },
  {
   "cell_type": "code",
   "execution_count": 16,
   "metadata": {},
   "outputs": [
    {
     "data": {
      "text/plain": [
       "0    2\n",
       "1    2\n",
       "2    2\n",
       "3    2\n",
       "5    2\n",
       "Name: weekday, dtype: int64"
      ]
     },
     "execution_count": 16,
     "metadata": {},
     "output_type": "execute_result"
    }
   ],
   "source": [
    "data.weekday.head(5)"
   ]
  },
  {
   "cell_type": "code",
   "execution_count": 17,
   "metadata": {},
   "outputs": [
    {
     "data": {
      "text/plain": [
       "array([2, 1, 6, 5, 4, 3, 0])"
      ]
     },
     "execution_count": 17,
     "metadata": {},
     "output_type": "execute_result"
    }
   ],
   "source": [
    "#Need to check on which value the week starts\n",
    "data.weekday.unique()"
   ]
  },
  {
   "cell_type": "code",
   "execution_count": 18,
   "metadata": {},
   "outputs": [
    {
     "data": {
      "text/html": [
       "<div>\n",
       "<style scoped>\n",
       "    .dataframe tbody tr th:only-of-type {\n",
       "        vertical-align: middle;\n",
       "    }\n",
       "\n",
       "    .dataframe tbody tr th {\n",
       "        vertical-align: top;\n",
       "    }\n",
       "\n",
       "    .dataframe thead th {\n",
       "        text-align: right;\n",
       "    }\n",
       "</style>\n",
       "<table border=\"1\" class=\"dataframe\">\n",
       "  <thead>\n",
       "    <tr style=\"text-align: right;\">\n",
       "      <th></th>\n",
       "      <th>sat_sun</th>\n",
       "      <th>fri_mon</th>\n",
       "      <th>midweek</th>\n",
       "    </tr>\n",
       "  </thead>\n",
       "  <tbody>\n",
       "    <tr>\n",
       "      <th>0</th>\n",
       "      <td>0</td>\n",
       "      <td>0</td>\n",
       "      <td>1</td>\n",
       "    </tr>\n",
       "    <tr>\n",
       "      <th>1</th>\n",
       "      <td>0</td>\n",
       "      <td>0</td>\n",
       "      <td>1</td>\n",
       "    </tr>\n",
       "    <tr>\n",
       "      <th>2</th>\n",
       "      <td>0</td>\n",
       "      <td>0</td>\n",
       "      <td>1</td>\n",
       "    </tr>\n",
       "    <tr>\n",
       "      <th>3</th>\n",
       "      <td>0</td>\n",
       "      <td>0</td>\n",
       "      <td>1</td>\n",
       "    </tr>\n",
       "    <tr>\n",
       "      <th>5</th>\n",
       "      <td>0</td>\n",
       "      <td>0</td>\n",
       "      <td>1</td>\n",
       "    </tr>\n",
       "    <tr>\n",
       "      <th>6</th>\n",
       "      <td>0</td>\n",
       "      <td>0</td>\n",
       "      <td>1</td>\n",
       "    </tr>\n",
       "    <tr>\n",
       "      <th>7</th>\n",
       "      <td>0</td>\n",
       "      <td>0</td>\n",
       "      <td>1</td>\n",
       "    </tr>\n",
       "    <tr>\n",
       "      <th>8</th>\n",
       "      <td>0</td>\n",
       "      <td>0</td>\n",
       "      <td>1</td>\n",
       "    </tr>\n",
       "    <tr>\n",
       "      <th>10</th>\n",
       "      <td>0</td>\n",
       "      <td>0</td>\n",
       "      <td>1</td>\n",
       "    </tr>\n",
       "  </tbody>\n",
       "</table>\n",
       "</div>"
      ],
      "text/plain": [
       "    sat_sun  fri_mon  midweek\n",
       "0         0        0        1\n",
       "1         0        0        1\n",
       "2         0        0        1\n",
       "3         0        0        1\n",
       "5         0        0        1\n",
       "6         0        0        1\n",
       "7         0        0        1\n",
       "8         0        0        1\n",
       "10        0        0        1"
      ]
     },
     "execution_count": 18,
     "metadata": {},
     "output_type": "execute_result"
    }
   ],
   "source": [
    "#Create features of weekend days, weekend adjacent days, and the rest (middle of week)\n",
    "features['sat_sun'] = np.where((data['weekday'] == 5) | (data['weekday'] == 6), 1, 0)\n",
    "features['fri_mon'] = np.where((data['weekday'] == 0) | (data['weekday'] == 4), 1, 0)\n",
    "features['midweek'] = np.where((data['weekday'] == 1) | (data['weekday'] == 2) | (data['weekday'] == 3), 1, 0)\n",
    "\n",
    "#Check it works\n",
    "features.iloc[:9, 40:]"
   ]
  },
  {
   "cell_type": "markdown",
   "metadata": {},
   "source": [
    "#### Creating an hour column based on start_date so I can create features of departure windows."
   ]
  },
  {
   "cell_type": "code",
   "execution_count": 19,
   "metadata": {},
   "outputs": [
    {
     "data": {
      "text/html": [
       "<div>\n",
       "<style scoped>\n",
       "    .dataframe tbody tr th:only-of-type {\n",
       "        vertical-align: middle;\n",
       "    }\n",
       "\n",
       "    .dataframe tbody tr th {\n",
       "        vertical-align: top;\n",
       "    }\n",
       "\n",
       "    .dataframe thead th {\n",
       "        text-align: right;\n",
       "    }\n",
       "</style>\n",
       "<table border=\"1\" class=\"dataframe\">\n",
       "  <thead>\n",
       "    <tr style=\"text-align: right;\">\n",
       "      <th></th>\n",
       "      <th>dep_8-12</th>\n",
       "      <th>dep_12-16</th>\n",
       "      <th>dep_16-20</th>\n",
       "      <th>dep_20-8</th>\n",
       "    </tr>\n",
       "  </thead>\n",
       "  <tbody>\n",
       "    <tr>\n",
       "      <th>0</th>\n",
       "      <td>0</td>\n",
       "      <td>0</td>\n",
       "      <td>0</td>\n",
       "      <td>1</td>\n",
       "    </tr>\n",
       "    <tr>\n",
       "      <th>1</th>\n",
       "      <td>0</td>\n",
       "      <td>0</td>\n",
       "      <td>0</td>\n",
       "      <td>1</td>\n",
       "    </tr>\n",
       "    <tr>\n",
       "      <th>2</th>\n",
       "      <td>0</td>\n",
       "      <td>0</td>\n",
       "      <td>0</td>\n",
       "      <td>1</td>\n",
       "    </tr>\n",
       "    <tr>\n",
       "      <th>3</th>\n",
       "      <td>1</td>\n",
       "      <td>0</td>\n",
       "      <td>0</td>\n",
       "      <td>0</td>\n",
       "    </tr>\n",
       "    <tr>\n",
       "      <th>5</th>\n",
       "      <td>1</td>\n",
       "      <td>0</td>\n",
       "      <td>0</td>\n",
       "      <td>0</td>\n",
       "    </tr>\n",
       "    <tr>\n",
       "      <th>6</th>\n",
       "      <td>1</td>\n",
       "      <td>0</td>\n",
       "      <td>0</td>\n",
       "      <td>0</td>\n",
       "    </tr>\n",
       "    <tr>\n",
       "      <th>7</th>\n",
       "      <td>1</td>\n",
       "      <td>0</td>\n",
       "      <td>0</td>\n",
       "      <td>0</td>\n",
       "    </tr>\n",
       "    <tr>\n",
       "      <th>8</th>\n",
       "      <td>1</td>\n",
       "      <td>0</td>\n",
       "      <td>0</td>\n",
       "      <td>0</td>\n",
       "    </tr>\n",
       "    <tr>\n",
       "      <th>10</th>\n",
       "      <td>0</td>\n",
       "      <td>1</td>\n",
       "      <td>0</td>\n",
       "      <td>0</td>\n",
       "    </tr>\n",
       "  </tbody>\n",
       "</table>\n",
       "</div>"
      ],
      "text/plain": [
       "    dep_8-12  dep_12-16  dep_16-20  dep_20-8\n",
       "0          0          0          0         1\n",
       "1          0          0          0         1\n",
       "2          0          0          0         1\n",
       "3          1          0          0         0\n",
       "5          1          0          0         0\n",
       "6          1          0          0         0\n",
       "7          1          0          0         0\n",
       "8          1          0          0         0\n",
       "10         0          1          0         0"
      ]
     },
     "execution_count": 19,
     "metadata": {},
     "output_type": "execute_result"
    }
   ],
   "source": [
    "#Create Hour column\n",
    "data['hour'] = data['start_date'].dt.hour\n",
    "\n",
    "#Create columns for different depart windows\n",
    "features['dep_8-12'] = np.where((data['hour'] >= 8) & (data['hour'] < 12), 1, 0)\n",
    "features['dep_12-16'] = np.where((data['hour'] >= 12) & (data['hour'] < 16), 1, 0)\n",
    "features['dep_16-20'] = np.where((data['hour'] >= 16) & (data['hour'] < 20), 1, 0)\n",
    "features['dep_20-8'] = np.where((data['hour'] >= 20) | (data['hour'] < 8), 1, 0)\n",
    "\n",
    "#check it worked\n",
    "features.iloc[:9, 43:]"
   ]
  },
  {
   "cell_type": "markdown",
   "metadata": {},
   "source": [
    "# Create a custom scorer and split off a testing data set for evaluation\n",
    "\n",
    "In order to provide a more useful metric to translate our findings into a business application, I will create a custom error function for the root mean squared logarithmic error (RMSLE). This business interest could be accurately predicting ticket prices for an app. RMSLE will help our analysis for a few reasons:\n",
    "    \n",
    "1. It is more robust to outliers than RMSE, and we kept all the outliers in our data set.\n",
    "    \n",
    "2. It penalizes more heavily underestimates than overestimates - this could be desirable in the case of an app where underquoting prices could leave customers upset and likely to rate your app poorly. If you overquote them, they will be pleasantly surprised when they find out the price is less.\n",
    "    \n",
    "3. Following along that previous point, RMSLE measures a relative error. We aren't working with a large range of ticket prices, but there's still a significant difference in a 10 Euro error from a 15 Euro ticket vs a 150 Euro ticket.\n",
    "\n",
    "I will use this metric as a final evaluation for each tuned model on a 20% holdout set from the initial data. "
   ]
  },
  {
   "cell_type": "code",
   "execution_count": 20,
   "metadata": {},
   "outputs": [],
   "source": [
    "# Define Root Mean Squared Logarithmic Error function for use in project\n",
    "def rmsle (actual, predicted):\n",
    "    #conver to np.array, just to be safe.\n",
    "    actual = np.array(actual)\n",
    "    predicted = np.array(predicted)\n",
    "    total_loss = 0.0\n",
    "    for row in range(len(actual)):\n",
    "        total_loss += (np.log(actual[row] + 1) - np.log(predicted[row] + 1)) ** 2\n",
    "    return (total_loss / len(actual)) ** 0.5\n",
    "\n",
    "# Create custom scorer to use this metric in cross validation\n",
    "custom_scorer = make_scorer(rmsle, greater_is_better=False)"
   ]
  },
  {
   "cell_type": "code",
   "execution_count": 21,
   "metadata": {},
   "outputs": [],
   "source": [
    "#Create training shuffle split\n",
    "X = features.drop('price', axis=1)\n",
    "Y = features['price']\n",
    "X_train, X_test, Y_train, Y_test = train_test_split(X, Y, test_size=0.2, random_state=87)"
   ]
  },
  {
   "cell_type": "markdown",
   "metadata": {},
   "source": [
    "# LinearSVR model"
   ]
  },
  {
   "cell_type": "code",
   "execution_count": 131,
   "metadata": {},
   "outputs": [
    {
     "name": "stdout",
     "output_type": "stream",
     "text": [
      "[LibLinear]"
     ]
    },
    {
     "data": {
      "text/plain": [
       "['sup_capston_lin_svr.joblib']"
      ]
     },
     "execution_count": 131,
     "metadata": {},
     "output_type": "execute_result"
    }
   ],
   "source": [
    "svr_model = LinearSVR(C=1, loss='squared_epsilon_insensitive', dual=False, verbose=1, random_state=87)\n",
    "svr_model.fit(X_train, Y_train)\n",
    "joblib.dump(svr_model, 'sup_capston_lin_svr.joblib')"
   ]
  },
  {
   "cell_type": "code",
   "execution_count": 132,
   "metadata": {},
   "outputs": [],
   "source": [
    "svr_model = joblib.load('sup_capston_lin_svr.joblib')\n",
    "svm_y_pred = svr_model.predict(X_test)"
   ]
  },
  {
   "cell_type": "code",
   "execution_count": 133,
   "metadata": {},
   "outputs": [
    {
     "data": {
      "text/plain": [
       "0.714153575048095"
      ]
     },
     "execution_count": 133,
     "metadata": {},
     "output_type": "execute_result"
    }
   ],
   "source": [
    "rmsle(Y_test, svm_y_pred)"
   ]
  },
  {
   "cell_type": "markdown",
   "metadata": {},
   "source": [
    "# Random Forest Regressor:\n",
    "\n",
    "We'll start with a RandomizedSearchCV and a wide range of grid values. This will help us narrow things down, from which point we can perform a GridSearchCV to further tune and optimize our hyperparameters.\n",
    "\n",
    "Let's start with making our test parameters grid."
   ]
  },
  {
   "cell_type": "code",
   "execution_count": 135,
   "metadata": {},
   "outputs": [
    {
     "name": "stdout",
     "output_type": "stream",
     "text": [
      "{'n_estimators': [100, 325, 550, 775, 1000], 'max_depth': [4, 7, 10, None], 'min_samples_split': [2, 5, 10], 'min_samples_leaf': [1, 2, 4], 'bootstrap': [True, False]}\n"
     ]
    }
   ],
   "source": [
    "#number of trees\n",
    "n_estimators = [int(x) for x in np.linspace(start=100, stop=1000, num=5)]\n",
    "#Max node depth\n",
    "max_depth = [int(x) for x in np.linspace(start=4, stop=10, num=3)]\n",
    "max_depth.append(None)\n",
    "#Minimum samples to split a node\n",
    "min_samples_split = [2, 5, 10]\n",
    "#Minimum samples left at each leaf\n",
    "min_samples_leaf = [1, 2, 4]\n",
    "#set bootstrap to sampling with or without replacement\n",
    "bootstrap = [True, False]\n",
    "\n",
    "random_grid = {'n_estimators' : n_estimators,\n",
    "              'max_depth' : max_depth,\n",
    "              'min_samples_split' : min_samples_split,\n",
    "              'min_samples_leaf' : min_samples_leaf,\n",
    "              'bootstrap' : bootstrap}\n",
    "\n",
    "print(random_grid)"
   ]
  },
  {
   "cell_type": "markdown",
   "metadata": {},
   "source": [
    "## RandomizedSearchCV"
   ]
  },
  {
   "cell_type": "code",
   "execution_count": 136,
   "metadata": {},
   "outputs": [
    {
     "name": "stdout",
     "output_type": "stream",
     "text": [
      "Fitting 3 folds for each of 3 candidates, totalling 9 fits\n"
     ]
    },
    {
     "name": "stderr",
     "output_type": "stream",
     "text": [
      "[Parallel(n_jobs=-2)]: Using backend LokyBackend with 3 concurrent workers.\n",
      "[Parallel(n_jobs=-2)]: Done   9 out of   9 | elapsed: 319.6min finished\n"
     ]
    },
    {
     "data": {
      "text/plain": [
       "RandomizedSearchCV(cv=3, error_score='raise-deprecating',\n",
       "                   estimator=RandomForestRegressor(bootstrap=True,\n",
       "                                                   criterion='mse',\n",
       "                                                   max_depth=None,\n",
       "                                                   max_features='auto',\n",
       "                                                   max_leaf_nodes=None,\n",
       "                                                   min_impurity_decrease=0.0,\n",
       "                                                   min_impurity_split=None,\n",
       "                                                   min_samples_leaf=1,\n",
       "                                                   min_samples_split=2,\n",
       "                                                   min_weight_fraction_leaf=0.0,\n",
       "                                                   n_estimators='warn',\n",
       "                                                   n_jobs=None, oob_score=False,\n",
       "                                                   random_state=None, verbose=0,\n",
       "                                                   warm_start=False),\n",
       "                   iid='warn', n_iter=3, n_jobs=-2,\n",
       "                   param_distributions={'bootstrap': [True, False],\n",
       "                                        'max_depth': [4, 7, 10, None],\n",
       "                                        'min_samples_leaf': [1, 2, 4],\n",
       "                                        'min_samples_split': [2, 5, 10],\n",
       "                                        'n_estimators': [100, 325, 550, 775,\n",
       "                                                         1000]},\n",
       "                   pre_dispatch='2*n_jobs', random_state=87, refit=True,\n",
       "                   return_train_score=False, scoring=None, verbose=1)"
      ]
     },
     "execution_count": 136,
     "metadata": {},
     "output_type": "execute_result"
    }
   ],
   "source": [
    "#instantiate rfregressor model to use with randomized search\n",
    "#rf = ensemble.RandomForestRegressor()\n",
    "\n",
    "# search across 100 different combinations, and use all available cores\n",
    "rfr_random = RandomizedSearchCV(estimator = ensemble.RandomForestRegressor(), param_distributions = random_grid, \n",
    "                                n_iter = 3, cv = 3, n_jobs = -2, verbose=1, random_state=87)\n",
    "rfr_random.fit(X_train, Y_train)"
   ]
  },
  {
   "cell_type": "code",
   "execution_count": 137,
   "metadata": {
    "scrolled": true
   },
   "outputs": [
    {
     "data": {
      "text/plain": [
       "{'n_estimators': 775,\n",
       " 'min_samples_split': 2,\n",
       " 'min_samples_leaf': 2,\n",
       " 'max_depth': None,\n",
       " 'bootstrap': False}"
      ]
     },
     "execution_count": 137,
     "metadata": {},
     "output_type": "execute_result"
    }
   ],
   "source": [
    "rfr_random.best_params_"
   ]
  },
  {
   "cell_type": "code",
   "execution_count": 138,
   "metadata": {},
   "outputs": [
    {
     "data": {
      "text/plain": [
       "['sup_capstone_randsearch.joblib']"
      ]
     },
     "execution_count": 138,
     "metadata": {},
     "output_type": "execute_result"
    }
   ],
   "source": [
    "rfr_rand = rfr_random.best_estimator_\n",
    "rfr_rand.fit(X_train, Y_train)\n",
    "joblib.dump(rfr_rand, 'sup_capstone_randsearch.joblib')"
   ]
  },
  {
   "cell_type": "code",
   "execution_count": 139,
   "metadata": {},
   "outputs": [
    {
     "name": "stdout",
     "output_type": "stream",
     "text": [
      "0.1412821538052816\n"
     ]
    }
   ],
   "source": [
    "rfr_rand = joblib.load('sup_capstone_randsearch.joblib')\n",
    "Y_pred = rfr_rand.predict(X_test)\n",
    "print(rmsle(Y_test, Y_pred))"
   ]
  },
  {
   "cell_type": "markdown",
   "metadata": {},
   "source": [
    "Now that we have results that are better than the default parameters we used, let's use GridSearchCV to get the best results we can.\n",
    "\n",
    "## Apply to GridSearchCV"
   ]
  },
  {
   "cell_type": "code",
   "execution_count": 47,
   "metadata": {},
   "outputs": [
    {
     "name": "stdout",
     "output_type": "stream",
     "text": [
      "Fitting 3 folds for each of 12 candidates, totalling 36 fits\n"
     ]
    },
    {
     "name": "stderr",
     "output_type": "stream",
     "text": [
      "[Parallel(n_jobs=-2)]: Using backend LokyBackend with 3 concurrent workers.\n",
      "[Parallel(n_jobs=-2)]: Done  36 out of  36 | elapsed: 280.6min finished\n"
     ]
    },
    {
     "data": {
      "text/plain": [
       "GridSearchCV(cv=3, error_score='raise-deprecating',\n",
       "             estimator=RandomForestRegressor(bootstrap=True, criterion='mse',\n",
       "                                             max_depth=None,\n",
       "                                             max_features='auto',\n",
       "                                             max_leaf_nodes=None,\n",
       "                                             min_impurity_decrease=0.0,\n",
       "                                             min_impurity_split=None,\n",
       "                                             min_samples_leaf=1,\n",
       "                                             min_samples_split=2,\n",
       "                                             min_weight_fraction_leaf=0.0,\n",
       "                                             n_estimators='warn', n_jobs=None,\n",
       "                                             oob_score=False, random_state=None,\n",
       "                                             verbose=0, warm_start=False),\n",
       "             iid='warn', n_jobs=-2,\n",
       "             param_grid={'bootstrap': [False], 'max_depth': [None],\n",
       "                         'min_samples_leaf': [1, 2],\n",
       "                         'min_samples_split': [2, 3],\n",
       "                         'n_estimators': [80, 100, 120]},\n",
       "             pre_dispatch='2*n_jobs', refit=True, return_train_score=False,\n",
       "             scoring=None, verbose=1)"
      ]
     },
     "execution_count": 47,
     "metadata": {},
     "output_type": "execute_result"
    }
   ],
   "source": [
    "param_grid = {'n_estimators' : [80, 100, 120],\n",
    "             'max_depth' : [None],\n",
    "             'min_samples_split' : [2, 3],\n",
    "             'min_samples_leaf' : [1, 2],\n",
    "             'bootstrap' : [False]}\n",
    "\n",
    "grid_search = GridSearchCV(estimator=ensemble.RandomForestRegressor(), param_grid=param_grid, \n",
    "                           cv=3, n_jobs=-2, verbose=1)\n",
    "\n",
    "grid_search.fit(X_train, Y_train)"
   ]
  },
  {
   "cell_type": "code",
   "execution_count": 48,
   "metadata": {},
   "outputs": [
    {
     "data": {
      "text/plain": [
       "{'bootstrap': False,\n",
       " 'max_depth': None,\n",
       " 'min_samples_leaf': 2,\n",
       " 'min_samples_split': 2,\n",
       " 'n_estimators': 80}"
      ]
     },
     "execution_count": 48,
     "metadata": {},
     "output_type": "execute_result"
    }
   ],
   "source": [
    "grid_search.best_params_"
   ]
  },
  {
   "cell_type": "code",
   "execution_count": 50,
   "metadata": {},
   "outputs": [
    {
     "data": {
      "text/plain": [
       "0.14128215380528394"
      ]
     },
     "execution_count": 50,
     "metadata": {},
     "output_type": "execute_result"
    }
   ],
   "source": [
    "grid_model = grid_search.best_estimator_\n",
    "grid_model.fit(X_train, Y_train)\n",
    "joblib.dump(grid_model, 'sup_capstone_gridsearch.joblib')"
   ]
  },
  {
   "cell_type": "markdown",
   "metadata": {},
   "source": [
    "# Gradient Boosting model using XGBoost\n",
    "\n",
    "We'll begin by creating a ParameterGrid with different values of the parameters to tune: eta and max_depth."
   ]
  },
  {
   "cell_type": "code",
   "execution_count": 40,
   "metadata": {},
   "outputs": [],
   "source": [
    "# Creating a DMatrix object with our training data\n",
    "dtrain = xgb.DMatrix(X_train, label=Y_train)\n",
    "# Creating ParameterGrid object with all combinations of parameters\n",
    "params = {'eta':[0.05, .1, .15], 'max_depth':[4, 8, 12], 'subsample':[0.75], \n",
    "          'colsample_bytree': [0.7], 'eval_metric':['rmse'], 'n_jobs':[-1], 'seed':[87]}\n",
    "prm_grid = ParameterGrid(params)"
   ]
  },
  {
   "cell_type": "code",
   "execution_count": 41,
   "metadata": {},
   "outputs": [
    {
     "data": {
      "text/plain": [
       "9"
      ]
     },
     "execution_count": 41,
     "metadata": {},
     "output_type": "execute_result"
    }
   ],
   "source": [
    "#convert ParameterGrid object into list and check\n",
    "prm_grid = list(prm_grid)\n",
    "len(prm_grid)"
   ]
  },
  {
   "cell_type": "markdown",
   "metadata": {},
   "source": [
    "# Custom loop running XGBoost on parameter grid\n",
    "\n",
    "To tune XGBoost, I want to use a greedy search or GridSearchCV style method, but I want to take advantage of the model's early_stopping_rounds parameter to increase model speed and accuracy. To achieve that, I created a custom cross-validation method of assessing performance for each set of parameters. This will allow me the balanced analysis that cross-validation provides, preventing overfitting, while also keeping our hold out test set saved for our final model evaluation on the best set of hyperparameters."
   ]
  },
  {
   "cell_type": "code",
   "execution_count": 42,
   "metadata": {
    "scrolled": true
   },
   "outputs": [
    {
     "name": "stdout",
     "output_type": "stream",
     "text": [
      "[0]\ttrain-rmse:64.7379+0.00697243\ttest-rmse:64.7448+0.0379125\n",
      "[10]\ttrain-rmse:40.3049+0.0830364\ttest-rmse:40.3063+0.0829803\n",
      "[20]\ttrain-rmse:25.9167+0.0991665\ttest-rmse:25.9171+0.0866938\n",
      "[30]\ttrain-rmse:17.6682+0.0535289\ttest-rmse:17.6702+0.0378265\n",
      "[40]\ttrain-rmse:13.2765+0.0649287\ttest-rmse:13.2776+0.0368847\n",
      "[50]\ttrain-rmse:11.0535+0.0528869\ttest-rmse:11.0547+0.0372952\n",
      "[60]\ttrain-rmse:9.99677+0.0256372\ttest-rmse:9.99848+0.0251916\n",
      "[70]\ttrain-rmse:9.49806+0.0184096\ttest-rmse:9.49935+0.0249687\n",
      "[80]\ttrain-rmse:9.22459+0.00678627\ttest-rmse:9.22665+0.0185353\n",
      "[90]\ttrain-rmse:9.06318+0.00634858\ttest-rmse:9.06529+0.0228014\n",
      "[100]\ttrain-rmse:8.96401+0.010266\ttest-rmse:8.96573+0.0237227\n",
      "[110]\ttrain-rmse:8.89236+0.00558708\ttest-rmse:8.89371+0.0225803\n",
      "[120]\ttrain-rmse:8.84088+0.00513484\ttest-rmse:8.84254+0.0229241\n",
      "[130]\ttrain-rmse:8.80314+0.0108381\ttest-rmse:8.80492+0.0269153\n",
      "[140]\ttrain-rmse:8.77351+0.0151073\ttest-rmse:8.77545+0.0311343\n",
      "[150]\ttrain-rmse:8.74696+0.0156217\ttest-rmse:8.74908+0.0315915\n",
      "[160]\ttrain-rmse:8.71961+0.0155809\ttest-rmse:8.72194+0.0317836\n",
      "[170]\ttrain-rmse:8.69521+0.0161873\ttest-rmse:8.69764+0.0326027\n",
      "[180]\ttrain-rmse:8.67422+0.018236\ttest-rmse:8.67635+0.0346161\n",
      "[190]\ttrain-rmse:8.64822+0.0163089\ttest-rmse:8.65012+0.0324163\n",
      "[200]\ttrain-rmse:8.62836+0.0137351\ttest-rmse:8.63058+0.0291296\n",
      "[210]\ttrain-rmse:8.61141+0.0147119\ttest-rmse:8.61364+0.0299559\n",
      "[220]\ttrain-rmse:8.59226+0.0150536\ttest-rmse:8.59446+0.030165\n",
      "[230]\ttrain-rmse:8.5753+0.0150361\ttest-rmse:8.57755+0.0307802\n",
      "[240]\ttrain-rmse:8.56032+0.0152872\ttest-rmse:8.56275+0.0310706\n",
      "[250]\ttrain-rmse:8.54713+0.0156093\ttest-rmse:8.54984+0.0304431\n",
      "[260]\ttrain-rmse:8.53193+0.015673\ttest-rmse:8.53456+0.0305247\n",
      "[270]\ttrain-rmse:8.52012+0.0154869\ttest-rmse:8.52272+0.0304711\n",
      "[280]\ttrain-rmse:8.50758+0.0156658\ttest-rmse:8.51023+0.0306063\n",
      "[290]\ttrain-rmse:8.49713+0.0153342\ttest-rmse:8.50001+0.0303111\n",
      "[300]\ttrain-rmse:8.48714+0.0156644\ttest-rmse:8.49009+0.0305708\n",
      "[310]\ttrain-rmse:8.47767+0.0165498\ttest-rmse:8.48093+0.0310173\n",
      "[320]\ttrain-rmse:8.4693+0.0150347\ttest-rmse:8.47216+0.0296924\n",
      "[330]\ttrain-rmse:8.46025+0.0171993\ttest-rmse:8.46321+0.0312111\n",
      "[340]\ttrain-rmse:8.45331+0.0151922\ttest-rmse:8.45614+0.0292478\n",
      "[350]\ttrain-rmse:8.44407+0.0127645\ttest-rmse:8.44708+0.0272632\n",
      "[360]\ttrain-rmse:8.43653+0.0126921\ttest-rmse:8.4394+0.0276272\n",
      "[370]\ttrain-rmse:8.42927+0.0127059\ttest-rmse:8.43229+0.0273201\n",
      "[380]\ttrain-rmse:8.42321+0.0128331\ttest-rmse:8.42623+0.027597\n",
      "[390]\ttrain-rmse:8.41729+0.0126783\ttest-rmse:8.42007+0.0277322\n",
      "[400]\ttrain-rmse:8.4098+0.0129392\ttest-rmse:8.41255+0.02741\n",
      "[410]\ttrain-rmse:8.40284+0.0129588\ttest-rmse:8.40558+0.0273466\n",
      "[420]\ttrain-rmse:8.3958+0.0120106\ttest-rmse:8.39867+0.0267961\n",
      "[430]\ttrain-rmse:8.38879+0.0110365\ttest-rmse:8.39179+0.0262144\n",
      "[440]\ttrain-rmse:8.38293+0.0110103\ttest-rmse:8.38557+0.0255784\n",
      "[450]\ttrain-rmse:8.37755+0.0108915\ttest-rmse:8.38037+0.0252298\n",
      "[460]\ttrain-rmse:8.37185+0.011121\ttest-rmse:8.37464+0.0251661\n",
      "[470]\ttrain-rmse:8.3663+0.0106903\ttest-rmse:8.36904+0.0249271\n",
      "[480]\ttrain-rmse:8.36081+0.0102043\ttest-rmse:8.36353+0.0245872\n",
      "[490]\ttrain-rmse:8.35591+0.00963204\ttest-rmse:8.35875+0.0239381\n",
      "[500]\ttrain-rmse:8.35093+0.0095934\ttest-rmse:8.35369+0.0237712\n",
      "[510]\ttrain-rmse:8.34585+0.00900038\ttest-rmse:8.34854+0.0225251\n",
      "[520]\ttrain-rmse:8.33917+0.00817886\ttest-rmse:8.34231+0.0216807\n",
      "[530]\ttrain-rmse:8.33451+0.0077647\ttest-rmse:8.33751+0.0219588\n",
      "[540]\ttrain-rmse:8.33046+0.00739952\ttest-rmse:8.3335+0.0213247\n",
      "[550]\ttrain-rmse:8.32539+0.00844023\ttest-rmse:8.3281+0.021545\n",
      "[560]\ttrain-rmse:8.32061+0.00854286\ttest-rmse:8.32387+0.0216819\n",
      "[570]\ttrain-rmse:8.31786+0.00897442\ttest-rmse:8.32066+0.0220975\n",
      "[580]\ttrain-rmse:8.31389+0.00856252\ttest-rmse:8.31691+0.0220013\n",
      "[590]\ttrain-rmse:8.31004+0.007715\ttest-rmse:8.31291+0.0209952\n",
      "[600]\ttrain-rmse:8.30606+0.00833573\ttest-rmse:8.30903+0.0215423\n",
      "[610]\ttrain-rmse:8.30214+0.00851075\ttest-rmse:8.30494+0.0211008\n",
      "[620]\ttrain-rmse:8.29822+0.00874262\ttest-rmse:8.30092+0.0218258\n",
      "[630]\ttrain-rmse:8.29401+0.00803079\ttest-rmse:8.29686+0.0210068\n",
      "[640]\ttrain-rmse:8.28964+0.0079862\ttest-rmse:8.29251+0.02144\n",
      "[650]\ttrain-rmse:8.28588+0.00743921\ttest-rmse:8.28848+0.0212158\n",
      "[660]\ttrain-rmse:8.28265+0.00775171\ttest-rmse:8.28545+0.0213145\n",
      "[670]\ttrain-rmse:8.27932+0.00745511\ttest-rmse:8.28226+0.0214675\n",
      "[680]\ttrain-rmse:8.27575+0.00698558\ttest-rmse:8.27895+0.0217487\n",
      "[690]\ttrain-rmse:8.27295+0.00762073\ttest-rmse:8.27593+0.0222663\n",
      "[700]\ttrain-rmse:8.26912+0.00795075\ttest-rmse:8.27232+0.0227586\n",
      "[710]\ttrain-rmse:8.26638+0.00763399\ttest-rmse:8.26927+0.0225873\n",
      "[720]\ttrain-rmse:8.26334+0.00728981\ttest-rmse:8.26637+0.0222918\n",
      "[730]\ttrain-rmse:8.26027+0.00743612\ttest-rmse:8.26352+0.0224404\n",
      "[740]\ttrain-rmse:8.25684+0.00692379\ttest-rmse:8.26006+0.0221125\n",
      "[750]\ttrain-rmse:8.25398+0.00661924\ttest-rmse:8.25744+0.0219321\n",
      "[760]\ttrain-rmse:8.25055+0.00679486\ttest-rmse:8.25403+0.0220946\n",
      "[770]\ttrain-rmse:8.24789+0.00698354\ttest-rmse:8.25128+0.0221321\n",
      "[780]\ttrain-rmse:8.24511+0.00691545\ttest-rmse:8.24848+0.0219523\n",
      "[790]\ttrain-rmse:8.24233+0.0066755\ttest-rmse:8.24567+0.0219268\n",
      "[800]\ttrain-rmse:8.24006+0.00685542\ttest-rmse:8.24325+0.0221385\n",
      "[810]\ttrain-rmse:8.2371+0.00689099\ttest-rmse:8.24026+0.0221625\n",
      "[820]\ttrain-rmse:8.2343+0.00630314\ttest-rmse:8.23739+0.0214968\n",
      "[830]\ttrain-rmse:8.23132+0.00711404\ttest-rmse:8.23442+0.0218763\n",
      "[840]\ttrain-rmse:8.22919+0.00710088\ttest-rmse:8.23243+0.0218768\n",
      "[850]\ttrain-rmse:8.22637+0.00664127\ttest-rmse:8.22943+0.0218425\n",
      "[860]\ttrain-rmse:8.22414+0.00649828\ttest-rmse:8.22706+0.0215733\n",
      "[870]\ttrain-rmse:8.22132+0.00617226\ttest-rmse:8.22454+0.0211634\n",
      "[880]\ttrain-rmse:8.21853+0.00621562\ttest-rmse:8.22188+0.0209945\n",
      "[890]\ttrain-rmse:8.21618+0.00591489\ttest-rmse:8.21968+0.0208503\n",
      "[900]\ttrain-rmse:8.21396+0.00547802\ttest-rmse:8.21715+0.0209103\n",
      "[910]\ttrain-rmse:8.21128+0.00526986\ttest-rmse:8.21446+0.0206774\n",
      "[920]\ttrain-rmse:8.20909+0.00518051\ttest-rmse:8.21198+0.0209027\n",
      "[930]\ttrain-rmse:8.20684+0.00473187\ttest-rmse:8.20984+0.0208005\n",
      "[940]\ttrain-rmse:8.20442+0.00497388\ttest-rmse:8.2077+0.0205859\n",
      "[950]\ttrain-rmse:8.20223+0.00512198\ttest-rmse:8.20529+0.0203679\n",
      "[960]\ttrain-rmse:8.20032+0.00519704\ttest-rmse:8.2034+0.0204822\n",
      "[970]\ttrain-rmse:8.19818+0.00535444\ttest-rmse:8.2013+0.020328\n",
      "[980]\ttrain-rmse:8.19625+0.00518565\ttest-rmse:8.19925+0.0202933\n",
      "[990]\ttrain-rmse:8.19433+0.00486974\ttest-rmse:8.19743+0.0200688\n",
      "[1000]\ttrain-rmse:8.19259+0.00461428\ttest-rmse:8.19573+0.0199867\n",
      "[1010]\ttrain-rmse:8.19086+0.00441632\ttest-rmse:8.19398+0.0197208\n",
      "[1020]\ttrain-rmse:8.18885+0.00461425\ttest-rmse:8.1921+0.0198383\n",
      "[1030]\ttrain-rmse:8.18688+0.00455393\ttest-rmse:8.19017+0.0195892\n",
      "[1040]\ttrain-rmse:8.18513+0.00443616\ttest-rmse:8.18852+0.0196844\n",
      "[1050]\ttrain-rmse:8.1836+0.00464442\ttest-rmse:8.1868+0.0200178\n",
      "[1060]\ttrain-rmse:8.18182+0.004575\ttest-rmse:8.18491+0.0202297\n",
      "[1070]\ttrain-rmse:8.17989+0.00410176\ttest-rmse:8.18313+0.0199242\n",
      "[1080]\ttrain-rmse:8.17806+0.00408616\ttest-rmse:8.18126+0.0202961\n",
      "[1090]\ttrain-rmse:8.17657+0.00416942\ttest-rmse:8.17988+0.0200881\n",
      "[1100]\ttrain-rmse:8.17517+0.00403413\ttest-rmse:8.17863+0.0200154\n",
      "[1110]\ttrain-rmse:8.17338+0.00374838\ttest-rmse:8.17675+0.019735\n",
      "[1120]\ttrain-rmse:8.17181+0.00375233\ttest-rmse:8.17511+0.0198506\n",
      "[1130]\ttrain-rmse:8.1705+0.00355301\ttest-rmse:8.17378+0.019805\n",
      "[1140]\ttrain-rmse:8.16827+0.00362348\ttest-rmse:8.17178+0.0197124\n",
      "[1150]\ttrain-rmse:8.16674+0.00389396\ttest-rmse:8.16999+0.0199379\n",
      "[1160]\ttrain-rmse:8.16486+0.00372651\ttest-rmse:8.16828+0.0199792\n",
      "[1170]\ttrain-rmse:8.16314+0.00391214\ttest-rmse:8.16648+0.0203331\n",
      "[1180]\ttrain-rmse:8.16158+0.00370922\ttest-rmse:8.16503+0.0204033\n",
      "[1190]\ttrain-rmse:8.16003+0.00352832\ttest-rmse:8.16359+0.020079\n",
      "[1200]\ttrain-rmse:8.15847+0.00353229\ttest-rmse:8.16191+0.0200417\n",
      "[1210]\ttrain-rmse:8.15724+0.00373347\ttest-rmse:8.16068+0.0202595\n",
      "[1220]\ttrain-rmse:8.15562+0.00387226\ttest-rmse:8.15923+0.0204099\n",
      "[1230]\ttrain-rmse:8.15422+0.00381835\ttest-rmse:8.15783+0.0203535\n",
      "[1240]\ttrain-rmse:8.15284+0.00378929\ttest-rmse:8.15643+0.0204452\n",
      "[1250]\ttrain-rmse:8.15142+0.00348637\ttest-rmse:8.15499+0.0203337\n",
      "[1260]\ttrain-rmse:8.14983+0.00330914\ttest-rmse:8.15323+0.0201056\n",
      "[1270]\ttrain-rmse:8.14837+0.00306543\ttest-rmse:8.15181+0.0200169\n",
      "[1280]\ttrain-rmse:8.14681+0.00303377\ttest-rmse:8.15034+0.0199829\n",
      "[1290]\ttrain-rmse:8.14549+0.00298569\ttest-rmse:8.14891+0.0200188\n"
     ]
    },
    {
     "name": "stdout",
     "output_type": "stream",
     "text": [
      "[1300]\ttrain-rmse:8.14414+0.0029391\ttest-rmse:8.14757+0.0202117\n",
      "[1310]\ttrain-rmse:8.14275+0.0031762\ttest-rmse:8.14634+0.0201324\n",
      "[1320]\ttrain-rmse:8.14145+0.00301709\ttest-rmse:8.14509+0.0200984\n",
      "[1330]\ttrain-rmse:8.14027+0.00308817\ttest-rmse:8.14392+0.020105\n",
      "[1340]\ttrain-rmse:8.13875+0.00304815\ttest-rmse:8.14257+0.0200273\n",
      "[1350]\ttrain-rmse:8.13754+0.00285592\ttest-rmse:8.14145+0.0197696\n",
      "[1360]\ttrain-rmse:8.13632+0.00280382\ttest-rmse:8.14025+0.0197124\n",
      "[1370]\ttrain-rmse:8.13538+0.002582\ttest-rmse:8.13912+0.0197048\n",
      "[1380]\ttrain-rmse:8.13405+0.00246536\ttest-rmse:8.13797+0.0197129\n",
      "[1390]\ttrain-rmse:8.13265+0.00253953\ttest-rmse:8.13657+0.0199238\n",
      "[1400]\ttrain-rmse:8.13129+0.00244416\ttest-rmse:8.13526+0.0198086\n",
      "[1410]\ttrain-rmse:8.13004+0.00229005\ttest-rmse:8.13402+0.019721\n",
      "[1420]\ttrain-rmse:8.12913+0.00229576\ttest-rmse:8.13289+0.0197166\n",
      "[1430]\ttrain-rmse:8.12815+0.00209326\ttest-rmse:8.13186+0.0196591\n",
      "[1440]\ttrain-rmse:8.1268+0.00199121\ttest-rmse:8.13076+0.0195291\n",
      "[1450]\ttrain-rmse:8.12566+0.00174242\ttest-rmse:8.12948+0.0193575\n",
      "[1460]\ttrain-rmse:8.12427+0.00209816\ttest-rmse:8.12838+0.0194908\n",
      "[1470]\ttrain-rmse:8.12338+0.00200373\ttest-rmse:8.12735+0.0193285\n",
      "[1480]\ttrain-rmse:8.12229+0.00182986\ttest-rmse:8.12636+0.01944\n",
      "[1490]\ttrain-rmse:8.12117+0.00157834\ttest-rmse:8.12522+0.019204\n",
      "[1500]\ttrain-rmse:8.12018+0.00155192\ttest-rmse:8.12428+0.0190389\n",
      "[1510]\ttrain-rmse:8.11923+0.00143264\ttest-rmse:8.12331+0.0189142\n",
      "[1520]\ttrain-rmse:8.11826+0.0016259\ttest-rmse:8.12226+0.0189081\n",
      "[1530]\ttrain-rmse:8.11731+0.00146727\ttest-rmse:8.1213+0.0186348\n",
      "[1540]\ttrain-rmse:8.11631+0.00148141\ttest-rmse:8.12034+0.018694\n",
      "[1550]\ttrain-rmse:8.1154+0.0013509\ttest-rmse:8.11939+0.0186928\n",
      "[1560]\ttrain-rmse:8.11428+0.00143314\ttest-rmse:8.11845+0.018793\n",
      "[1570]\ttrain-rmse:8.11351+0.00149873\ttest-rmse:8.11745+0.0190907\n",
      "[1580]\ttrain-rmse:8.11228+0.00113769\ttest-rmse:8.11638+0.0187383\n",
      "[1590]\ttrain-rmse:8.1111+0.000983108\ttest-rmse:8.11532+0.018605\n",
      "[1600]\ttrain-rmse:8.11011+0.000811354\ttest-rmse:8.11428+0.0185035\n",
      "[1610]\ttrain-rmse:8.10935+0.0008993\ttest-rmse:8.11336+0.0184926\n",
      "[1620]\ttrain-rmse:8.1084+0.00113264\ttest-rmse:8.11248+0.0184814\n",
      "[1630]\ttrain-rmse:8.10749+0.00113532\ttest-rmse:8.11154+0.0182845\n",
      "[1640]\ttrain-rmse:8.10645+0.000964871\ttest-rmse:8.11037+0.0182855\n",
      "[1650]\ttrain-rmse:8.10539+0.00108559\ttest-rmse:8.10944+0.018349\n",
      "[1660]\ttrain-rmse:8.10427+0.000990493\ttest-rmse:8.10845+0.0182757\n",
      "[1670]\ttrain-rmse:8.10339+0.000837597\ttest-rmse:8.1076+0.0181796\n",
      "[1680]\ttrain-rmse:8.10248+0.000845205\ttest-rmse:8.10674+0.0180963\n",
      "[1690]\ttrain-rmse:8.1016+0.000766463\ttest-rmse:8.10585+0.0181275\n",
      "[1700]\ttrain-rmse:8.10074+0.000840737\ttest-rmse:8.105+0.0179912\n",
      "[1710]\ttrain-rmse:8.10018+0.000865854\ttest-rmse:8.10428+0.0182099\n",
      "[1720]\ttrain-rmse:8.09939+0.000960098\ttest-rmse:8.10354+0.0181876\n",
      "[1730]\ttrain-rmse:8.09844+0.000986773\ttest-rmse:8.10272+0.0181398\n",
      "[1740]\ttrain-rmse:8.09757+0.0010033\ttest-rmse:8.10186+0.0180104\n",
      "[1750]\ttrain-rmse:8.09679+0.000878264\ttest-rmse:8.10096+0.0180216\n",
      "[1760]\ttrain-rmse:8.09585+0.000981025\ttest-rmse:8.1001+0.0181404\n",
      "[1770]\ttrain-rmse:8.09519+0.00096818\ttest-rmse:8.09933+0.0179248\n",
      "[1780]\ttrain-rmse:8.09439+0.00100378\ttest-rmse:8.09854+0.0179232\n",
      "[1790]\ttrain-rmse:8.09371+0.000896781\ttest-rmse:8.09781+0.0179186\n",
      "[1800]\ttrain-rmse:8.09302+0.000984972\ttest-rmse:8.0972+0.0178549\n",
      "[1810]\ttrain-rmse:8.09226+0.000999369\ttest-rmse:8.09643+0.0177123\n",
      "[1820]\ttrain-rmse:8.09158+0.000964681\ttest-rmse:8.09577+0.0177262\n",
      "[1830]\ttrain-rmse:8.09072+0.00118303\ttest-rmse:8.09491+0.0177354\n",
      "[1840]\ttrain-rmse:8.08982+0.00119139\ttest-rmse:8.09387+0.0175215\n",
      "[1850]\ttrain-rmse:8.089+0.00111275\ttest-rmse:8.09318+0.0175971\n",
      "[1860]\ttrain-rmse:8.08846+0.00142308\ttest-rmse:8.09246+0.0174625\n",
      "[1870]\ttrain-rmse:8.08778+0.00121929\ttest-rmse:8.09187+0.0176155\n",
      "[1880]\ttrain-rmse:8.08695+0.00138628\ttest-rmse:8.09113+0.0174307\n",
      "[1890]\ttrain-rmse:8.08618+0.00124537\ttest-rmse:8.09054+0.0174007\n",
      "[1900]\ttrain-rmse:8.08561+0.00121041\ttest-rmse:8.08983+0.0173228\n",
      "[1910]\ttrain-rmse:8.08497+0.0014321\ttest-rmse:8.08922+0.0173201\n",
      "[1920]\ttrain-rmse:8.08436+0.00149049\ttest-rmse:8.0885+0.0173884\n",
      "[1930]\ttrain-rmse:8.08361+0.00145196\ttest-rmse:8.08777+0.0174394\n",
      "[1940]\ttrain-rmse:8.08303+0.00144284\ttest-rmse:8.08716+0.0173683\n",
      "[1950]\ttrain-rmse:8.08227+0.00136434\ttest-rmse:8.08637+0.0172145\n",
      "[1960]\ttrain-rmse:8.08152+0.00104617\ttest-rmse:8.08573+0.0172923\n",
      "[1970]\ttrain-rmse:8.08075+0.00104434\ttest-rmse:8.08501+0.0172623\n",
      "[1980]\ttrain-rmse:8.08013+0.00124729\ttest-rmse:8.08435+0.0172686\n",
      "[1990]\ttrain-rmse:8.07956+0.00119262\ttest-rmse:8.08376+0.0171887\n",
      "[1999]\ttrain-rmse:8.07899+0.00107679\ttest-rmse:8.08326+0.0171237\n",
      "[0]\ttrain-rmse:64.6768+0.00917624\ttest-rmse:64.6746+0.0374765\n",
      "[10]\ttrain-rmse:39.5644+0.0471622\ttest-rmse:39.5632+0.0535979\n",
      "[20]\ttrain-rmse:24.8175+0.0549319\ttest-rmse:24.8166+0.0519968\n",
      "[30]\ttrain-rmse:16.431+0.0469642\ttest-rmse:16.4322+0.0355486\n",
      "[40]\ttrain-rmse:11.9871+0.0434959\ttest-rmse:11.9876+0.0346679\n",
      "[50]\ttrain-rmse:9.8279+0.0196056\ttest-rmse:9.82906+0.0296162\n",
      "[60]\ttrain-rmse:8.87744+0.025422\ttest-rmse:8.87781+0.0452697\n",
      "[70]\ttrain-rmse:8.46538+0.024716\ttest-rmse:8.46778+0.042791\n",
      "[80]\ttrain-rmse:8.26425+0.015714\ttest-rmse:8.26739+0.0325074\n",
      "[90]\ttrain-rmse:8.15971+0.007918\ttest-rmse:8.16389+0.0262761\n",
      "[100]\ttrain-rmse:8.10308+0.00764936\ttest-rmse:8.10749+0.0237678\n",
      "[110]\ttrain-rmse:8.07108+0.0045671\ttest-rmse:8.07533+0.0198484\n",
      "[120]\ttrain-rmse:8.04216+0.00477026\ttest-rmse:8.04675+0.0207594\n",
      "[130]\ttrain-rmse:8.01786+0.00371937\ttest-rmse:8.02283+0.0183503\n",
      "[140]\ttrain-rmse:8.00245+0.00374831\ttest-rmse:8.00757+0.0188953\n",
      "[150]\ttrain-rmse:7.98997+0.0043923\ttest-rmse:7.9951+0.0171389\n",
      "[160]\ttrain-rmse:7.97921+0.00419522\ttest-rmse:7.98457+0.0157225\n",
      "[170]\ttrain-rmse:7.97172+0.00511252\ttest-rmse:7.97724+0.0150669\n",
      "[180]\ttrain-rmse:7.96622+0.00467041\ttest-rmse:7.97185+0.0156425\n",
      "[190]\ttrain-rmse:7.95901+0.00511094\ttest-rmse:7.96477+0.0154562\n",
      "[200]\ttrain-rmse:7.9531+0.00494156\ttest-rmse:7.95893+0.0148748\n",
      "[210]\ttrain-rmse:7.94898+0.0051219\ttest-rmse:7.95489+0.0149717\n",
      "[220]\ttrain-rmse:7.94346+0.00467499\ttest-rmse:7.94953+0.0152794\n",
      "[230]\ttrain-rmse:7.93932+0.00443748\ttest-rmse:7.94551+0.0152042\n",
      "[240]\ttrain-rmse:7.9354+0.0039658\ttest-rmse:7.94169+0.0149616\n",
      "[250]\ttrain-rmse:7.93233+0.00335708\ttest-rmse:7.93866+0.0149536\n",
      "[260]\ttrain-rmse:7.9294+0.00324654\ttest-rmse:7.93577+0.0149826\n",
      "[270]\ttrain-rmse:7.92718+0.00335053\ttest-rmse:7.93372+0.0150549\n",
      "[280]\ttrain-rmse:7.92519+0.00289191\ttest-rmse:7.93159+0.0152581\n",
      "[290]\ttrain-rmse:7.92351+0.00362065\ttest-rmse:7.93004+0.0147303\n",
      "[300]\ttrain-rmse:7.92179+0.00326727\ttest-rmse:7.92821+0.0150326\n",
      "[310]\ttrain-rmse:7.91998+0.00303682\ttest-rmse:7.92654+0.0149422\n",
      "[320]\ttrain-rmse:7.91878+0.00322634\ttest-rmse:7.92532+0.014813\n",
      "[330]\ttrain-rmse:7.91766+0.00284033\ttest-rmse:7.92417+0.0150545\n",
      "[340]\ttrain-rmse:7.91683+0.00300499\ttest-rmse:7.92328+0.0148968\n",
      "[350]\ttrain-rmse:7.91555+0.00314117\ttest-rmse:7.92207+0.0146913\n",
      "[360]\ttrain-rmse:7.91466+0.00309553\ttest-rmse:7.92122+0.0146415\n",
      "[370]\ttrain-rmse:7.91378+0.00320725\ttest-rmse:7.92035+0.0146039\n",
      "[380]\ttrain-rmse:7.91306+0.00309552\ttest-rmse:7.91963+0.0146416\n",
      "[390]\ttrain-rmse:7.91234+0.00309647\ttest-rmse:7.91894+0.0146832\n",
      "[400]\ttrain-rmse:7.91162+0.00293755\ttest-rmse:7.91832+0.0147411\n",
      "[410]\ttrain-rmse:7.91098+0.00302465\ttest-rmse:7.91782+0.0146733\n",
      "[420]\ttrain-rmse:7.91051+0.00309421\ttest-rmse:7.91736+0.014603\n",
      "[430]\ttrain-rmse:7.91014+0.00328625\ttest-rmse:7.91698+0.014552\n",
      "[440]\ttrain-rmse:7.90985+0.00335123\ttest-rmse:7.91652+0.0146304\n",
      "[450]\ttrain-rmse:7.90946+0.00328616\ttest-rmse:7.9162+0.0145461\n",
      "[460]\ttrain-rmse:7.90905+0.00343616\ttest-rmse:7.91587+0.014516\n",
      "[470]\ttrain-rmse:7.90875+0.00333953\ttest-rmse:7.9156+0.0144756\n",
      "[480]\ttrain-rmse:7.90844+0.00346805\ttest-rmse:7.91531+0.0144655\n",
      "[490]\ttrain-rmse:7.90812+0.0033927\ttest-rmse:7.9151+0.0144716\n",
      "[500]\ttrain-rmse:7.90777+0.00334222\ttest-rmse:7.91485+0.0144734\n",
      "[510]\ttrain-rmse:7.90761+0.00328729\ttest-rmse:7.91462+0.0144129\n",
      "[520]\ttrain-rmse:7.90745+0.00334112\ttest-rmse:7.91441+0.0143403\n",
      "[530]\ttrain-rmse:7.90725+0.00332805\ttest-rmse:7.91424+0.014314\n",
      "[540]\ttrain-rmse:7.90716+0.00339998\ttest-rmse:7.91403+0.0143217\n",
      "[550]\ttrain-rmse:7.90685+0.0033868\ttest-rmse:7.91387+0.0144259\n",
      "[560]\ttrain-rmse:7.90673+0.00335568\ttest-rmse:7.91368+0.0143567\n"
     ]
    },
    {
     "name": "stdout",
     "output_type": "stream",
     "text": [
      "[570]\ttrain-rmse:7.90656+0.00331872\ttest-rmse:7.91353+0.0143446\n",
      "[580]\ttrain-rmse:7.90647+0.00337133\ttest-rmse:7.91337+0.0142851\n",
      "[590]\ttrain-rmse:7.90648+0.00338131\ttest-rmse:7.91322+0.0143219\n",
      "[600]\ttrain-rmse:7.90631+0.00346496\ttest-rmse:7.91319+0.0143532\n",
      "[610]\ttrain-rmse:7.90616+0.0033646\ttest-rmse:7.91311+0.0143591\n",
      "[620]\ttrain-rmse:7.90607+0.00343273\ttest-rmse:7.91297+0.014324\n",
      "[630]\ttrain-rmse:7.90592+0.00343849\ttest-rmse:7.91286+0.014372\n",
      "[640]\ttrain-rmse:7.90575+0.00345721\ttest-rmse:7.91284+0.0143881\n",
      "[650]\ttrain-rmse:7.90583+0.00338483\ttest-rmse:7.91273+0.0143684\n",
      "[660]\ttrain-rmse:7.90577+0.00343019\ttest-rmse:7.91268+0.0143297\n",
      "[670]\ttrain-rmse:7.90557+0.00341101\ttest-rmse:7.9126+0.0143531\n",
      "[680]\ttrain-rmse:7.90558+0.00332256\ttest-rmse:7.9125+0.0143012\n",
      "[690]\ttrain-rmse:7.9054+0.00339276\ttest-rmse:7.91245+0.0143181\n",
      "[700]\ttrain-rmse:7.90528+0.00345415\ttest-rmse:7.9124+0.0143034\n",
      "[710]\ttrain-rmse:7.90532+0.00342469\ttest-rmse:7.91232+0.0143635\n",
      "[720]\ttrain-rmse:7.9052+0.00350214\ttest-rmse:7.91229+0.0143572\n",
      "[730]\ttrain-rmse:7.9051+0.00340937\ttest-rmse:7.91217+0.0143254\n",
      "[740]\ttrain-rmse:7.90509+0.00349807\ttest-rmse:7.91214+0.0143154\n",
      "[750]\ttrain-rmse:7.90512+0.00341733\ttest-rmse:7.91205+0.0142997\n",
      "[760]\ttrain-rmse:7.90502+0.00340449\ttest-rmse:7.91204+0.0142933\n",
      "[770]\ttrain-rmse:7.90503+0.00341738\ttest-rmse:7.91195+0.0142693\n",
      "[780]\ttrain-rmse:7.90505+0.00357269\ttest-rmse:7.91189+0.0142877\n",
      "[790]\ttrain-rmse:7.9048+0.0035033\ttest-rmse:7.91189+0.0142821\n",
      "[800]\ttrain-rmse:7.90483+0.00351842\ttest-rmse:7.91182+0.0142705\n",
      "[810]\ttrain-rmse:7.90482+0.00359946\ttest-rmse:7.91181+0.0142245\n",
      "[820]\ttrain-rmse:7.90475+0.00350314\ttest-rmse:7.91175+0.0142286\n",
      "[830]\ttrain-rmse:7.90471+0.00357307\ttest-rmse:7.91176+0.0142543\n",
      "[840]\ttrain-rmse:7.90466+0.00354286\ttest-rmse:7.91174+0.0142941\n",
      "[850]\ttrain-rmse:7.90467+0.00351792\ttest-rmse:7.91175+0.0142572\n",
      "[860]\ttrain-rmse:7.90465+0.00348065\ttest-rmse:7.91172+0.0142572\n",
      "[870]\ttrain-rmse:7.90457+0.00351992\ttest-rmse:7.91168+0.0142153\n",
      "[880]\ttrain-rmse:7.90449+0.00357858\ttest-rmse:7.91162+0.0141745\n",
      "[890]\ttrain-rmse:7.90462+0.00356265\ttest-rmse:7.91167+0.0142102\n",
      "[900]\ttrain-rmse:7.90454+0.00358371\ttest-rmse:7.91161+0.0142261\n",
      "[910]\ttrain-rmse:7.90446+0.00356182\ttest-rmse:7.91156+0.0142001\n",
      "[920]\ttrain-rmse:7.90441+0.00355099\ttest-rmse:7.91157+0.0142514\n",
      "[930]\ttrain-rmse:7.90431+0.00352636\ttest-rmse:7.91157+0.0142653\n",
      "[940]\ttrain-rmse:7.9044+0.00357397\ttest-rmse:7.91156+0.0142484\n",
      "[950]\ttrain-rmse:7.90437+0.00355333\ttest-rmse:7.91146+0.0142303\n",
      "[960]\ttrain-rmse:7.90442+0.00356679\ttest-rmse:7.91149+0.0142315\n",
      "[970]\ttrain-rmse:7.90423+0.0036559\ttest-rmse:7.91144+0.0142412\n",
      "[980]\ttrain-rmse:7.90427+0.00357373\ttest-rmse:7.91141+0.0142099\n",
      "[990]\ttrain-rmse:7.9043+0.00355915\ttest-rmse:7.91146+0.014234\n",
      "[1000]\ttrain-rmse:7.9043+0.00345703\ttest-rmse:7.91143+0.0142128\n",
      "[1010]\ttrain-rmse:7.90424+0.00356086\ttest-rmse:7.9114+0.0142166\n",
      "[1020]\ttrain-rmse:7.90412+0.00360217\ttest-rmse:7.9114+0.0142155\n",
      "[1030]\ttrain-rmse:7.90422+0.00350207\ttest-rmse:7.91133+0.0142153\n",
      "[1040]\ttrain-rmse:7.90414+0.00359587\ttest-rmse:7.91131+0.0141962\n",
      "[1050]\ttrain-rmse:7.90424+0.00353998\ttest-rmse:7.91129+0.0142073\n",
      "[1060]\ttrain-rmse:7.90412+0.0035318\ttest-rmse:7.91129+0.0142322\n",
      "[1070]\ttrain-rmse:7.90426+0.00351119\ttest-rmse:7.91126+0.0142274\n",
      "[1080]\ttrain-rmse:7.90418+0.00351603\ttest-rmse:7.91124+0.014187\n",
      "[1090]\ttrain-rmse:7.90412+0.00345643\ttest-rmse:7.91117+0.0142075\n",
      "[1100]\ttrain-rmse:7.90409+0.00345127\ttest-rmse:7.91117+0.0141556\n",
      "[1110]\ttrain-rmse:7.90416+0.00350706\ttest-rmse:7.9112+0.0142046\n",
      "[1120]\ttrain-rmse:7.90421+0.00347563\ttest-rmse:7.91119+0.0142002\n",
      "[1130]\ttrain-rmse:7.90405+0.0035678\ttest-rmse:7.91117+0.0141956\n",
      "[0]\ttrain-rmse:64.6491+0.00960052\ttest-rmse:64.6451+0.0374613\n",
      "[10]\ttrain-rmse:39.4246+0.0445632\ttest-rmse:39.4237+0.0518047\n",
      "[20]\ttrain-rmse:24.5886+0.0410078\ttest-rmse:24.5882+0.03555\n",
      "[30]\ttrain-rmse:16.1267+0.0326532\ttest-rmse:16.1287+0.0263343\n",
      "[40]\ttrain-rmse:11.6352+0.0363614\ttest-rmse:11.6366+0.0303898\n",
      "[50]\ttrain-rmse:9.47395+0.0192414\ttest-rmse:9.47731+0.0181013\n",
      "[60]\ttrain-rmse:8.54894+0.0122012\ttest-rmse:8.55284+0.0231827\n",
      "[70]\ttrain-rmse:8.1748+0.0108093\ttest-rmse:8.18008+0.0199814\n",
      "[80]\ttrain-rmse:8.02208+0.00923031\ttest-rmse:8.0284+0.0166596\n",
      "[90]\ttrain-rmse:7.95715+0.00582241\ttest-rmse:7.96459+0.0167275\n",
      "[100]\ttrain-rmse:7.93076+0.00404651\ttest-rmse:7.93793+0.0161814\n",
      "[110]\ttrain-rmse:7.92001+0.00394228\ttest-rmse:7.92678+0.0152189\n",
      "[120]\ttrain-rmse:7.91338+0.00370005\ttest-rmse:7.92027+0.0151087\n",
      "[130]\ttrain-rmse:7.90953+0.00346531\ttest-rmse:7.91618+0.0147124\n",
      "[140]\ttrain-rmse:7.90743+0.00319995\ttest-rmse:7.91422+0.0146449\n",
      "[150]\ttrain-rmse:7.90608+0.00352766\ttest-rmse:7.91295+0.0144826\n",
      "[160]\ttrain-rmse:7.90503+0.00354791\ttest-rmse:7.91207+0.014384\n",
      "[170]\ttrain-rmse:7.90469+0.00345337\ttest-rmse:7.91172+0.014335\n",
      "[180]\ttrain-rmse:7.90452+0.00351676\ttest-rmse:7.91144+0.0143717\n",
      "[190]\ttrain-rmse:7.9041+0.00351567\ttest-rmse:7.9113+0.0142935\n",
      "[200]\ttrain-rmse:7.90399+0.00350406\ttest-rmse:7.91111+0.0143031\n",
      "[210]\ttrain-rmse:7.90398+0.00347544\ttest-rmse:7.91102+0.0142793\n",
      "[220]\ttrain-rmse:7.90389+0.00357976\ttest-rmse:7.91096+0.0142902\n",
      "[230]\ttrain-rmse:7.90378+0.00351634\ttest-rmse:7.91095+0.0143099\n",
      "[240]\ttrain-rmse:7.90358+0.00358905\ttest-rmse:7.91096+0.0143063\n",
      "[250]\ttrain-rmse:7.90359+0.00353743\ttest-rmse:7.91092+0.014339\n",
      "[260]\ttrain-rmse:7.90359+0.00353816\ttest-rmse:7.91092+0.0143621\n",
      "[270]\ttrain-rmse:7.90355+0.00360069\ttest-rmse:7.91093+0.0143891\n",
      "[280]\ttrain-rmse:7.9035+0.00358013\ttest-rmse:7.91094+0.0143564\n",
      "[290]\ttrain-rmse:7.9035+0.0035417\ttest-rmse:7.91089+0.014319\n",
      "[300]\ttrain-rmse:7.90348+0.00344086\ttest-rmse:7.91088+0.0143241\n",
      "[310]\ttrain-rmse:7.90347+0.00343023\ttest-rmse:7.91085+0.0142585\n",
      "[320]\ttrain-rmse:7.90352+0.00352357\ttest-rmse:7.91085+0.0142856\n",
      "[330]\ttrain-rmse:7.90348+0.00348154\ttest-rmse:7.91082+0.0143168\n",
      "[340]\ttrain-rmse:7.90344+0.00351825\ttest-rmse:7.91083+0.0142791\n",
      "[350]\ttrain-rmse:7.90356+0.00351314\ttest-rmse:7.91082+0.0143024\n",
      "[360]\ttrain-rmse:7.90358+0.00342245\ttest-rmse:7.91081+0.0142546\n",
      "[370]\ttrain-rmse:7.90358+0.00349779\ttest-rmse:7.91087+0.0142524\n",
      "[380]\ttrain-rmse:7.90359+0.00343954\ttest-rmse:7.91084+0.0142541\n",
      "[390]\ttrain-rmse:7.90361+0.0035242\ttest-rmse:7.91082+0.0142743\n",
      "[400]\ttrain-rmse:7.90351+0.00343689\ttest-rmse:7.91079+0.0142987\n",
      "[410]\ttrain-rmse:7.90351+0.00341212\ttest-rmse:7.91084+0.0143306\n",
      "[420]\ttrain-rmse:7.90359+0.00349006\ttest-rmse:7.91083+0.014313\n",
      "[430]\ttrain-rmse:7.90354+0.00353153\ttest-rmse:7.91086+0.0143213\n",
      "[0]\ttrain-rmse:61.5361+0.00887126\ttest-rmse:61.5314+0.0374144\n",
      "[10]\ttrain-rmse:24.3696+0.14942\ttest-rmse:24.371+0.155245\n",
      "[20]\ttrain-rmse:12.7455+0.0940296\ttest-rmse:12.7486+0.0756355\n",
      "[30]\ttrain-rmse:9.86711+0.0344102\ttest-rmse:9.8697+0.0153438\n",
      "[40]\ttrain-rmse:9.19151+0.0217541\ttest-rmse:9.19318+0.0172693\n",
      "[50]\ttrain-rmse:8.95586+0.0202546\ttest-rmse:8.95838+0.0176151\n",
      "[60]\ttrain-rmse:8.85052+0.0148639\ttest-rmse:8.85361+0.0191873\n",
      "[70]\ttrain-rmse:8.78291+0.0196014\ttest-rmse:8.78631+0.0171297\n",
      "[80]\ttrain-rmse:8.72027+0.0146705\ttest-rmse:8.72379+0.0108124\n",
      "[90]\ttrain-rmse:8.66446+0.013362\ttest-rmse:8.66816+0.011795\n",
      "[100]\ttrain-rmse:8.61996+0.0104195\ttest-rmse:8.6236+0.0121143\n",
      "[110]\ttrain-rmse:8.5901+0.015492\ttest-rmse:8.59365+0.0144306\n",
      "[120]\ttrain-rmse:8.55882+0.0139676\ttest-rmse:8.56246+0.0136603\n",
      "[130]\ttrain-rmse:8.5333+0.0169879\ttest-rmse:8.53717+0.01794\n",
      "[140]\ttrain-rmse:8.511+0.0186378\ttest-rmse:8.51513+0.0170248\n",
      "[150]\ttrain-rmse:8.49101+0.0200568\ttest-rmse:8.4951+0.0181962\n",
      "[160]\ttrain-rmse:8.47012+0.0159555\ttest-rmse:8.47383+0.0130496\n",
      "[170]\ttrain-rmse:8.45389+0.0123101\ttest-rmse:8.45798+0.0132534\n",
      "[180]\ttrain-rmse:8.4368+0.0107534\ttest-rmse:8.44093+0.012562\n",
      "[190]\ttrain-rmse:8.41698+0.00997165\ttest-rmse:8.42066+0.0110375\n",
      "[200]\ttrain-rmse:8.40511+0.00934733\ttest-rmse:8.4089+0.00943236\n",
      "[210]\ttrain-rmse:8.39101+0.0103488\ttest-rmse:8.39463+0.00797766\n",
      "[220]\ttrain-rmse:8.37712+0.0105994\ttest-rmse:8.3807+0.00769959\n",
      "[230]\ttrain-rmse:8.36574+0.0112427\ttest-rmse:8.36921+0.00783121\n",
      "[240]\ttrain-rmse:8.35535+0.0113344\ttest-rmse:8.35877+0.00759268\n",
      "[250]\ttrain-rmse:8.34509+0.0120932\ttest-rmse:8.34871+0.00838414\n",
      "[260]\ttrain-rmse:8.33432+0.0110387\ttest-rmse:8.3383+0.00938886\n",
      "[270]\ttrain-rmse:8.32525+0.0110777\ttest-rmse:8.32905+0.00842971\n",
      "[280]\ttrain-rmse:8.31862+0.0102864\ttest-rmse:8.32215+0.00859902\n"
     ]
    },
    {
     "name": "stdout",
     "output_type": "stream",
     "text": [
      "[290]\ttrain-rmse:8.31271+0.00964559\ttest-rmse:8.31615+0.00955281\n",
      "[300]\ttrain-rmse:8.3034+0.00856125\ttest-rmse:8.30694+0.00904635\n",
      "[310]\ttrain-rmse:8.29543+0.00754856\ttest-rmse:8.29877+0.0103849\n",
      "[320]\ttrain-rmse:8.28994+0.00662948\ttest-rmse:8.29328+0.010934\n",
      "[330]\ttrain-rmse:8.28198+0.00673231\ttest-rmse:8.28518+0.0110696\n",
      "[340]\ttrain-rmse:8.27425+0.00753624\ttest-rmse:8.27775+0.00963944\n",
      "[350]\ttrain-rmse:8.26737+0.00662063\ttest-rmse:8.27086+0.0104564\n",
      "[360]\ttrain-rmse:8.26173+0.00706652\ttest-rmse:8.26515+0.0108837\n",
      "[370]\ttrain-rmse:8.25622+0.0066658\ttest-rmse:8.25961+0.0110274\n",
      "[380]\ttrain-rmse:8.25075+0.0061994\ttest-rmse:8.25418+0.0120461\n",
      "[390]\ttrain-rmse:8.2447+0.00526685\ttest-rmse:8.24846+0.0127407\n",
      "[400]\ttrain-rmse:8.23908+0.0057038\ttest-rmse:8.24259+0.0132943\n",
      "[410]\ttrain-rmse:8.23491+0.00647477\ttest-rmse:8.23846+0.0125233\n",
      "[420]\ttrain-rmse:8.229+0.00606055\ttest-rmse:8.23245+0.0126196\n",
      "[430]\ttrain-rmse:8.22492+0.00563162\ttest-rmse:8.22835+0.0121782\n",
      "[440]\ttrain-rmse:8.22036+0.00590625\ttest-rmse:8.22382+0.0118675\n",
      "[450]\ttrain-rmse:8.21574+0.00658395\ttest-rmse:8.21916+0.0118671\n",
      "[460]\ttrain-rmse:8.21116+0.00640886\ttest-rmse:8.21453+0.0117358\n",
      "[470]\ttrain-rmse:8.20698+0.00626085\ttest-rmse:8.2106+0.0119201\n",
      "[480]\ttrain-rmse:8.20223+0.00656643\ttest-rmse:8.20585+0.0121223\n",
      "[490]\ttrain-rmse:8.19823+0.00732522\ttest-rmse:8.20195+0.0118317\n",
      "[500]\ttrain-rmse:8.19446+0.00756466\ttest-rmse:8.19836+0.011686\n",
      "[510]\ttrain-rmse:8.19096+0.00755986\ttest-rmse:8.19453+0.0118933\n",
      "[520]\ttrain-rmse:8.18692+0.00723476\ttest-rmse:8.19027+0.0118299\n",
      "[530]\ttrain-rmse:8.18284+0.00668565\ttest-rmse:8.18638+0.0123708\n",
      "[540]\ttrain-rmse:8.17971+0.00684927\ttest-rmse:8.18326+0.012114\n",
      "[550]\ttrain-rmse:8.1762+0.00642829\ttest-rmse:8.17963+0.0125318\n",
      "[560]\ttrain-rmse:8.17285+0.00530595\ttest-rmse:8.17642+0.0132181\n",
      "[570]\ttrain-rmse:8.16948+0.00559073\ttest-rmse:8.17301+0.0130032\n",
      "[580]\ttrain-rmse:8.16604+0.00640326\ttest-rmse:8.16972+0.0127393\n",
      "[590]\ttrain-rmse:8.16298+0.00653086\ttest-rmse:8.16661+0.0127219\n",
      "[600]\ttrain-rmse:8.16035+0.00649299\ttest-rmse:8.1638+0.0130582\n",
      "[610]\ttrain-rmse:8.15765+0.0067834\ttest-rmse:8.16132+0.0128866\n",
      "[620]\ttrain-rmse:8.15465+0.00630293\ttest-rmse:8.15836+0.0129536\n",
      "[630]\ttrain-rmse:8.15195+0.0064139\ttest-rmse:8.15576+0.0129851\n",
      "[640]\ttrain-rmse:8.1493+0.00626357\ttest-rmse:8.1533+0.0131346\n",
      "[650]\ttrain-rmse:8.14704+0.00603019\ttest-rmse:8.15088+0.0130778\n",
      "[660]\ttrain-rmse:8.14449+0.0061322\ttest-rmse:8.14843+0.0131642\n",
      "[670]\ttrain-rmse:8.14142+0.00587494\ttest-rmse:8.14562+0.0138127\n",
      "[680]\ttrain-rmse:8.13901+0.0059651\ttest-rmse:8.14296+0.014414\n",
      "[690]\ttrain-rmse:8.13667+0.0060009\ttest-rmse:8.14073+0.0143804\n",
      "[700]\ttrain-rmse:8.13381+0.00485497\ttest-rmse:8.13805+0.015098\n",
      "[710]\ttrain-rmse:8.13151+0.00507969\ttest-rmse:8.13569+0.0152417\n",
      "[720]\ttrain-rmse:8.12919+0.0048822\ttest-rmse:8.13324+0.0153725\n",
      "[730]\ttrain-rmse:8.1269+0.00515152\ttest-rmse:8.13084+0.0154765\n",
      "[740]\ttrain-rmse:8.12429+0.00516272\ttest-rmse:8.12826+0.0150641\n",
      "[750]\ttrain-rmse:8.12226+0.00514206\ttest-rmse:8.1262+0.0153459\n",
      "[760]\ttrain-rmse:8.12024+0.00541054\ttest-rmse:8.12413+0.0151682\n",
      "[770]\ttrain-rmse:8.11811+0.00482522\ttest-rmse:8.12218+0.0150003\n",
      "[780]\ttrain-rmse:8.116+0.00471413\ttest-rmse:8.11996+0.0149516\n",
      "[790]\ttrain-rmse:8.11365+0.00485455\ttest-rmse:8.11764+0.0149024\n",
      "[800]\ttrain-rmse:8.11177+0.00489866\ttest-rmse:8.11563+0.0149138\n",
      "[810]\ttrain-rmse:8.10967+0.00502661\ttest-rmse:8.11371+0.0150388\n",
      "[820]\ttrain-rmse:8.10804+0.00488701\ttest-rmse:8.11226+0.0148122\n",
      "[830]\ttrain-rmse:8.10632+0.00456589\ttest-rmse:8.11066+0.0151101\n",
      "[840]\ttrain-rmse:8.10478+0.00446738\ttest-rmse:8.10909+0.0149557\n",
      "[850]\ttrain-rmse:8.1029+0.00448286\ttest-rmse:8.10741+0.0151145\n",
      "[860]\ttrain-rmse:8.10133+0.00448119\ttest-rmse:8.10591+0.0151145\n",
      "[870]\ttrain-rmse:8.09942+0.00467302\ttest-rmse:8.10406+0.0151575\n",
      "[880]\ttrain-rmse:8.09755+0.00482113\ttest-rmse:8.10241+0.0148938\n",
      "[890]\ttrain-rmse:8.0962+0.00464083\ttest-rmse:8.10102+0.0148941\n",
      "[900]\ttrain-rmse:8.09456+0.004893\ttest-rmse:8.09928+0.0146843\n",
      "[910]\ttrain-rmse:8.09305+0.00496329\ttest-rmse:8.09767+0.0148011\n",
      "[920]\ttrain-rmse:8.09149+0.00496139\ttest-rmse:8.09613+0.0148412\n",
      "[930]\ttrain-rmse:8.08983+0.00487821\ttest-rmse:8.09438+0.0146872\n",
      "[940]\ttrain-rmse:8.08856+0.00478438\ttest-rmse:8.09302+0.014561\n",
      "[950]\ttrain-rmse:8.08724+0.00470759\ttest-rmse:8.09187+0.0146068\n",
      "[960]\ttrain-rmse:8.08621+0.00474659\ttest-rmse:8.09057+0.0145866\n",
      "[970]\ttrain-rmse:8.08488+0.00475803\ttest-rmse:8.08926+0.0145911\n",
      "[980]\ttrain-rmse:8.08347+0.00488708\ttest-rmse:8.08782+0.0144873\n",
      "[990]\ttrain-rmse:8.08213+0.00505632\ttest-rmse:8.08668+0.0144027\n",
      "[1000]\ttrain-rmse:8.08106+0.00523285\ttest-rmse:8.08549+0.0141985\n",
      "[1010]\ttrain-rmse:8.07973+0.00547719\ttest-rmse:8.08423+0.0138443\n",
      "[1020]\ttrain-rmse:8.07824+0.00531601\ttest-rmse:8.08292+0.0138279\n",
      "[1030]\ttrain-rmse:8.07749+0.00537526\ttest-rmse:8.08195+0.0138328\n",
      "[1040]\ttrain-rmse:8.07647+0.00545613\ttest-rmse:8.08089+0.0137366\n",
      "[1050]\ttrain-rmse:8.07536+0.00507427\ttest-rmse:8.07976+0.0139884\n",
      "[1060]\ttrain-rmse:8.07419+0.00514535\ttest-rmse:8.07873+0.0139839\n",
      "[1070]\ttrain-rmse:8.07295+0.00507065\ttest-rmse:8.07747+0.0141\n",
      "[1080]\ttrain-rmse:8.07203+0.00500067\ttest-rmse:8.07641+0.0141134\n",
      "[1090]\ttrain-rmse:8.07093+0.00519208\ttest-rmse:8.07534+0.0139868\n",
      "[1100]\ttrain-rmse:8.06985+0.00488459\ttest-rmse:8.07419+0.0141989\n",
      "[1110]\ttrain-rmse:8.06892+0.00501623\ttest-rmse:8.07324+0.0138962\n",
      "[1120]\ttrain-rmse:8.06781+0.00509377\ttest-rmse:8.07212+0.0139335\n",
      "[1130]\ttrain-rmse:8.06664+0.00505976\ttest-rmse:8.07105+0.0139866\n",
      "[1140]\ttrain-rmse:8.06558+0.0051997\ttest-rmse:8.06998+0.0138484\n",
      "[1150]\ttrain-rmse:8.06426+0.00469921\ttest-rmse:8.06894+0.0141396\n",
      "[1160]\ttrain-rmse:8.06325+0.00489111\ttest-rmse:8.06789+0.0140997\n",
      "[1170]\ttrain-rmse:8.0624+0.00486733\ttest-rmse:8.06693+0.0142082\n",
      "[1180]\ttrain-rmse:8.06159+0.00473729\ttest-rmse:8.06597+0.0142786\n",
      "[1190]\ttrain-rmse:8.06052+0.00471144\ttest-rmse:8.06525+0.0143408\n",
      "[1200]\ttrain-rmse:8.05952+0.00458934\ttest-rmse:8.06423+0.0144513\n",
      "[1210]\ttrain-rmse:8.05861+0.00451516\ttest-rmse:8.06327+0.014526\n",
      "[1220]\ttrain-rmse:8.05754+0.00432794\ttest-rmse:8.06237+0.0145376\n",
      "[1230]\ttrain-rmse:8.05662+0.00399176\ttest-rmse:8.06129+0.0149217\n",
      "[1240]\ttrain-rmse:8.05583+0.00402376\ttest-rmse:8.0604+0.0149324\n",
      "[1250]\ttrain-rmse:8.05472+0.00420819\ttest-rmse:8.05943+0.0148297\n",
      "[1260]\ttrain-rmse:8.05378+0.00414923\ttest-rmse:8.05858+0.0148009\n",
      "[1270]\ttrain-rmse:8.05282+0.00406058\ttest-rmse:8.05758+0.0148909\n",
      "[1280]\ttrain-rmse:8.05234+0.00391329\ttest-rmse:8.05689+0.0148987\n",
      "[1290]\ttrain-rmse:8.05138+0.00377674\ttest-rmse:8.05613+0.0148683\n",
      "[1300]\ttrain-rmse:8.05043+0.00381838\ttest-rmse:8.05521+0.0149175\n",
      "[1310]\ttrain-rmse:8.04954+0.00368772\ttest-rmse:8.0543+0.0150356\n",
      "[1320]\ttrain-rmse:8.04872+0.00352794\ttest-rmse:8.0535+0.0151597\n",
      "[1330]\ttrain-rmse:8.04784+0.00365088\ttest-rmse:8.05276+0.0149259\n",
      "[1340]\ttrain-rmse:8.04705+0.00374069\ttest-rmse:8.05192+0.0148822\n",
      "[1350]\ttrain-rmse:8.04642+0.00380477\ttest-rmse:8.05116+0.0148748\n",
      "[1360]\ttrain-rmse:8.04548+0.00407104\ttest-rmse:8.05046+0.0148343\n",
      "[1370]\ttrain-rmse:8.04475+0.00394666\ttest-rmse:8.04977+0.0148271\n",
      "[1380]\ttrain-rmse:8.04414+0.00387979\ttest-rmse:8.04912+0.0148037\n",
      "[1390]\ttrain-rmse:8.04334+0.00387343\ttest-rmse:8.04825+0.0148908\n",
      "[1400]\ttrain-rmse:8.0426+0.00385222\ttest-rmse:8.04741+0.0149626\n",
      "[1410]\ttrain-rmse:8.04172+0.00384028\ttest-rmse:8.04662+0.0149688\n",
      "[1420]\ttrain-rmse:8.04107+0.00348693\ttest-rmse:8.04593+0.0149729\n",
      "[1430]\ttrain-rmse:8.04023+0.00349051\ttest-rmse:8.04513+0.0151193\n",
      "[1440]\ttrain-rmse:8.03926+0.00352658\ttest-rmse:8.0442+0.0150824\n",
      "[1450]\ttrain-rmse:8.03859+0.00350772\ttest-rmse:8.04349+0.0152358\n",
      "[1460]\ttrain-rmse:8.03777+0.00358168\ttest-rmse:8.0427+0.0151542\n",
      "[1470]\ttrain-rmse:8.03699+0.00364145\ttest-rmse:8.04221+0.0151248\n",
      "[1480]\ttrain-rmse:8.03648+0.0033984\ttest-rmse:8.0417+0.0151201\n",
      "[1490]\ttrain-rmse:8.03599+0.00347727\ttest-rmse:8.0411+0.0151665\n",
      "[1500]\ttrain-rmse:8.03544+0.00351017\ttest-rmse:8.04043+0.0150256\n",
      "[1510]\ttrain-rmse:8.03474+0.0035424\ttest-rmse:8.03995+0.0150343\n",
      "[1520]\ttrain-rmse:8.03409+0.00369174\ttest-rmse:8.03937+0.0148743\n",
      "[1530]\ttrain-rmse:8.03359+0.00368716\ttest-rmse:8.03868+0.0148157\n",
      "[1540]\ttrain-rmse:8.03286+0.00379063\ttest-rmse:8.03811+0.0148239\n",
      "[1550]\ttrain-rmse:8.0325+0.00374115\ttest-rmse:8.03757+0.0148197\n",
      "[1560]\ttrain-rmse:8.03176+0.00364037\ttest-rmse:8.0369+0.0148337\n"
     ]
    },
    {
     "name": "stdout",
     "output_type": "stream",
     "text": [
      "[1570]\ttrain-rmse:8.03113+0.0034705\ttest-rmse:8.03626+0.0150224\n",
      "[1580]\ttrain-rmse:8.0303+0.00354163\ttest-rmse:8.03564+0.0148912\n",
      "[1590]\ttrain-rmse:8.02985+0.00367617\ttest-rmse:8.035+0.0148078\n",
      "[1600]\ttrain-rmse:8.02933+0.00354521\ttest-rmse:8.03447+0.0148145\n",
      "[1610]\ttrain-rmse:8.02885+0.00349443\ttest-rmse:8.03402+0.0148098\n",
      "[1620]\ttrain-rmse:8.02809+0.00342647\ttest-rmse:8.03343+0.0148611\n",
      "[1630]\ttrain-rmse:8.02765+0.00359742\ttest-rmse:8.03297+0.0147579\n",
      "[1640]\ttrain-rmse:8.02708+0.00353669\ttest-rmse:8.0324+0.0149554\n",
      "[1650]\ttrain-rmse:8.02663+0.00329649\ttest-rmse:8.03186+0.0149326\n",
      "[1660]\ttrain-rmse:8.02592+0.00344409\ttest-rmse:8.03128+0.0149449\n",
      "[1670]\ttrain-rmse:8.02567+0.00372162\ttest-rmse:8.03083+0.0146973\n",
      "[1680]\ttrain-rmse:8.02508+0.00368961\ttest-rmse:8.03032+0.014696\n",
      "[1690]\ttrain-rmse:8.02426+0.00361836\ttest-rmse:8.02971+0.0146885\n",
      "[1700]\ttrain-rmse:8.02392+0.00338303\ttest-rmse:8.02916+0.0147075\n",
      "[1710]\ttrain-rmse:8.02346+0.00336415\ttest-rmse:8.02881+0.0147085\n",
      "[1720]\ttrain-rmse:8.02305+0.0033194\ttest-rmse:8.02842+0.0147782\n",
      "[1730]\ttrain-rmse:8.02248+0.00344487\ttest-rmse:8.02787+0.0147257\n",
      "[1740]\ttrain-rmse:8.02212+0.00364986\ttest-rmse:8.02742+0.014792\n",
      "[1750]\ttrain-rmse:8.02162+0.00357107\ttest-rmse:8.02704+0.0147871\n",
      "[1760]\ttrain-rmse:8.02096+0.00355987\ttest-rmse:8.02665+0.0148164\n",
      "[1770]\ttrain-rmse:8.02069+0.00361882\ttest-rmse:8.02619+0.0147632\n",
      "[1780]\ttrain-rmse:8.02012+0.00351262\ttest-rmse:8.02563+0.0147647\n",
      "[1790]\ttrain-rmse:8.01973+0.00348892\ttest-rmse:8.02513+0.0147249\n",
      "[1800]\ttrain-rmse:8.01935+0.00342942\ttest-rmse:8.02487+0.0147524\n",
      "[1810]\ttrain-rmse:8.01892+0.00362868\ttest-rmse:8.02435+0.014783\n",
      "[1820]\ttrain-rmse:8.01848+0.00348413\ttest-rmse:8.02385+0.0148004\n",
      "[1830]\ttrain-rmse:8.01799+0.00346896\ttest-rmse:8.02342+0.0147521\n",
      "[1840]\ttrain-rmse:8.01761+0.00364861\ttest-rmse:8.02302+0.014665\n",
      "[1850]\ttrain-rmse:8.0173+0.00349524\ttest-rmse:8.0227+0.0146989\n",
      "[1860]\ttrain-rmse:8.01676+0.00385628\ttest-rmse:8.02218+0.0146116\n",
      "[1870]\ttrain-rmse:8.01644+0.00368827\ttest-rmse:8.02188+0.0146241\n",
      "[1880]\ttrain-rmse:8.01591+0.00387541\ttest-rmse:8.02139+0.0145998\n",
      "[1890]\ttrain-rmse:8.01555+0.0036948\ttest-rmse:8.02091+0.014645\n",
      "[1900]\ttrain-rmse:8.01519+0.00380744\ttest-rmse:8.02064+0.0146429\n",
      "[1910]\ttrain-rmse:8.01468+0.00384806\ttest-rmse:8.02024+0.0145306\n",
      "[1920]\ttrain-rmse:8.01431+0.00385379\ttest-rmse:8.01984+0.0146514\n",
      "[1930]\ttrain-rmse:8.01391+0.00366634\ttest-rmse:8.0195+0.0146903\n",
      "[1940]\ttrain-rmse:8.01357+0.00347013\ttest-rmse:8.01917+0.014651\n",
      "[1950]\ttrain-rmse:8.01326+0.00347168\ttest-rmse:8.01878+0.0147001\n",
      "[1960]\ttrain-rmse:8.01299+0.00335428\ttest-rmse:8.01841+0.0147996\n",
      "[1970]\ttrain-rmse:8.01248+0.00343575\ttest-rmse:8.01804+0.0147745\n",
      "[1980]\ttrain-rmse:8.01211+0.00332188\ttest-rmse:8.01765+0.0147596\n",
      "[1990]\ttrain-rmse:8.01174+0.00339346\ttest-rmse:8.01729+0.01473\n",
      "[1999]\ttrain-rmse:8.0114+0.00341708\ttest-rmse:8.01698+0.014716\n",
      "[0]\ttrain-rmse:61.3873+0.00858047\ttest-rmse:61.3837+0.0355242\n",
      "[10]\ttrain-rmse:23.1595+0.067904\ttest-rmse:23.1599+0.0667304\n",
      "[20]\ttrain-rmse:11.3959+0.0468271\ttest-rmse:11.3986+0.0377303\n",
      "[30]\ttrain-rmse:8.71748+0.0141796\ttest-rmse:8.71876+0.0309411\n",
      "[40]\ttrain-rmse:8.2089+0.00635512\ttest-rmse:8.21284+0.0217097\n",
      "[50]\ttrain-rmse:8.0758+0.00794207\ttest-rmse:8.0799+0.025303\n",
      "[60]\ttrain-rmse:8.0275+0.00666052\ttest-rmse:8.03179+0.0238799\n",
      "[70]\ttrain-rmse:7.9956+0.00786649\ttest-rmse:8.00066+0.0169563\n",
      "[80]\ttrain-rmse:7.97555+0.0058308\ttest-rmse:7.98102+0.0149915\n",
      "[90]\ttrain-rmse:7.96046+0.00509197\ttest-rmse:7.96611+0.0144736\n",
      "[100]\ttrain-rmse:7.95069+0.00586272\ttest-rmse:7.95632+0.0132188\n",
      "[110]\ttrain-rmse:7.94364+0.00577348\ttest-rmse:7.94942+0.0128016\n",
      "[120]\ttrain-rmse:7.93632+0.00611409\ttest-rmse:7.94227+0.0137872\n",
      "[130]\ttrain-rmse:7.92973+0.00508277\ttest-rmse:7.93586+0.0140944\n",
      "[140]\ttrain-rmse:7.92539+0.00499329\ttest-rmse:7.93155+0.014054\n",
      "[150]\ttrain-rmse:7.9213+0.00462092\ttest-rmse:7.92772+0.0135389\n",
      "[160]\ttrain-rmse:7.9181+0.00450171\ttest-rmse:7.92442+0.013335\n",
      "[170]\ttrain-rmse:7.91601+0.00426718\ttest-rmse:7.9223+0.0136175\n",
      "[180]\ttrain-rmse:7.91438+0.00390105\ttest-rmse:7.9208+0.0137396\n",
      "[190]\ttrain-rmse:7.91269+0.00369813\ttest-rmse:7.91922+0.0140091\n",
      "[200]\ttrain-rmse:7.91124+0.00374845\ttest-rmse:7.91793+0.013912\n",
      "[210]\ttrain-rmse:7.91028+0.00401876\ttest-rmse:7.91707+0.0140287\n",
      "[220]\ttrain-rmse:7.90947+0.00378646\ttest-rmse:7.91622+0.0141407\n",
      "[230]\ttrain-rmse:7.90873+0.00371353\ttest-rmse:7.91554+0.01419\n",
      "[240]\ttrain-rmse:7.90818+0.00361618\ttest-rmse:7.91483+0.0142058\n",
      "[250]\ttrain-rmse:7.90755+0.00373931\ttest-rmse:7.91443+0.014211\n",
      "[260]\ttrain-rmse:7.90714+0.00361456\ttest-rmse:7.91407+0.0142622\n",
      "[270]\ttrain-rmse:7.9069+0.00358275\ttest-rmse:7.91372+0.0143015\n",
      "[280]\ttrain-rmse:7.90668+0.00348683\ttest-rmse:7.91342+0.014309\n",
      "[290]\ttrain-rmse:7.90642+0.00358468\ttest-rmse:7.91325+0.0141848\n",
      "[300]\ttrain-rmse:7.90587+0.00367655\ttest-rmse:7.91308+0.0142192\n",
      "[310]\ttrain-rmse:7.90568+0.00363396\ttest-rmse:7.91286+0.0141936\n",
      "[320]\ttrain-rmse:7.90556+0.00355405\ttest-rmse:7.91274+0.0141739\n",
      "[330]\ttrain-rmse:7.90541+0.00354078\ttest-rmse:7.91254+0.0142492\n",
      "[340]\ttrain-rmse:7.90533+0.00344386\ttest-rmse:7.91236+0.0141412\n",
      "[350]\ttrain-rmse:7.90508+0.00353343\ttest-rmse:7.91226+0.0141915\n",
      "[360]\ttrain-rmse:7.90507+0.00356562\ttest-rmse:7.91216+0.014139\n",
      "[370]\ttrain-rmse:7.90494+0.00355653\ttest-rmse:7.91205+0.0141638\n",
      "[380]\ttrain-rmse:7.90485+0.00361456\ttest-rmse:7.91203+0.014136\n",
      "[390]\ttrain-rmse:7.90479+0.00352955\ttest-rmse:7.91193+0.0141994\n",
      "[400]\ttrain-rmse:7.90466+0.00346652\ttest-rmse:7.91187+0.0141794\n",
      "[410]\ttrain-rmse:7.90468+0.00354059\ttest-rmse:7.91184+0.0142638\n",
      "[420]\ttrain-rmse:7.90456+0.00353821\ttest-rmse:7.91176+0.0141999\n",
      "[430]\ttrain-rmse:7.90457+0.00352288\ttest-rmse:7.9117+0.014176\n",
      "[440]\ttrain-rmse:7.90439+0.00370558\ttest-rmse:7.91165+0.0141892\n",
      "[450]\ttrain-rmse:7.90441+0.00348474\ttest-rmse:7.91166+0.0142162\n",
      "[460]\ttrain-rmse:7.90425+0.00363312\ttest-rmse:7.9116+0.0141688\n",
      "[470]\ttrain-rmse:7.90422+0.00360939\ttest-rmse:7.91154+0.0141999\n",
      "[480]\ttrain-rmse:7.90428+0.00350284\ttest-rmse:7.91149+0.0141842\n",
      "[490]\ttrain-rmse:7.9042+0.00354842\ttest-rmse:7.91152+0.0141214\n",
      "[500]\ttrain-rmse:7.90419+0.00364456\ttest-rmse:7.91152+0.0141094\n",
      "[510]\ttrain-rmse:7.90418+0.00364384\ttest-rmse:7.91143+0.014131\n",
      "[520]\ttrain-rmse:7.90425+0.00356629\ttest-rmse:7.91142+0.0141318\n",
      "[530]\ttrain-rmse:7.90414+0.00346828\ttest-rmse:7.91138+0.0140922\n",
      "[540]\ttrain-rmse:7.90424+0.00356023\ttest-rmse:7.91131+0.014155\n",
      "[550]\ttrain-rmse:7.90404+0.0036772\ttest-rmse:7.91137+0.0142755\n",
      "[560]\ttrain-rmse:7.90419+0.00355859\ttest-rmse:7.91131+0.0141756\n",
      "[570]\ttrain-rmse:7.90406+0.00362796\ttest-rmse:7.91122+0.0141263\n",
      "[580]\ttrain-rmse:7.90406+0.00348427\ttest-rmse:7.91117+0.0141279\n",
      "[590]\ttrain-rmse:7.90402+0.00342244\ttest-rmse:7.91112+0.0141872\n",
      "[600]\ttrain-rmse:7.90407+0.00341122\ttest-rmse:7.91114+0.0141381\n",
      "[610]\ttrain-rmse:7.904+0.00348602\ttest-rmse:7.91111+0.0141844\n",
      "[620]\ttrain-rmse:7.904+0.00352465\ttest-rmse:7.91112+0.0142064\n",
      "[630]\ttrain-rmse:7.90393+0.00354911\ttest-rmse:7.91109+0.0142587\n",
      "[640]\ttrain-rmse:7.90391+0.00346125\ttest-rmse:7.91104+0.0142497\n",
      "[650]\ttrain-rmse:7.90388+0.00347373\ttest-rmse:7.91114+0.0142979\n",
      "[660]\ttrain-rmse:7.90393+0.00353469\ttest-rmse:7.91114+0.0143202\n",
      "[670]\ttrain-rmse:7.90384+0.00355485\ttest-rmse:7.91114+0.0143088\n",
      "[0]\ttrain-rmse:61.3279+0.00920528\ttest-rmse:61.3243+0.0362438\n",
      "[10]\ttrain-rmse:22.9167+0.0538072\ttest-rmse:22.916+0.0506245\n",
      "[20]\ttrain-rmse:11.0485+0.0270475\ttest-rmse:11.0529+0.014357\n",
      "[30]\ttrain-rmse:8.41376+0.0153461\ttest-rmse:8.41736+0.0197219\n",
      "[40]\ttrain-rmse:7.99116+0.0092169\ttest-rmse:7.99777+0.0116117\n",
      "[50]\ttrain-rmse:7.92192+0.00528305\ttest-rmse:7.92897+0.0137728\n",
      "[60]\ttrain-rmse:7.90983+0.00351087\ttest-rmse:7.91652+0.0148348\n",
      "[70]\ttrain-rmse:7.90615+0.00387532\ttest-rmse:7.91303+0.0141903\n",
      "[80]\ttrain-rmse:7.90473+0.00366265\ttest-rmse:7.91169+0.0142319\n",
      "[90]\ttrain-rmse:7.90406+0.00342573\ttest-rmse:7.91114+0.0142975\n",
      "[100]\ttrain-rmse:7.904+0.00343598\ttest-rmse:7.91097+0.0142472\n",
      "[110]\ttrain-rmse:7.90377+0.00351466\ttest-rmse:7.91085+0.0141869\n",
      "[120]\ttrain-rmse:7.90374+0.0034768\ttest-rmse:7.91094+0.0141259\n",
      "[130]\ttrain-rmse:7.90382+0.00355931\ttest-rmse:7.9109+0.0142349\n",
      "[140]\ttrain-rmse:7.90377+0.00344908\ttest-rmse:7.91081+0.0141909\n",
      "[150]\ttrain-rmse:7.90359+0.00339212\ttest-rmse:7.91081+0.0142711\n",
      "[160]\ttrain-rmse:7.90363+0.00348869\ttest-rmse:7.91087+0.0142696\n"
     ]
    },
    {
     "name": "stdout",
     "output_type": "stream",
     "text": [
      "[170]\ttrain-rmse:7.9035+0.00338841\ttest-rmse:7.91092+0.0142383\n",
      "[180]\ttrain-rmse:7.90358+0.00357321\ttest-rmse:7.91083+0.0143167\n",
      "[190]\ttrain-rmse:7.90355+0.00346336\ttest-rmse:7.91091+0.0143329\n",
      "[0]\ttrain-rmse:58.3459+0.00883518\ttest-rmse:58.3341+0.0369928\n",
      "[10]\ttrain-rmse:15.8652+0.148458\ttest-rmse:15.8705+0.133055\n",
      "[20]\ttrain-rmse:9.79353+0.0682387\ttest-rmse:9.79662+0.0425056\n",
      "[30]\ttrain-rmse:9.06098+0.0278821\ttest-rmse:9.06277+0.0191892\n",
      "[40]\ttrain-rmse:8.8711+0.0359734\ttest-rmse:8.87345+0.0226358\n",
      "[50]\ttrain-rmse:8.76961+0.0290776\ttest-rmse:8.77187+0.0260564\n",
      "[60]\ttrain-rmse:8.70292+0.0306206\ttest-rmse:8.705+0.0276102\n",
      "[70]\ttrain-rmse:8.63712+0.018521\ttest-rmse:8.63956+0.0135026\n",
      "[80]\ttrain-rmse:8.5805+0.0144806\ttest-rmse:8.58324+0.00661122\n",
      "[90]\ttrain-rmse:8.53509+0.0101415\ttest-rmse:8.53739+0.00810738\n",
      "[100]\ttrain-rmse:8.50183+0.0173759\ttest-rmse:8.50431+0.0100663\n",
      "[110]\ttrain-rmse:8.47214+0.0126059\ttest-rmse:8.47477+0.0091965\n",
      "[120]\ttrain-rmse:8.44584+0.011677\ttest-rmse:8.44854+0.0129139\n",
      "[130]\ttrain-rmse:8.42127+0.00841826\ttest-rmse:8.42454+0.0153932\n",
      "[140]\ttrain-rmse:8.40257+0.00658082\ttest-rmse:8.40537+0.0123502\n",
      "[150]\ttrain-rmse:8.3844+0.00623567\ttest-rmse:8.38721+0.0138563\n",
      "[160]\ttrain-rmse:8.36359+0.00895428\ttest-rmse:8.36661+0.0138014\n",
      "[170]\ttrain-rmse:8.35014+0.00893614\ttest-rmse:8.35305+0.00955997\n",
      "[180]\ttrain-rmse:8.3371+0.00840664\ttest-rmse:8.33998+0.00837913\n",
      "[190]\ttrain-rmse:8.3212+0.00549449\ttest-rmse:8.32423+0.0111056\n",
      "[200]\ttrain-rmse:8.30789+0.00572528\ttest-rmse:8.31117+0.0120397\n",
      "[210]\ttrain-rmse:8.29611+0.00517032\ttest-rmse:8.2992+0.0127593\n",
      "[220]\ttrain-rmse:8.28313+0.00400914\ttest-rmse:8.28632+0.0154884\n",
      "[230]\ttrain-rmse:8.27032+0.00626292\ttest-rmse:8.2735+0.0145978\n",
      "[240]\ttrain-rmse:8.26173+0.0041168\ttest-rmse:8.26473+0.0154152\n",
      "[250]\ttrain-rmse:8.25257+0.00583532\ttest-rmse:8.25574+0.0157051\n",
      "[260]\ttrain-rmse:8.24238+0.00460332\ttest-rmse:8.24577+0.0150684\n",
      "[270]\ttrain-rmse:8.23439+0.00559249\ttest-rmse:8.23791+0.0158925\n",
      "[280]\ttrain-rmse:8.22679+0.00622718\ttest-rmse:8.23003+0.0165602\n",
      "[290]\ttrain-rmse:8.21979+0.00648423\ttest-rmse:8.22336+0.0173613\n",
      "[300]\ttrain-rmse:8.21338+0.00676019\ttest-rmse:8.21683+0.0171069\n",
      "[310]\ttrain-rmse:8.20644+0.00621375\ttest-rmse:8.2097+0.0174743\n",
      "[320]\ttrain-rmse:8.20061+0.00828049\ttest-rmse:8.2039+0.0179246\n",
      "[330]\ttrain-rmse:8.19438+0.00845121\ttest-rmse:8.19781+0.0171205\n",
      "[340]\ttrain-rmse:8.18924+0.00779624\ttest-rmse:8.19255+0.0159032\n",
      "[350]\ttrain-rmse:8.18303+0.00811941\ttest-rmse:8.18651+0.0164165\n",
      "[360]\ttrain-rmse:8.17941+0.00807044\ttest-rmse:8.18292+0.015951\n",
      "[370]\ttrain-rmse:8.1737+0.00839839\ttest-rmse:8.17755+0.0165662\n",
      "[380]\ttrain-rmse:8.169+0.00798291\ttest-rmse:8.17263+0.0168724\n",
      "[390]\ttrain-rmse:8.16493+0.00825843\ttest-rmse:8.16818+0.0165974\n",
      "[400]\ttrain-rmse:8.16031+0.00847825\ttest-rmse:8.16353+0.0170337\n",
      "[410]\ttrain-rmse:8.15615+0.0080361\ttest-rmse:8.15945+0.0175142\n",
      "[420]\ttrain-rmse:8.15203+0.00735155\ttest-rmse:8.15538+0.017105\n",
      "[430]\ttrain-rmse:8.14814+0.00686442\ttest-rmse:8.15169+0.0169312\n",
      "[440]\ttrain-rmse:8.1445+0.0072683\ttest-rmse:8.148+0.0170744\n",
      "[450]\ttrain-rmse:8.14069+0.00760769\ttest-rmse:8.14421+0.0175627\n",
      "[460]\ttrain-rmse:8.13723+0.00787758\ttest-rmse:8.14109+0.0180924\n",
      "[470]\ttrain-rmse:8.13378+0.00810957\ttest-rmse:8.13793+0.0179129\n",
      "[480]\ttrain-rmse:8.13062+0.00769435\ttest-rmse:8.13442+0.0181883\n",
      "[490]\ttrain-rmse:8.12759+0.00750579\ttest-rmse:8.13139+0.018769\n",
      "[500]\ttrain-rmse:8.12453+0.00716825\ttest-rmse:8.12815+0.0185455\n",
      "[510]\ttrain-rmse:8.12122+0.00688927\ttest-rmse:8.12484+0.0176922\n",
      "[520]\ttrain-rmse:8.11773+0.00621094\ttest-rmse:8.12155+0.0174897\n",
      "[530]\ttrain-rmse:8.1149+0.00563899\ttest-rmse:8.11888+0.0171617\n",
      "[540]\ttrain-rmse:8.11182+0.00511154\ttest-rmse:8.11571+0.0166611\n",
      "[550]\ttrain-rmse:8.1094+0.00563409\ttest-rmse:8.11341+0.0165149\n",
      "[560]\ttrain-rmse:8.1067+0.00543818\ttest-rmse:8.11075+0.0164063\n",
      "[570]\ttrain-rmse:8.10433+0.00540719\ttest-rmse:8.10842+0.0159005\n",
      "[580]\ttrain-rmse:8.10214+0.00590563\ttest-rmse:8.10609+0.015528\n",
      "[590]\ttrain-rmse:8.09974+0.00577323\ttest-rmse:8.10378+0.0152933\n",
      "[600]\ttrain-rmse:8.09744+0.00594269\ttest-rmse:8.10141+0.0148718\n",
      "[610]\ttrain-rmse:8.09545+0.00591586\ttest-rmse:8.09929+0.0149544\n",
      "[620]\ttrain-rmse:8.09296+0.00578285\ttest-rmse:8.09699+0.0151358\n",
      "[630]\ttrain-rmse:8.09028+0.00587529\ttest-rmse:8.09429+0.0150432\n",
      "[640]\ttrain-rmse:8.08841+0.00584122\ttest-rmse:8.09226+0.0150085\n",
      "[650]\ttrain-rmse:8.08612+0.00550559\ttest-rmse:8.09004+0.0151419\n",
      "[660]\ttrain-rmse:8.08421+0.00514313\ttest-rmse:8.08829+0.0150331\n",
      "[670]\ttrain-rmse:8.08194+0.00527192\ttest-rmse:8.08602+0.0156466\n",
      "[680]\ttrain-rmse:8.07978+0.00459541\ttest-rmse:8.08369+0.0158819\n",
      "[690]\ttrain-rmse:8.07822+0.00492309\ttest-rmse:8.08204+0.0160352\n",
      "[700]\ttrain-rmse:8.07638+0.00479919\ttest-rmse:8.08038+0.0165772\n",
      "[710]\ttrain-rmse:8.07478+0.00453367\ttest-rmse:8.07883+0.0168133\n",
      "[720]\ttrain-rmse:8.07303+0.00398928\ttest-rmse:8.07687+0.0168365\n",
      "[730]\ttrain-rmse:8.0713+0.00392458\ttest-rmse:8.07522+0.0166295\n",
      "[740]\ttrain-rmse:8.0693+0.00407342\ttest-rmse:8.07334+0.0166004\n",
      "[750]\ttrain-rmse:8.06769+0.0042653\ttest-rmse:8.07172+0.0165153\n",
      "[760]\ttrain-rmse:8.06605+0.00445506\ttest-rmse:8.07022+0.0162188\n",
      "[770]\ttrain-rmse:8.06447+0.00418448\ttest-rmse:8.06866+0.0160678\n",
      "[780]\ttrain-rmse:8.06308+0.00398822\ttest-rmse:8.06695+0.0158982\n",
      "[790]\ttrain-rmse:8.0612+0.00398688\ttest-rmse:8.06529+0.0161316\n",
      "[800]\ttrain-rmse:8.05993+0.00382052\ttest-rmse:8.06394+0.0161113\n",
      "[810]\ttrain-rmse:8.0584+0.00364842\ttest-rmse:8.06241+0.0160422\n",
      "[820]\ttrain-rmse:8.05674+0.00349335\ttest-rmse:8.06091+0.015878\n",
      "[830]\ttrain-rmse:8.05542+0.0032482\ttest-rmse:8.05944+0.0163509\n",
      "[840]\ttrain-rmse:8.05421+0.00338257\ttest-rmse:8.05822+0.0161567\n",
      "[850]\ttrain-rmse:8.05302+0.00353856\ttest-rmse:8.05698+0.0159743\n",
      "[860]\ttrain-rmse:8.05156+0.00387293\ttest-rmse:8.05567+0.0157684\n",
      "[870]\ttrain-rmse:8.05034+0.00366335\ttest-rmse:8.05443+0.015914\n",
      "[880]\ttrain-rmse:8.04913+0.00378006\ttest-rmse:8.05348+0.015881\n",
      "[890]\ttrain-rmse:8.04789+0.00343455\ttest-rmse:8.05216+0.0159218\n",
      "[900]\ttrain-rmse:8.04697+0.00326289\ttest-rmse:8.05096+0.0160797\n",
      "[910]\ttrain-rmse:8.04571+0.00319641\ttest-rmse:8.04983+0.0160495\n",
      "[920]\ttrain-rmse:8.04444+0.00333436\ttest-rmse:8.04875+0.0160434\n",
      "[930]\ttrain-rmse:8.04311+0.00330704\ttest-rmse:8.04733+0.0158891\n",
      "[940]\ttrain-rmse:8.04203+0.00333857\ttest-rmse:8.04633+0.0156427\n",
      "[950]\ttrain-rmse:8.04095+0.00320567\ttest-rmse:8.04518+0.0157702\n",
      "[960]\ttrain-rmse:8.04027+0.00330004\ttest-rmse:8.04434+0.01571\n",
      "[970]\ttrain-rmse:8.03916+0.00359568\ttest-rmse:8.04345+0.0155556\n",
      "[980]\ttrain-rmse:8.03822+0.00365183\ttest-rmse:8.04243+0.0153185\n",
      "[990]\ttrain-rmse:8.03734+0.00363418\ttest-rmse:8.04176+0.0152068\n",
      "[1000]\ttrain-rmse:8.03651+0.00389201\ttest-rmse:8.04082+0.0150537\n",
      "[1010]\ttrain-rmse:8.03549+0.00385839\ttest-rmse:8.03997+0.0148491\n",
      "[1020]\ttrain-rmse:8.03466+0.00396731\ttest-rmse:8.03903+0.0149444\n",
      "[1030]\ttrain-rmse:8.03389+0.00369078\ttest-rmse:8.03824+0.0151493\n",
      "[1040]\ttrain-rmse:8.03309+0.00359186\ttest-rmse:8.03747+0.015213\n",
      "[1050]\ttrain-rmse:8.03216+0.00362927\ttest-rmse:8.03672+0.0153396\n",
      "[1060]\ttrain-rmse:8.03133+0.00374474\ttest-rmse:8.03581+0.0154052\n",
      "[1070]\ttrain-rmse:8.03065+0.00385374\ttest-rmse:8.03512+0.0154149\n",
      "[1080]\ttrain-rmse:8.02997+0.00393316\ttest-rmse:8.03449+0.0153333\n",
      "[1090]\ttrain-rmse:8.02883+0.00355373\ttest-rmse:8.03366+0.0152472\n",
      "[1100]\ttrain-rmse:8.02832+0.00368779\ttest-rmse:8.03272+0.0151781\n",
      "[1110]\ttrain-rmse:8.02746+0.0037174\ttest-rmse:8.03211+0.0150697\n",
      "[1120]\ttrain-rmse:8.0269+0.00353344\ttest-rmse:8.03153+0.0151653\n",
      "[1130]\ttrain-rmse:8.02613+0.00343953\ttest-rmse:8.03082+0.0153252\n",
      "[1140]\ttrain-rmse:8.0253+0.00352954\ttest-rmse:8.03006+0.0151688\n",
      "[1150]\ttrain-rmse:8.02452+0.00366405\ttest-rmse:8.02938+0.0151526\n",
      "[1160]\ttrain-rmse:8.02398+0.00355374\ttest-rmse:8.02866+0.015298\n",
      "[1170]\ttrain-rmse:8.02345+0.00323758\ttest-rmse:8.02803+0.015263\n",
      "[1180]\ttrain-rmse:8.02251+0.00339932\ttest-rmse:8.02729+0.015153\n",
      "[1190]\ttrain-rmse:8.02202+0.00347072\ttest-rmse:8.02662+0.0151739\n",
      "[1200]\ttrain-rmse:8.02116+0.00343451\ttest-rmse:8.02595+0.0151418\n",
      "[1210]\ttrain-rmse:8.02043+0.00347156\ttest-rmse:8.02535+0.0151558\n",
      "[1220]\ttrain-rmse:8.01978+0.00310838\ttest-rmse:8.02464+0.0152777\n",
      "[1230]\ttrain-rmse:8.01905+0.00311832\ttest-rmse:8.024+0.0153889\n",
      "[1240]\ttrain-rmse:8.01846+0.00289565\ttest-rmse:8.02334+0.0153922\n",
      "[1250]\ttrain-rmse:8.01763+0.0028794\ttest-rmse:8.02261+0.0156404\n"
     ]
    },
    {
     "name": "stdout",
     "output_type": "stream",
     "text": [
      "[1260]\ttrain-rmse:8.01693+0.00266268\ttest-rmse:8.02177+0.0155589\n",
      "[1270]\ttrain-rmse:8.0163+0.00267221\ttest-rmse:8.02113+0.0156275\n",
      "[1280]\ttrain-rmse:8.01572+0.00266051\ttest-rmse:8.02055+0.0156767\n",
      "[1290]\ttrain-rmse:8.01497+0.00288431\ttest-rmse:8.02+0.0156242\n",
      "[1300]\ttrain-rmse:8.01425+0.0028103\ttest-rmse:8.01941+0.0155969\n",
      "[1310]\ttrain-rmse:8.01373+0.00277958\ttest-rmse:8.01898+0.0156064\n",
      "[1320]\ttrain-rmse:8.01325+0.00290171\ttest-rmse:8.01839+0.0156171\n",
      "[1330]\ttrain-rmse:8.0127+0.00288901\ttest-rmse:8.0178+0.015578\n",
      "[1340]\ttrain-rmse:8.01212+0.00289833\ttest-rmse:8.01721+0.0155901\n",
      "[1350]\ttrain-rmse:8.01152+0.00294936\ttest-rmse:8.01665+0.0155922\n",
      "[1360]\ttrain-rmse:8.01088+0.00269146\ttest-rmse:8.01608+0.015499\n",
      "[1370]\ttrain-rmse:8.01044+0.00277211\ttest-rmse:8.01558+0.0155239\n",
      "[1380]\ttrain-rmse:8.00981+0.00270437\ttest-rmse:8.01491+0.0156166\n",
      "[1390]\ttrain-rmse:8.00928+0.00249454\ttest-rmse:8.01447+0.0156599\n",
      "[1400]\ttrain-rmse:8.00883+0.00276051\ttest-rmse:8.01391+0.0155544\n",
      "[1410]\ttrain-rmse:8.00816+0.0028775\ttest-rmse:8.01332+0.0155705\n",
      "[1420]\ttrain-rmse:8.00777+0.0025749\ttest-rmse:8.01287+0.0155586\n",
      "[1430]\ttrain-rmse:8.00718+0.0027118\ttest-rmse:8.01242+0.0155434\n",
      "[1440]\ttrain-rmse:8.00659+0.002758\ttest-rmse:8.01187+0.015366\n",
      "[1450]\ttrain-rmse:8.00618+0.00270583\ttest-rmse:8.0114+0.0154473\n",
      "[1460]\ttrain-rmse:8.00565+0.0027383\ttest-rmse:8.01092+0.0153782\n",
      "[1470]\ttrain-rmse:8.00541+0.00283968\ttest-rmse:8.01055+0.0153089\n",
      "[1480]\ttrain-rmse:8.00481+0.00275485\ttest-rmse:8.01013+0.0153342\n",
      "[1490]\ttrain-rmse:8.00456+0.00272699\ttest-rmse:8.00983+0.0153762\n",
      "[1500]\ttrain-rmse:8.00408+0.0026455\ttest-rmse:8.00945+0.0154233\n",
      "[1510]\ttrain-rmse:8.0036+0.00247182\ttest-rmse:8.00901+0.0154672\n",
      "[1520]\ttrain-rmse:8.00341+0.00262285\ttest-rmse:8.00861+0.0154157\n",
      "[1530]\ttrain-rmse:8.00297+0.00256653\ttest-rmse:8.00825+0.0153702\n",
      "[1540]\ttrain-rmse:8.00257+0.00268261\ttest-rmse:8.00787+0.0152958\n",
      "[1550]\ttrain-rmse:8.00207+0.00254655\ttest-rmse:8.00742+0.0153119\n",
      "[1560]\ttrain-rmse:8.00166+0.00255321\ttest-rmse:8.00701+0.0152469\n",
      "[1570]\ttrain-rmse:8.00125+0.00251508\ttest-rmse:8.00671+0.0152945\n",
      "[1580]\ttrain-rmse:8.0007+0.00265038\ttest-rmse:8.00628+0.0152328\n",
      "[1590]\ttrain-rmse:8.00026+0.00249796\ttest-rmse:8.00593+0.0152055\n",
      "[1600]\ttrain-rmse:8.00007+0.00262158\ttest-rmse:8.00559+0.0152269\n",
      "[1610]\ttrain-rmse:7.99961+0.00269513\ttest-rmse:8.00523+0.0152383\n",
      "[1620]\ttrain-rmse:7.99916+0.00257075\ttest-rmse:8.00477+0.0153323\n",
      "[1630]\ttrain-rmse:7.99878+0.0026788\ttest-rmse:8.00432+0.0152755\n",
      "[1640]\ttrain-rmse:7.99851+0.00274355\ttest-rmse:8.00392+0.0153531\n",
      "[1650]\ttrain-rmse:7.99789+0.00276019\ttest-rmse:8.00351+0.015297\n",
      "[1660]\ttrain-rmse:7.99737+0.00259754\ttest-rmse:8.00317+0.015242\n",
      "[1670]\ttrain-rmse:7.99709+0.00283122\ttest-rmse:8.00291+0.0151412\n",
      "[1680]\ttrain-rmse:7.99673+0.00273321\ttest-rmse:8.00254+0.0150865\n",
      "[1690]\ttrain-rmse:7.99645+0.00260589\ttest-rmse:8.00209+0.01511\n",
      "[1700]\ttrain-rmse:7.99604+0.00284245\ttest-rmse:8.00173+0.0151123\n",
      "[1710]\ttrain-rmse:7.99565+0.00259266\ttest-rmse:8.0013+0.0151854\n",
      "[1720]\ttrain-rmse:7.99538+0.00265472\ttest-rmse:8.00094+0.0151638\n",
      "[1730]\ttrain-rmse:7.9948+0.00277142\ttest-rmse:8.00068+0.0151511\n",
      "[1740]\ttrain-rmse:7.9947+0.00266985\ttest-rmse:8.00035+0.0151369\n",
      "[1750]\ttrain-rmse:7.99438+0.00265127\ttest-rmse:8.00009+0.015161\n",
      "[1760]\ttrain-rmse:7.99402+0.00277612\ttest-rmse:7.99976+0.0151598\n",
      "[1770]\ttrain-rmse:7.99394+0.00282649\ttest-rmse:7.99931+0.0151174\n",
      "[1780]\ttrain-rmse:7.99352+0.00276537\ttest-rmse:7.99911+0.0151309\n",
      "[1790]\ttrain-rmse:7.99325+0.00273232\ttest-rmse:7.99874+0.0151067\n",
      "[1800]\ttrain-rmse:7.99292+0.00284663\ttest-rmse:7.99848+0.0150622\n",
      "[1810]\ttrain-rmse:7.99267+0.00273528\ttest-rmse:7.99815+0.0150587\n",
      "[1820]\ttrain-rmse:7.99231+0.00282512\ttest-rmse:7.99783+0.0150279\n",
      "[1830]\ttrain-rmse:7.99195+0.00293724\ttest-rmse:7.99753+0.0150354\n",
      "[1840]\ttrain-rmse:7.99181+0.00288388\ttest-rmse:7.99726+0.0149606\n",
      "[1850]\ttrain-rmse:7.99153+0.00280501\ttest-rmse:7.9971+0.0149494\n",
      "[1860]\ttrain-rmse:7.99109+0.00294453\ttest-rmse:7.99685+0.0149407\n",
      "[1870]\ttrain-rmse:7.99084+0.00289909\ttest-rmse:7.99657+0.0149189\n",
      "[1880]\ttrain-rmse:7.99046+0.00316799\ttest-rmse:7.99621+0.0148616\n",
      "[1890]\ttrain-rmse:7.9904+0.00298317\ttest-rmse:7.99595+0.0149188\n",
      "[1900]\ttrain-rmse:7.99017+0.00323015\ttest-rmse:7.99579+0.0148826\n",
      "[1910]\ttrain-rmse:7.98975+0.00321711\ttest-rmse:7.9954+0.0148129\n",
      "[1920]\ttrain-rmse:7.9896+0.00304305\ttest-rmse:7.99521+0.0148624\n",
      "[1930]\ttrain-rmse:7.98917+0.00301694\ttest-rmse:7.99492+0.0149239\n",
      "[1940]\ttrain-rmse:7.98896+0.00288915\ttest-rmse:7.99473+0.0148394\n",
      "[1950]\ttrain-rmse:7.98873+0.00307716\ttest-rmse:7.99453+0.0148671\n",
      "[1960]\ttrain-rmse:7.98846+0.00280538\ttest-rmse:7.99423+0.0149079\n",
      "[1970]\ttrain-rmse:7.98811+0.00302109\ttest-rmse:7.99402+0.0148627\n",
      "[1980]\ttrain-rmse:7.98786+0.00297177\ttest-rmse:7.99379+0.01491\n",
      "[1990]\ttrain-rmse:7.98761+0.00309188\ttest-rmse:7.99351+0.0148396\n",
      "[1999]\ttrain-rmse:7.9875+0.00310129\ttest-rmse:7.99331+0.0148414\n",
      "[0]\ttrain-rmse:58.1048+0.00881315\ttest-rmse:58.1046+0.0349208\n",
      "[10]\ttrain-rmse:14.4191+0.0812273\ttest-rmse:14.4217+0.0725792\n",
      "[20]\ttrain-rmse:8.60103+0.0261775\ttest-rmse:8.6053+0.0279687\n",
      "[30]\ttrain-rmse:8.11075+0.012073\ttest-rmse:8.11583+0.0251889\n",
      "[40]\ttrain-rmse:8.01707+0.00788338\ttest-rmse:8.02197+0.0137046\n",
      "[50]\ttrain-rmse:7.97899+0.0101049\ttest-rmse:7.98408+0.0167996\n",
      "[60]\ttrain-rmse:7.95876+0.00722965\ttest-rmse:7.96393+0.0157565\n",
      "[70]\ttrain-rmse:7.94516+0.00685142\ttest-rmse:7.95073+0.0130995\n",
      "[80]\ttrain-rmse:7.9345+0.00607457\ttest-rmse:7.94046+0.0129759\n",
      "[90]\ttrain-rmse:7.92604+0.00514203\ttest-rmse:7.93197+0.0135209\n",
      "[100]\ttrain-rmse:7.92042+0.00439522\ttest-rmse:7.92674+0.0138851\n",
      "[110]\ttrain-rmse:7.91733+0.00434511\ttest-rmse:7.92369+0.0138023\n",
      "[120]\ttrain-rmse:7.91457+0.00423237\ttest-rmse:7.92101+0.0140346\n",
      "[130]\ttrain-rmse:7.91226+0.00432099\ttest-rmse:7.91891+0.0140266\n",
      "[140]\ttrain-rmse:7.91063+0.00380797\ttest-rmse:7.9172+0.0141094\n",
      "[150]\ttrain-rmse:7.90918+0.00394212\ttest-rmse:7.91577+0.0141508\n",
      "[160]\ttrain-rmse:7.90813+0.00390139\ttest-rmse:7.91492+0.0141925\n",
      "[170]\ttrain-rmse:7.90747+0.00395069\ttest-rmse:7.91436+0.0141255\n",
      "[180]\ttrain-rmse:7.90699+0.00382252\ttest-rmse:7.91394+0.0140481\n",
      "[190]\ttrain-rmse:7.90642+0.00367726\ttest-rmse:7.91358+0.0142135\n",
      "[200]\ttrain-rmse:7.90607+0.00370597\ttest-rmse:7.91312+0.0142373\n",
      "[210]\ttrain-rmse:7.90578+0.00372274\ttest-rmse:7.91286+0.0141188\n",
      "[220]\ttrain-rmse:7.9054+0.00367756\ttest-rmse:7.91266+0.0142012\n",
      "[230]\ttrain-rmse:7.90541+0.00358741\ttest-rmse:7.91241+0.0142791\n",
      "[240]\ttrain-rmse:7.90509+0.00351609\ttest-rmse:7.91222+0.0143002\n",
      "[250]\ttrain-rmse:7.90493+0.00365805\ttest-rmse:7.91205+0.0143131\n",
      "[260]\ttrain-rmse:7.90494+0.00354568\ttest-rmse:7.91196+0.0143639\n",
      "[270]\ttrain-rmse:7.90483+0.00353518\ttest-rmse:7.91187+0.014407\n",
      "[280]\ttrain-rmse:7.90477+0.00359913\ttest-rmse:7.91181+0.0143348\n",
      "[290]\ttrain-rmse:7.90444+0.00355557\ttest-rmse:7.91173+0.0142042\n",
      "[300]\ttrain-rmse:7.90444+0.00357749\ttest-rmse:7.91168+0.0142161\n",
      "[310]\ttrain-rmse:7.90424+0.00354585\ttest-rmse:7.91164+0.0141697\n",
      "[320]\ttrain-rmse:7.90428+0.00361547\ttest-rmse:7.91155+0.014144\n",
      "[330]\ttrain-rmse:7.90428+0.00350702\ttest-rmse:7.91145+0.0142245\n",
      "[340]\ttrain-rmse:7.90415+0.00344318\ttest-rmse:7.91137+0.0140816\n",
      "[350]\ttrain-rmse:7.90408+0.00360178\ttest-rmse:7.91144+0.0141936\n",
      "[360]\ttrain-rmse:7.90411+0.00351537\ttest-rmse:7.91136+0.0142014\n",
      "[370]\ttrain-rmse:7.90403+0.0035759\ttest-rmse:7.91135+0.014129\n",
      "[380]\ttrain-rmse:7.90408+0.00363605\ttest-rmse:7.91133+0.0141816\n",
      "[390]\ttrain-rmse:7.90401+0.0036319\ttest-rmse:7.91119+0.0142252\n",
      "[400]\ttrain-rmse:7.90403+0.00357173\ttest-rmse:7.91124+0.0142684\n",
      "[410]\ttrain-rmse:7.90412+0.00356114\ttest-rmse:7.9112+0.0142827\n",
      "[420]\ttrain-rmse:7.90395+0.00349255\ttest-rmse:7.91122+0.0142089\n",
      "[430]\ttrain-rmse:7.90384+0.00364909\ttest-rmse:7.91128+0.014137\n",
      "[440]\ttrain-rmse:7.90401+0.00365635\ttest-rmse:7.91122+0.0141114\n",
      "[450]\ttrain-rmse:7.90382+0.00363089\ttest-rmse:7.91122+0.0141783\n",
      "[0]\ttrain-rmse:58.0082+0.00825503\ttest-rmse:58.012+0.0353173\n",
      "[10]\ttrain-rmse:14.0812+0.0503091\ttest-rmse:14.0865+0.0435509\n",
      "[20]\ttrain-rmse:8.30594+0.0164395\ttest-rmse:8.31251+0.0199555\n",
      "[30]\ttrain-rmse:7.9336+0.0049256\ttest-rmse:7.94114+0.0175453\n",
      "[40]\ttrain-rmse:7.90826+0.00356317\ttest-rmse:7.91487+0.0144967\n",
      "[50]\ttrain-rmse:7.90463+0.00348742\ttest-rmse:7.91161+0.0144207\n",
      "[60]\ttrain-rmse:7.90398+0.00346962\ttest-rmse:7.911+0.0142751\n",
      "[70]\ttrain-rmse:7.90385+0.00350666\ttest-rmse:7.91084+0.0142623\n"
     ]
    },
    {
     "name": "stdout",
     "output_type": "stream",
     "text": [
      "[80]\ttrain-rmse:7.90381+0.00356785\ttest-rmse:7.91075+0.0142499\n",
      "[90]\ttrain-rmse:7.90357+0.00346372\ttest-rmse:7.91092+0.0143307\n",
      "[100]\ttrain-rmse:7.90353+0.00341649\ttest-rmse:7.9109+0.0142211\n",
      "[110]\ttrain-rmse:7.9036+0.00343007\ttest-rmse:7.91087+0.014192\n",
      "[{'test_error': 7.9107411999999995, 'params': {'colsample_bytree': 0.7, 'eta': 0.1, 'eval_metric': 'rmse', 'max_depth': 12, 'n_jobs': -1, 'seed': 87, 'subsample': 0.75, 'n_estimators': 154}}, {'test_error': 7.9107546, 'params': {'colsample_bytree': 0.7, 'eta': 0.15, 'eval_metric': 'rmse', 'max_depth': 12, 'n_jobs': -1, 'seed': 87, 'subsample': 0.75, 'n_estimators': 80}}, {'test_error': 7.910778400000001, 'params': {'colsample_bytree': 0.7, 'eta': 0.05, 'eval_metric': 'rmse', 'max_depth': 12, 'n_jobs': -1, 'seed': 87, 'subsample': 0.75, 'n_estimators': 393}}, {'test_error': 7.911035, 'params': {'colsample_bytree': 0.7, 'eta': 0.1, 'eval_metric': 'rmse', 'max_depth': 8, 'n_jobs': -1, 'seed': 87, 'subsample': 0.75, 'n_estimators': 640}}, {'test_error': 7.911094800000001, 'params': {'colsample_bytree': 0.7, 'eta': 0.15, 'eval_metric': 'rmse', 'max_depth': 8, 'n_jobs': -1, 'seed': 87, 'subsample': 0.75, 'n_estimators': 416}}, {'test_error': 7.9111486, 'params': {'colsample_bytree': 0.7, 'eta': 0.05, 'eval_metric': 'rmse', 'max_depth': 8, 'n_jobs': -1, 'seed': 87, 'subsample': 0.75, 'n_estimators': 1099}}, {'test_error': 7.993308799999999, 'params': {'colsample_bytree': 0.7, 'eta': 0.15, 'eval_metric': 'rmse', 'max_depth': 4, 'n_jobs': -1, 'seed': 87, 'subsample': 0.75, 'n_estimators': 1999}}, {'test_error': 8.016975200000001, 'params': {'colsample_bytree': 0.7, 'eta': 0.1, 'eval_metric': 'rmse', 'max_depth': 4, 'n_jobs': -1, 'seed': 87, 'subsample': 0.75, 'n_estimators': 1999}}, {'test_error': 8.0832648, 'params': {'colsample_bytree': 0.7, 'eta': 0.05, 'eval_metric': 'rmse', 'max_depth': 4, 'n_jobs': -1, 'seed': 87, 'subsample': 0.75, 'n_estimators': 1999}}]\n",
      "{'colsample_bytree': 0.7, 'eta': 0.1, 'eval_metric': 'rmse', 'max_depth': 12, 'n_jobs': -1, 'seed': 87, 'subsample': 0.75, 'n_estimators': 154}\n"
     ]
    }
   ],
   "source": [
    "# List of tested parameters:\n",
    "results = []\n",
    "tested_params = []\n",
    "optimal_params = {}\n",
    "\n",
    "# Create for loop iterating through all parameter combinations\n",
    "for i, parameters in enumerate(prm_grid):\n",
    "    \n",
    "    cvresult = xgb.cv(parameters, dtrain, num_boost_round=2000, nfold=5,\n",
    "                     early_stopping_rounds=40, callbacks=None, shuffle=True, verbose_eval=10, seed=87)\n",
    "    parameters['n_estimators'] = len(cvresult) - 1\n",
    "    results.append({'test_error':cvresult['test-rmse-mean'].values[-1], 'params':parameters})\n",
    "\n",
    "results = sorted(results, key=lambda k: k['test_error'])\n",
    "print(results)\n",
    "best_result = results[0]\n",
    "print(best_result['params'])\n"
   ]
  },
  {
   "cell_type": "code",
   "execution_count": 51,
   "metadata": {},
   "outputs": [
    {
     "name": "stderr",
     "output_type": "stream",
     "text": [
      "/Library/Frameworks/Python.framework/Versions/3.6/lib/python3.6/site-packages/xgboost/core.py:587: FutureWarning: Series.base is deprecated and will be removed in a future version\n",
      "  if getattr(data, 'base', None) is not None and \\\n"
     ]
    },
    {
     "name": "stdout",
     "output_type": "stream",
     "text": [
      "[19:46:37] WARNING: src/objective/regression_obj.cu:152: reg:linear is now deprecated in favor of reg:squarederror.\n"
     ]
    }
   ],
   "source": [
    "# Run XGBRegressor with best params\n",
    "xgb_reg = xgb.XGBRegressor(**best_result['params'], nthreads=-2)\n",
    "xgb_reg.fit(X_train, Y_train)\n",
    "joblib.dump(xgb_reg, 'sup_capstone_xgb.joblib')"
   ]
  },
  {
   "cell_type": "code",
   "execution_count": 52,
   "metadata": {},
   "outputs": [
    {
     "name": "stdout",
     "output_type": "stream",
     "text": [
      "[19:57:43] WARNING: src/objective/regression_obj.cu:152: reg:linear is now deprecated in favor of reg:squarederror.\n"
     ]
    }
   ],
   "source": [
    "xgb_reg = joblib.load('sup_capstone_xgb.joblib')\n",
    "y_pred = xgb_reg.predict(X_test)"
   ]
  },
  {
   "cell_type": "code",
   "execution_count": 53,
   "metadata": {},
   "outputs": [
    {
     "data": {
      "text/plain": [
       "0.14128759589728782"
      ]
     },
     "execution_count": 53,
     "metadata": {},
     "output_type": "execute_result"
    }
   ],
   "source": [
    "rmsle(Y_test, y_pred)"
   ]
  },
  {
   "cell_type": "code",
   "execution_count": 199,
   "metadata": {},
   "outputs": [
    {
     "data": {
      "image/png": "[encoded data removed]",
      "text/plain": [
       "<Figure size 720x576 with 1 Axes>"
      ]
     },
     "metadata": {
      "needs_background": "light"
     },
     "output_type": "display_data"
    }
   ],
   "source": [
    "# Feature importance plot for XGBRegressor\n",
    "fig, axes = plt.subplots(figsize=(10, 8))\n",
    "xgb.plot_importance(xgb_reg, ax=axes, height=1, max_num_features=10)\n",
    "plt.show()"
   ]
  },
  {
   "cell_type": "markdown",
   "metadata": {},
   "source": [
    "We'll just go through this plot, one by one, evaluating against our 'price' variable to see if we can improve the interpretability of our XGBoost model.\n",
    "\n",
    "To start out though, we'll create a heatmap to see if there are any significant correlations with the 'price' column."
   ]
  },
  {
   "cell_type": "code",
   "execution_count": 108,
   "metadata": {},
   "outputs": [
    {
     "data": {
      "image/png": "[encoded data removed]",
      "text/plain": [
       "<Figure size 720x576 with 2 Axes>"
      ]
     },
     "metadata": {
      "needs_background": "light"
     },
     "output_type": "display_data"
    }
   ],
   "source": [
    "imp_feats = features[['price', 'trip_duration', 'fare_Flexible', 'sat_sun', 'fri_mon',\n",
    "                     'midweek', 'dep_8-12', 'fare_Promo', 'dep_12-16', 'train_class_Turista',\n",
    "                     'origin_MADRID']].copy()\n",
    "\n",
    "plt.figure(figsize=(10, 8))\n",
    "sns.heatmap(imp_feats.corr(), cmap='coolwarm', annot=True)\n",
    "plt.title('Correlations for \"price\" and top 10 most important features')\n",
    "plt.show()"
   ]
  },
  {
   "cell_type": "markdown",
   "metadata": {},
   "source": [
    "Looking specifically at the correlations along the __price__ row/column, we see that there are only 3 mild correlations: a weak positive correlation with __fare_Flexible__, and weak negative correlations with __trip_duration__ and __train_class_Turista__.\n",
    "\n",
    "From here we can move on to the bivariate comparisons.\n",
    "\n",
    "#### trip_duration\n",
    "\n",
    "For continuity, I'll recreate the visualization from our EDA at the beginning of the project showing the weak relationship petween price and trip_duration."
   ]
  },
  {
   "cell_type": "code",
   "execution_count": 116,
   "metadata": {},
   "outputs": [
    {
     "data": {
      "image/png": "[encoded data removed]",
      "text/plain": [
       "<Figure size 432x432 with 3 Axes>"
      ]
     },
     "metadata": {
      "needs_background": "light"
     },
     "output_type": "display_data"
    },
    {
     "name": "stdout",
     "output_type": "stream",
     "text": [
      "correlation coefficient: -0.2967237585821644\n"
     ]
    }
   ],
   "source": [
    "sns.jointplot(x='trip_duration', y='price', data=features)\n",
    "plt.suptitle('Prices by Trip Duration Jointplot')\n",
    "plt.show()\n",
    "\n",
    "print('correlation coefficient:', features['price'].corr(features['trip_duration']))"
   ]
  },
  {
   "cell_type": "markdown",
   "metadata": {},
   "source": [
    "It's a weak negative correlation, and being the highest among the feature importance ranking, it can only go down from here. But, we may also see that the correlation coefficient is not the sole factor in determining a feature's predictive power.\n",
    "\n",
    "#### fare_Flexible"
   ]
  },
  {
   "cell_type": "code",
   "execution_count": 190,
   "metadata": {},
   "outputs": [
    {
     "data": {
      "image/png": "[encoded data removed]",
      "text/plain": [
       "<Figure size 432x288 with 1 Axes>"
      ]
     },
     "metadata": {
      "needs_background": "light"
     },
     "output_type": "display_data"
    },
    {
     "name": "stdout",
     "output_type": "stream",
     "text": [
      "T-test for independent sample means:\n"
     ]
    },
    {
     "data": {
      "text/plain": [
       "Ttest_indResult(statistic=-590.2530146219468, pvalue=0.0)"
      ]
     },
     "execution_count": 190,
     "metadata": {},
     "output_type": "execute_result"
    }
   ],
   "source": [
    "sns.boxplot(x='fare_Flexible', y='price', data=features)\n",
    "plt.suptitle('Prices by fare_Flexible feature Jointplot')\n",
    "plt.show()\n",
    "\n",
    "print(\"T-test for independent sample means:\")\n",
    "ttest_ind(features[features['fare_Flexible']==0]['price'],\n",
    "          features[features['fare_Flexible']==1]['price'])"
   ]
  },
  {
   "cell_type": "markdown",
   "metadata": {},
   "source": [
    "Again, a weak correlation, this time positive. It appears, however, that the IQR for fare_Flexible==1 is almost identical to fare_Flexible==0 increased by about 25 Euros. The median values are closer than this.\n",
    "\n",
    "Flexible fares come with benefits: they are fully refundable and offer seat choice. The upcharge to make a fare flexible may be a set price.\n",
    "\n",
    "Our T-test shows that the means are not the same.\n",
    "\n",
    "#### sat_sun"
   ]
  },
  {
   "cell_type": "code",
   "execution_count": 191,
   "metadata": {},
   "outputs": [
    {
     "data": {
      "image/png": "[encoded data removed]",
      "text/plain": [
       "<Figure size 432x288 with 1 Axes>"
      ]
     },
     "metadata": {
      "needs_background": "light"
     },
     "output_type": "display_data"
    },
    {
     "name": "stdout",
     "output_type": "stream",
     "text": [
      "T-test for independent sample means:\n"
     ]
    },
    {
     "data": {
      "text/plain": [
       "Ttest_indResult(statistic=-72.99485944169244, pvalue=0.0)"
      ]
     },
     "execution_count": 191,
     "metadata": {},
     "output_type": "execute_result"
    }
   ],
   "source": [
    "sns.boxplot(x='sat_sun', y='price', data=features)\n",
    "plt.suptitle('Prices by sat & sun departures feature boxplot')\n",
    "plt.show()\n",
    "\n",
    "print(\"T-test for independent sample means:\")\n",
    "ttest_ind(features[features['sat_sun']==0]['price'],\n",
    "          features[features['sat_sun']==1]['price'])"
   ]
  },
  {
   "cell_type": "markdown",
   "metadata": {},
   "source": [
    "We have a very weak positive correlation here, but it's possible to see a slight increase in price of sat_sun==1 over sat_sun==0. It will be interesting to see what the other day groupings show as we continue. Again, the T-test shows that we must reject a null hypothesis that the means are the same.\n",
    "\n",
    "#### fri_mon"
   ]
  },
  {
   "cell_type": "code",
   "execution_count": 192,
   "metadata": {},
   "outputs": [
    {
     "data": {
      "image/png": "[encoded data removed]",
      "text/plain": [
       "<Figure size 432x288 with 1 Axes>"
      ]
     },
     "metadata": {
      "needs_background": "light"
     },
     "output_type": "display_data"
    },
    {
     "name": "stdout",
     "output_type": "stream",
     "text": [
      "T-test for independent sample means:\n"
     ]
    },
    {
     "data": {
      "text/plain": [
       "Ttest_indResult(statistic=-58.34122914200193, pvalue=0.0)"
      ]
     },
     "execution_count": 192,
     "metadata": {},
     "output_type": "execute_result"
    }
   ],
   "source": [
    "sns.boxplot(x='fri_mon', y='price', data=features)\n",
    "plt.suptitle('Prices by fri & mon departures feature boxplot')\n",
    "plt.show()\n",
    "\n",
    "print(\"T-test for independent sample means:\")\n",
    "ttest_ind(features[features['fri_mon']==0]['price'],\n",
    "          features[features['fri_mon']==1]['price'])"
   ]
  },
  {
   "cell_type": "markdown",
   "metadata": {},
   "source": [
    "Again a very weak positive correlation. There's hardly any visual difference between the two aside from the outlier distribution. The t-statistic is slightly larger than in the 'sat_sun' column, but still not significant.\n",
    "\n",
    "#### midweek"
   ]
  },
  {
   "cell_type": "code",
   "execution_count": 193,
   "metadata": {},
   "outputs": [
    {
     "data": {
      "image/png": "[encoded data removed]",
      "text/plain": [
       "<Figure size 432x288 with 1 Axes>"
      ]
     },
     "metadata": {
      "needs_background": "light"
     },
     "output_type": "display_data"
    },
    {
     "name": "stdout",
     "output_type": "stream",
     "text": [
      "T-test for independent sample means:\n"
     ]
    },
    {
     "data": {
      "text/plain": [
       "Ttest_indResult(statistic=116.88949085292192, pvalue=0.0)"
      ]
     },
     "execution_count": 193,
     "metadata": {},
     "output_type": "execute_result"
    }
   ],
   "source": [
    "sns.boxplot(x='midweek', y='price', data=features)\n",
    "plt.suptitle('Prices by midweek departures feature boxplot')\n",
    "plt.show()\n",
    "\n",
    "print(\"T-test for independent sample means:\")\n",
    "ttest_ind(features[features['midweek']==0]['price'],\n",
    "          features[features['midweek']==1]['price'])"
   ]
  },
  {
   "cell_type": "markdown",
   "metadata": {},
   "source": [
    "As could be expected from the other two weekday divisions, the midweek trips tend toward slightly cheaper ticket prices. It's a very weak association, but at least it follows a common sense analysis. Our T-test shows again that we cannot accept a null hypothesis where the means are the same.\n",
    "\n",
    "#### dep_8-12 (departures between 8am and 12pm)"
   ]
  },
  {
   "cell_type": "code",
   "execution_count": 194,
   "metadata": {},
   "outputs": [
    {
     "data": {
      "image/png": "[encoded data removed]",
      "text/plain": [
       "<Figure size 432x288 with 1 Axes>"
      ]
     },
     "metadata": {
      "needs_background": "light"
     },
     "output_type": "display_data"
    },
    {
     "name": "stdout",
     "output_type": "stream",
     "text": [
      "T-test for independent sample means:\n"
     ]
    },
    {
     "data": {
      "text/plain": [
       "Ttest_indResult(statistic=26.110404226216883, pvalue=2.92390863627067e-150)"
      ]
     },
     "execution_count": 194,
     "metadata": {},
     "output_type": "execute_result"
    }
   ],
   "source": [
    "sns.boxplot(x='dep_8-12', y='price', data=features)\n",
    "plt.suptitle('Prices by 8-12 departure time feature boxplot')\n",
    "plt.show()\n",
    "\n",
    "print(\"T-test for independent sample means:\")\n",
    "ttest_ind(features[features['dep_8-12']==0]['price'],\n",
    "          features[features['dep_8-12']==1]['price'])"
   ]
  },
  {
   "cell_type": "markdown",
   "metadata": {},
   "source": [
    "Here I was expecting to perhaps see a positive relationship, as people might be taking the train to work and rush fares are typically higher, but this is not the case. While our p-value is above 0.0, it is still below a 0.05 level of significance, and thus, we'll reject the hypothesis of equal means.\n",
    "\n",
    "#### fare_Promo"
   ]
  },
  {
   "cell_type": "code",
   "execution_count": 195,
   "metadata": {},
   "outputs": [
    {
     "data": {
      "image/png": "[encoded data removed]",
      "text/plain": [
       "<Figure size 432x288 with 1 Axes>"
      ]
     },
     "metadata": {
      "needs_background": "light"
     },
     "output_type": "display_data"
    },
    {
     "name": "stdout",
     "output_type": "stream",
     "text": [
      "T-test for independent sample means:\n"
     ]
    },
    {
     "data": {
      "text/plain": [
       "Ttest_indResult(statistic=69.9324089398403, pvalue=0.0)"
      ]
     },
     "execution_count": 195,
     "metadata": {},
     "output_type": "execute_result"
    }
   ],
   "source": [
    "sns.boxplot(x='fare_Promo', y='price', data=features)\n",
    "plt.suptitle('Prices by fare==Promo feature boxplot')\n",
    "plt.show()\n",
    "\n",
    "print(\"T-test for independent sample means:\")\n",
    "ttest_ind(features[features['fare_Promo']==0]['price'],\n",
    "          features[features['fare_Promo']==1]['price'])"
   ]
  },
  {
   "cell_type": "markdown",
   "metadata": {},
   "source": [
    "We can see that the boxplots look quite different, whisker length, box size, and median. We also will reject the null hypothesis of equal means, so we can say the means have some difference as well.\n",
    "\n",
    "#### dep_12-16 (departures between 12pm and 4pm)"
   ]
  },
  {
   "cell_type": "code",
   "execution_count": 196,
   "metadata": {},
   "outputs": [
    {
     "data": {
      "image/png": "[encoded data removed]",
      "text/plain": [
       "<Figure size 432x288 with 1 Axes>"
      ]
     },
     "metadata": {
      "needs_background": "light"
     },
     "output_type": "display_data"
    },
    {
     "name": "stdout",
     "output_type": "stream",
     "text": [
      "T-test for independent sample means:\n"
     ]
    },
    {
     "data": {
      "text/plain": [
       "Ttest_indResult(statistic=54.63225992407432, pvalue=0.0)"
      ]
     },
     "execution_count": 196,
     "metadata": {},
     "output_type": "execute_result"
    }
   ],
   "source": [
    "sns.boxplot(x='dep_12-16', y='price', data=features)\n",
    "plt.suptitle('Prices by 12-16 departure time feature boxplot')\n",
    "plt.show()\n",
    "\n",
    "print(\"T-test for independent sample means:\")\n",
    "ttest_ind(features[features['dep_12-16']==0]['price'],\n",
    "          features[features['dep_12-16']==1]['price'])"
   ]
  },
  {
   "cell_type": "markdown",
   "metadata": {},
   "source": [
    "The boxplot makes it look like a weak negative relationship between the fare prices and departures between noon and 4pm. Midday fares are probably cheaper than high volume rush hours. Again, we reject the null hypothesis, the mean ticket prices between 12-4pm fares and others are not equal.\n",
    "\n",
    "#### train_class_Turista"
   ]
  },
  {
   "cell_type": "code",
   "execution_count": 197,
   "metadata": {},
   "outputs": [
    {
     "data": {
      "image/png": "[encoded data removed]",
      "text/plain": [
       "<Figure size 432x288 with 1 Axes>"
      ]
     },
     "metadata": {
      "needs_background": "light"
     },
     "output_type": "display_data"
    },
    {
     "name": "stdout",
     "output_type": "stream",
     "text": [
      "T-test for independent sample means:\n"
     ]
    },
    {
     "data": {
      "text/plain": [
       "Ttest_indResult(statistic=284.45416378969156, pvalue=0.0)"
      ]
     },
     "execution_count": 197,
     "metadata": {},
     "output_type": "execute_result"
    }
   ],
   "source": [
    "sns.boxplot(x='train_class_Turista', y='price', data=features)\n",
    "plt.suptitle('Prices by Turista class train fares boxplot')\n",
    "plt.show()\n",
    "\n",
    "print(\"T-test for independent sample means:\")\n",
    "ttest_ind(features[features['train_class_Turista']==0]['price'],\n",
    "          features[features['train_class_Turista']==1]['price'])"
   ]
  },
  {
   "cell_type": "markdown",
   "metadata": {},
   "source": [
    "Turista is basically the economy class, so it's a bit of a given that it's going to correlate with lower prices. The boxplot validates this, as does out T-test, that the means are not equal.\n",
    "\n",
    "#### origin_MADRID"
   ]
  },
  {
   "cell_type": "code",
   "execution_count": 198,
   "metadata": {},
   "outputs": [
    {
     "data": {
      "image/png": "[encoded data removed]",
      "text/plain": [
       "<Figure size 432x288 with 1 Axes>"
      ]
     },
     "metadata": {
      "needs_background": "light"
     },
     "output_type": "display_data"
    },
    {
     "name": "stdout",
     "output_type": "stream",
     "text": [
      "T-test for independent sample means:\n"
     ]
    },
    {
     "data": {
      "text/plain": [
       "Ttest_indResult(statistic=-41.584370317596616, pvalue=0.0)"
      ]
     },
     "execution_count": 198,
     "metadata": {},
     "output_type": "execute_result"
    }
   ],
   "source": [
    "sns.boxplot(x='origin_MADRID', y='price', data=features)\n",
    "plt.suptitle('Prices for tickets leaving from Madrid vs all others')\n",
    "plt.show()\n",
    "\n",
    "print(\"T-test for independent sample means:\")\n",
    "ttest_ind(features[features['origin_MADRID']==0]['price'],\n",
    "          features[features['origin_MADRID']==1]['price'])"
   ]
  },
  {
   "cell_type": "markdown",
   "metadata": {},
   "source": [
    "All we can really tell from this is that the means are not equal. This plot isn't telling us a lot, and I have a feeling that the feature importance for origin_MADRID is reflecting the dominance of this origin city over others (as was seen in the countplots during EDA). I want to extend our feature importance list and see where the next most popular city, Barcelona, shows up."
   ]
  },
  {
   "cell_type": "code",
   "execution_count": 158,
   "metadata": {},
   "outputs": [
    {
     "data": {
      "text/html": [
       "<div>\n",
       "<style scoped>\n",
       "    .dataframe tbody tr th:only-of-type {\n",
       "        vertical-align: middle;\n",
       "    }\n",
       "\n",
       "    .dataframe tbody tr th {\n",
       "        vertical-align: top;\n",
       "    }\n",
       "\n",
       "    .dataframe thead th {\n",
       "        text-align: right;\n",
       "    }\n",
       "</style>\n",
       "<table border=\"1\" class=\"dataframe\">\n",
       "  <thead>\n",
       "    <tr style=\"text-align: right;\">\n",
       "      <th></th>\n",
       "      <th>feature</th>\n",
       "      <th>importance</th>\n",
       "    </tr>\n",
       "  </thead>\n",
       "  <tbody>\n",
       "    <tr>\n",
       "      <th>0</th>\n",
       "      <td>trip_duration</td>\n",
       "      <td>24516</td>\n",
       "    </tr>\n",
       "    <tr>\n",
       "      <th>1</th>\n",
       "      <td>fare_Flexible</td>\n",
       "      <td>7328</td>\n",
       "    </tr>\n",
       "    <tr>\n",
       "      <th>24</th>\n",
       "      <td>sat_sun</td>\n",
       "      <td>6925</td>\n",
       "    </tr>\n",
       "    <tr>\n",
       "      <th>5</th>\n",
       "      <td>fri_mon</td>\n",
       "      <td>6420</td>\n",
       "    </tr>\n",
       "    <tr>\n",
       "      <th>6</th>\n",
       "      <td>midweek</td>\n",
       "      <td>4490</td>\n",
       "    </tr>\n",
       "    <tr>\n",
       "      <th>7</th>\n",
       "      <td>dep_8-12</td>\n",
       "      <td>3878</td>\n",
       "    </tr>\n",
       "    <tr>\n",
       "      <th>27</th>\n",
       "      <td>fare_Promo</td>\n",
       "      <td>3548</td>\n",
       "    </tr>\n",
       "    <tr>\n",
       "      <th>21</th>\n",
       "      <td>dep_12-16</td>\n",
       "      <td>3151</td>\n",
       "    </tr>\n",
       "    <tr>\n",
       "      <th>30</th>\n",
       "      <td>train_class_Turista</td>\n",
       "      <td>2981</td>\n",
       "    </tr>\n",
       "    <tr>\n",
       "      <th>9</th>\n",
       "      <td>origin_MADRID</td>\n",
       "      <td>2971</td>\n",
       "    </tr>\n",
       "    <tr>\n",
       "      <th>8</th>\n",
       "      <td>dep_20-8</td>\n",
       "      <td>2840</td>\n",
       "    </tr>\n",
       "    <tr>\n",
       "      <th>25</th>\n",
       "      <td>dep_16-20</td>\n",
       "      <td>2814</td>\n",
       "    </tr>\n",
       "    <tr>\n",
       "      <th>2</th>\n",
       "      <td>train_class_Preferente</td>\n",
       "      <td>2755</td>\n",
       "    </tr>\n",
       "    <tr>\n",
       "      <th>31</th>\n",
       "      <td>train_class_Turista Plus</td>\n",
       "      <td>2270</td>\n",
       "    </tr>\n",
       "    <tr>\n",
       "      <th>32</th>\n",
       "      <td>origin_BARCELONA</td>\n",
       "      <td>1557</td>\n",
       "    </tr>\n",
       "  </tbody>\n",
       "</table>\n",
       "</div>"
      ],
      "text/plain": [
       "                     feature  importance\n",
       "0              trip_duration       24516\n",
       "1              fare_Flexible        7328\n",
       "24                   sat_sun        6925\n",
       "5                    fri_mon        6420\n",
       "6                    midweek        4490\n",
       "7                   dep_8-12        3878\n",
       "27                fare_Promo        3548\n",
       "21                 dep_12-16        3151\n",
       "30       train_class_Turista        2981\n",
       "9              origin_MADRID        2971\n",
       "8                   dep_20-8        2840\n",
       "25                 dep_16-20        2814\n",
       "2     train_class_Preferente        2755\n",
       "31  train_class_Turista Plus        2270\n",
       "32          origin_BARCELONA        1557"
      ]
     },
     "execution_count": 158,
     "metadata": {},
     "output_type": "execute_result"
    }
   ],
   "source": [
    "feat_importance_df = pd.DataFrame(list(xgb_reg.get_booster().get_fscore().items()),\n",
    "                                 columns=['feature', 'importance']).sort_values('importance',\n",
    "                                                                          ascending=False)\n",
    "feat_importance_df.head(15)"
   ]
  },
  {
   "cell_type": "markdown",
   "metadata": {},
   "source": [
    "origin_BARCELONA appears as the 15th most important feature in our model. Perhaps a more balanced method for approaching __origin__ would be to group the remaining 3 cities (Ponferrada, Sevilla, and Valencia) together to create 3 outcomes for this feature."
   ]
  },
  {
   "cell_type": "code",
   "execution_count": 187,
   "metadata": {},
   "outputs": [
    {
     "data": {
      "image/png": "[encoded data removed]",
      "text/plain": [
       "<Figure size 720x504 with 2 Axes>"
      ]
     },
     "metadata": {
      "needs_background": "light"
     },
     "output_type": "display_data"
    },
    {
     "name": "stdout",
     "output_type": "stream",
     "text": [
      "ANOVA test of origin2 column\n"
     ]
    },
    {
     "data": {
      "text/plain": [
       "F_onewayResult(statistic=284775.88284425123, pvalue=0.0)"
      ]
     },
     "execution_count": 187,
     "metadata": {},
     "output_type": "execute_result"
    }
   ],
   "source": [
    "data['origin2'] = data['origin'].where((data['origin']=='MADRID') | (data['origin']=='BARCELONA'), 'OTHER')\n",
    "\n",
    "plt.subplots(figsize=(10, 7))\n",
    "\n",
    "plt.subplot(1, 2, 1)\n",
    "sns.countplot(x='origin2', data=data)\n",
    "plt.title(\"boxplot, new origin grouping\")\n",
    "plt.xlabel('origin city')\n",
    "\n",
    "plt.subplot(1, 2, 2)\n",
    "sns.boxplot(x='origin2', y='price', data=data)\n",
    "plt.title('boxplot of new origin column and fare prices')\n",
    "plt.xlabel(\"origin city\")\n",
    "\n",
    "plt.show()\n",
    "\n",
    "print('ANOVA test of origin2 column')\n",
    "f_oneway(data[data['origin2']=='MADRID']['price'],\n",
    "         data[data['origin2']=='BARCELONA']['price'],\n",
    "         data[data['origin2']=='OTHER']['price'])"
   ]
  },
  {
   "cell_type": "markdown",
   "metadata": {},
   "source": [
    "This appears like it could be a helpful grouping - OTHER is well-populated and shows fewer outliers on the right-hand plot while also looking more consistent with the size and IQR of the MADRID and BARCELONA boxplots. None of the groups have the same mean from the ANOVA, which is also important, as they'll tell us different things.\n",
    "\n",
    "## _Final Analysis and Interpretation_\n",
    "\n",
    "After testing out a few models, our best model is actually a tie between RandomForestRegressor and XGBoost. While they both achieved an RMSLE value of 0.14, I would ultimately choose XGBoost. When translating our results back to a business expert, feature importance is one of the most tangible findings of this project, and XGBoost has a very easy, built-in method for visualizing that.\n",
    "\n",
    "Speaking of feature importance, we could see that trip duration, day of the week, flexible and promo fares, and Turista class trains are some of the features that tell us the most about fare prices. \n",
    "\n",
    "One of the first areas I would expand this project is a further exploration of the hour groupings. To do this, I would start by creating a multiple boxplot with a box for each one hour increment. This way, you could see if the data naturally splits itself in a way that may perform better. It may also improve the accuracy to perform the same kind of analysis of each day of the week to see if our 3 groupings are in fact ideal.\n",
    "\n",
    "Other areas of improvement are treatment of outliers (we could apply winsorizing), feature reduction using principal component analysis, and expanded hyperparameter tuning to try and squeeze any additional performance out of our model."
   ]
  },
  {
   "cell_type": "code",
   "execution_count": 23,
   "metadata": {},
   "outputs": [
    {
     "data": {
      "text/plain": [
       "(18152, 46)"
      ]
     },
     "execution_count": 23,
     "metadata": {},
     "output_type": "execute_result"
    }
   ],
   "source": [
    "X_train_subset = X_train.iloc[:(X_train.shape[0]//100), :]\n",
    "X_train_subset.shape"
   ]
  },
  {
   "cell_type": "code",
   "execution_count": 24,
   "metadata": {},
   "outputs": [
    {
     "data": {
      "text/plain": [
       "(18152,)"
      ]
     },
     "execution_count": 24,
     "metadata": {},
     "output_type": "execute_result"
    }
   ],
   "source": [
    "Y_train_subset = Y_train.iloc[:(Y_train.shape[0]//100)]\n",
    "Y_train_subset.shape"
   ]
  },
  {
   "cell_type": "code",
   "execution_count": null,
   "metadata": {},
   "outputs": [],
   "source": [
    "mlp_params = {'hidden_layer_sizes' : [(1000,), (10000,), (100, 10), (1000, 10)],\n",
    "              'activation' : ['relu', 'logistic'],\n",
    "              'n_iter_no_change' : [10, 50],\n",
    "              'learning_rate' : ['constant', 'adaptive'],\n",
    "              'learning_rate_init' : [.001]}"
   ]
  },
  {
   "cell_type": "code",
   "execution_count": null,
   "metadata": {},
   "outputs": [
    {
     "name": "stdout",
     "output_type": "stream",
     "text": [
      "Fitting 3 folds for each of 7 candidates, totalling 21 fits\n"
     ]
    },
    {
     "name": "stderr",
     "output_type": "stream",
     "text": [
      "[Parallel(n_jobs=-2)]: Using backend LokyBackend with 3 concurrent workers.\n"
     ]
    }
   ],
   "source": [
    "hidden_layer_params = {'hidden_layer_sizes' : [(100), (1000,), (10000,), (100, 10), \n",
    "                                                   (1000, 10), (100, 100), (1000, 100)],}\n",
    "    \n",
    "mlp_grid = GridSearchCV(estimator=MLPRegressor(early_stopping=True), \n",
    "                        param_grid=hidden_layer_params, cv=3, n_jobs=-2, verbose=2)\n",
    "\n",
    "mlp_grid.fit(X_train, Y_train)"
   ]
  },
  {
   "cell_type": "code",
   "execution_count": 26,
   "metadata": {},
   "outputs": [
    {
     "ename": "AttributeError",
     "evalue": "'GridSearchCV' object has no attribute 'best_params_'",
     "output_type": "error",
     "traceback": [
      "\u001b[0;31m---------------------------------------------------------------------------\u001b[0m",
      "\u001b[0;31mAttributeError\u001b[0m                            Traceback (most recent call last)",
      "\u001b[0;32m<ipython-input-26-c5e363a7eb58>\u001b[0m in \u001b[0;36m<module>\u001b[0;34m\u001b[0m\n\u001b[0;32m----> 1\u001b[0;31m \u001b[0mmlp_grid\u001b[0m\u001b[0;34m.\u001b[0m\u001b[0mbest_params_\u001b[0m\u001b[0;34m\u001b[0m\u001b[0m\n\u001b[0m",
      "\u001b[0;31mAttributeError\u001b[0m: 'GridSearchCV' object has no attribute 'best_params_'"
     ]
    }
   ],
   "source": [
    "mlp_grid.best_params_"
   ]
  },
  {
   "cell_type": "code",
   "execution_count": 54,
   "metadata": {},
   "outputs": [
    {
     "data": {
      "text/plain": [
       "MLPRegressor(activation='logistic', alpha=0.0001, batch_size='auto', beta_1=0.9,\n",
       "             beta_2=0.999, early_stopping=True, epsilon=1e-08,\n",
       "             hidden_layer_sizes=(100,), learning_rate='constant',\n",
       "             learning_rate_init=0.001, max_iter=200, momentum=0.9,\n",
       "             n_iter_no_change=10, nesterovs_momentum=True, power_t=0.5,\n",
       "             random_state=None, shuffle=True, solver='adam', tol=0.0001,\n",
       "             validation_fraction=0.1, verbose=False, warm_start=False)"
      ]
     },
     "execution_count": 54,
     "metadata": {},
     "output_type": "execute_result"
    }
   ],
   "source": [
    "mlp_model = MLPRegressor(hidden_layer_sizes=(100,), n_iter_no_change=10, early_stopping=True,\n",
    "                         solver='adam', activation='logistic')\n",
    "mlp_model.fit(X_train, Y_train)\n",
    "joblib.dump(mlp_model, 'sup_capstone_mlp.joblib')"
   ]
  },
  {
   "cell_type": "code",
   "execution_count": 55,
   "metadata": {},
   "outputs": [
    {
     "data": {
      "text/plain": [
       "0.43085947724951773"
      ]
     },
     "execution_count": 55,
     "metadata": {},
     "output_type": "execute_result"
    }
   ],
   "source": [
    "mlp_model = joblib.load('sup_capstone_mlp.joblib')\n",
    "y_pred = mlp_model.predict(X_test)\n",
    "rmsle(Y_test, y_pred)"
   ]
  },
  {
   "cell_type": "markdown",
   "metadata": {},
   "source": [
    "Our Multi-Layer Perceptron model is performing slightly better than the Linear SVR model, but much worse than Random Forest Regressor or XGBoost. This corresponds to our predicted values being about 1.5 times larger than the actual values."
   ]
  }
 ],
 "metadata": {
  "kernelspec": {
   "display_name": "Python 3",
   "language": "python",
   "name": "python3"
  },
  "language_info": {
   "codemirror_mode": {
    "name": "ipython",
    "version": 3
   },
   "file_extension": ".py",
   "mimetype": "text/x-python",
   "name": "python",
   "nbconvert_exporter": "python",
   "pygments_lexer": "ipython3",
   "version": "3.6.5"
  }
 },
 "nbformat": 4,
 "nbformat_minor": 2
}
